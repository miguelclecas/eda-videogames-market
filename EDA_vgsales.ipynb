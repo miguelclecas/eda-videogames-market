{
  "cells": [
    {
      "cell_type": "markdown",
      "id": "9bb780fd",
      "metadata": {
        "id": "9bb780fd"
      },
      "source": [
        "# Data Exploratory Analysis: Video games sales"
      ]
    },
    {
      "cell_type": "markdown",
      "id": "689470d2",
      "metadata": {
        "id": "689470d2"
      },
      "source": [
        "## Table of Contents\n",
        "<ul><li><a href=\"#intro\">Introduction</a></li>\n",
        "<li><a href=\"#wrangling\">Data Cleaning: Missing Values</a></li>\n",
        "<li><a href=\"#eda\">Exploratory Data Analysis</a></li>\n",
        "<li><a href=\"#conclusions\">Conclusions</a></li></ul>"
      ]
    },
    {
      "cell_type": "markdown",
      "id": "f4874fe9",
      "metadata": {
        "id": "f4874fe9"
      },
      "source": [
        "<a id='intro'></a>\n",
        "## Introduction\n",
        "\n",
        "This data set contains information about the sales of different videogames in USA, Europe, Japan, Other and Global sales. \n",
        "\n",
        "<a id='wrangling'></a>\n",
        "## Structure and characteristics of the dataset\n",
        "\n",
        "Each row contains the information about a videogame.\n",
        "The columns of the data set, other than these sales, are the following ones:\n",
        "*  Rank: shows the ranking of the Global sales for that videogame.\n",
        "*  Name: shows the name of the videogame.\n",
        "*  Platform: shows the platform of that videogame (Wii, PS2, XBox...)\n",
        "*  Year: shows the year in which the videogame was published.\n",
        "*  Genre: shows the genre of the videogame.\n",
        "*  Publisher: shows the publisher of the videogame.\n",
        "\n",
        "### General Properties"
      ]
    },
    {
      "cell_type": "markdown",
      "id": "8ca71a4b",
      "metadata": {
        "id": "8ca71a4b"
      },
      "source": [
        "#### Import libraries"
      ]
    },
    {
      "cell_type": "code",
      "execution_count": null,
      "id": "b0e7a022",
      "metadata": {
        "id": "b0e7a022"
      },
      "outputs": [],
      "source": [
        "import pandas as pd\n",
        "import numpy as np\n",
        "import seaborn as sns\n",
        "import plotly.express as px\n",
        "import matplotlib.pyplot as plt"
      ]
    },
    {
      "cell_type": "markdown",
      "source": [
        "#### Import Google Drive"
      ],
      "metadata": {
        "id": "QXpRGkm1Dti7"
      },
      "id": "QXpRGkm1Dti7"
    },
    {
      "cell_type": "code",
      "source": [
        "from google.colab import drive\n",
        "drive.mount('/content/drive')"
      ],
      "metadata": {
        "colab": {
          "base_uri": "https://localhost:8080/"
        },
        "id": "RGg3XqZ0DrSg",
        "outputId": "d5eb351b-1edd-4cef-ba9f-c09404e501a0"
      },
      "id": "RGg3XqZ0DrSg",
      "execution_count": null,
      "outputs": [
        {
          "output_type": "stream",
          "name": "stdout",
          "text": [
            "Drive already mounted at /content/drive; to attempt to forcibly remount, call drive.mount(\"/content/drive\", force_remount=True).\n"
          ]
        }
      ]
    },
    {
      "cell_type": "markdown",
      "id": "deafbd0f",
      "metadata": {
        "id": "deafbd0f"
      },
      "source": [
        "#### Import and print dataset"
      ]
    },
    {
      "cell_type": "code",
      "execution_count": null,
      "id": "18ee1b06",
      "metadata": {
        "id": "18ee1b06",
        "colab": {
          "base_uri": "https://localhost:8080/"
        },
        "outputId": "5d234ae9-afa1-4814-f6ed-248141d641af"
      },
      "outputs": [
        {
          "output_type": "execute_result",
          "data": {
            "text/plain": [
              "   Rank                      Name Platform    Year         Genre Publisher  \\\n",
              "0     1                Wii Sports      Wii  2006.0        Sports  Nintendo   \n",
              "1     2         Super Mario Bros.      NES  1985.0      Platform  Nintendo   \n",
              "2     3            Mario Kart Wii      Wii  2008.0        Racing  Nintendo   \n",
              "3     4         Wii Sports Resort      Wii  2009.0        Sports  Nintendo   \n",
              "4     5  Pokemon Red/Pokemon Blue       GB  1996.0  Role-Playing  Nintendo   \n",
              "\n",
              "   NA_Sales EU_Sales  JP_Sales KR_Sales  Other_Sales  Global_Sales  \n",
              "0     41.49    29.02      3.77      NaN         8.46         82.74  \n",
              "1     29.08     3.58      6.81      NaN         0.77         40.24  \n",
              "2     15.85    12.88      3.79      NaN         3.31         35.82  \n",
              "3     15.75    11.01      3.28      NaN         2.96         33.00  \n",
              "4     11.27     8.89     10.22      NaN         1.00         31.37  "
            ],
            "text/html": [
              "\n",
              "  <div id=\"df-bd3ff7c1-2db6-493e-859a-e178fb9cb947\">\n",
              "    <div class=\"colab-df-container\">\n",
              "      <div>\n",
              "<style scoped>\n",
              "    .dataframe tbody tr th:only-of-type {\n",
              "        vertical-align: middle;\n",
              "    }\n",
              "\n",
              "    .dataframe tbody tr th {\n",
              "        vertical-align: top;\n",
              "    }\n",
              "\n",
              "    .dataframe thead th {\n",
              "        text-align: right;\n",
              "    }\n",
              "</style>\n",
              "<table border=\"1\" class=\"dataframe\">\n",
              "  <thead>\n",
              "    <tr style=\"text-align: right;\">\n",
              "      <th></th>\n",
              "      <th>Rank</th>\n",
              "      <th>Name</th>\n",
              "      <th>Platform</th>\n",
              "      <th>Year</th>\n",
              "      <th>Genre</th>\n",
              "      <th>Publisher</th>\n",
              "      <th>NA_Sales</th>\n",
              "      <th>EU_Sales</th>\n",
              "      <th>JP_Sales</th>\n",
              "      <th>KR_Sales</th>\n",
              "      <th>Other_Sales</th>\n",
              "      <th>Global_Sales</th>\n",
              "    </tr>\n",
              "  </thead>\n",
              "  <tbody>\n",
              "    <tr>\n",
              "      <th>0</th>\n",
              "      <td>1</td>\n",
              "      <td>Wii Sports</td>\n",
              "      <td>Wii</td>\n",
              "      <td>2006.0</td>\n",
              "      <td>Sports</td>\n",
              "      <td>Nintendo</td>\n",
              "      <td>41.49</td>\n",
              "      <td>29.02</td>\n",
              "      <td>3.77</td>\n",
              "      <td>NaN</td>\n",
              "      <td>8.46</td>\n",
              "      <td>82.74</td>\n",
              "    </tr>\n",
              "    <tr>\n",
              "      <th>1</th>\n",
              "      <td>2</td>\n",
              "      <td>Super Mario Bros.</td>\n",
              "      <td>NES</td>\n",
              "      <td>1985.0</td>\n",
              "      <td>Platform</td>\n",
              "      <td>Nintendo</td>\n",
              "      <td>29.08</td>\n",
              "      <td>3.58</td>\n",
              "      <td>6.81</td>\n",
              "      <td>NaN</td>\n",
              "      <td>0.77</td>\n",
              "      <td>40.24</td>\n",
              "    </tr>\n",
              "    <tr>\n",
              "      <th>2</th>\n",
              "      <td>3</td>\n",
              "      <td>Mario Kart Wii</td>\n",
              "      <td>Wii</td>\n",
              "      <td>2008.0</td>\n",
              "      <td>Racing</td>\n",
              "      <td>Nintendo</td>\n",
              "      <td>15.85</td>\n",
              "      <td>12.88</td>\n",
              "      <td>3.79</td>\n",
              "      <td>NaN</td>\n",
              "      <td>3.31</td>\n",
              "      <td>35.82</td>\n",
              "    </tr>\n",
              "    <tr>\n",
              "      <th>3</th>\n",
              "      <td>4</td>\n",
              "      <td>Wii Sports Resort</td>\n",
              "      <td>Wii</td>\n",
              "      <td>2009.0</td>\n",
              "      <td>Sports</td>\n",
              "      <td>Nintendo</td>\n",
              "      <td>15.75</td>\n",
              "      <td>11.01</td>\n",
              "      <td>3.28</td>\n",
              "      <td>NaN</td>\n",
              "      <td>2.96</td>\n",
              "      <td>33.00</td>\n",
              "    </tr>\n",
              "    <tr>\n",
              "      <th>4</th>\n",
              "      <td>5</td>\n",
              "      <td>Pokemon Red/Pokemon Blue</td>\n",
              "      <td>GB</td>\n",
              "      <td>1996.0</td>\n",
              "      <td>Role-Playing</td>\n",
              "      <td>Nintendo</td>\n",
              "      <td>11.27</td>\n",
              "      <td>8.89</td>\n",
              "      <td>10.22</td>\n",
              "      <td>NaN</td>\n",
              "      <td>1.00</td>\n",
              "      <td>31.37</td>\n",
              "    </tr>\n",
              "  </tbody>\n",
              "</table>\n",
              "</div>\n",
              "      <button class=\"colab-df-convert\" onclick=\"convertToInteractive('df-bd3ff7c1-2db6-493e-859a-e178fb9cb947')\"\n",
              "              title=\"Convert this dataframe to an interactive table.\"\n",
              "              style=\"display:none;\">\n",
              "        \n",
              "  <svg xmlns=\"http://www.w3.org/2000/svg\" height=\"24px\"viewBox=\"0 0 24 24\"\n",
              "       width=\"24px\">\n",
              "    <path d=\"M0 0h24v24H0V0z\" fill=\"none\"/>\n",
              "    <path d=\"M18.56 5.44l.94 2.06.94-2.06 2.06-.94-2.06-.94-.94-2.06-.94 2.06-2.06.94zm-11 1L8.5 8.5l.94-2.06 2.06-.94-2.06-.94L8.5 2.5l-.94 2.06-2.06.94zm10 10l.94 2.06.94-2.06 2.06-.94-2.06-.94-.94-2.06-.94 2.06-2.06.94z\"/><path d=\"M17.41 7.96l-1.37-1.37c-.4-.4-.92-.59-1.43-.59-.52 0-1.04.2-1.43.59L10.3 9.45l-7.72 7.72c-.78.78-.78 2.05 0 2.83L4 21.41c.39.39.9.59 1.41.59.51 0 1.02-.2 1.41-.59l7.78-7.78 2.81-2.81c.8-.78.8-2.07 0-2.86zM5.41 20L4 18.59l7.72-7.72 1.47 1.35L5.41 20z\"/>\n",
              "  </svg>\n",
              "      </button>\n",
              "      \n",
              "  <style>\n",
              "    .colab-df-container {\n",
              "      display:flex;\n",
              "      flex-wrap:wrap;\n",
              "      gap: 12px;\n",
              "    }\n",
              "\n",
              "    .colab-df-convert {\n",
              "      background-color: #E8F0FE;\n",
              "      border: none;\n",
              "      border-radius: 50%;\n",
              "      cursor: pointer;\n",
              "      display: none;\n",
              "      fill: #1967D2;\n",
              "      height: 32px;\n",
              "      padding: 0 0 0 0;\n",
              "      width: 32px;\n",
              "    }\n",
              "\n",
              "    .colab-df-convert:hover {\n",
              "      background-color: #E2EBFA;\n",
              "      box-shadow: 0px 1px 2px rgba(60, 64, 67, 0.3), 0px 1px 3px 1px rgba(60, 64, 67, 0.15);\n",
              "      fill: #174EA6;\n",
              "    }\n",
              "\n",
              "    [theme=dark] .colab-df-convert {\n",
              "      background-color: #3B4455;\n",
              "      fill: #D2E3FC;\n",
              "    }\n",
              "\n",
              "    [theme=dark] .colab-df-convert:hover {\n",
              "      background-color: #434B5C;\n",
              "      box-shadow: 0px 1px 3px 1px rgba(0, 0, 0, 0.15);\n",
              "      filter: drop-shadow(0px 1px 2px rgba(0, 0, 0, 0.3));\n",
              "      fill: #FFFFFF;\n",
              "    }\n",
              "  </style>\n",
              "\n",
              "      <script>\n",
              "        const buttonEl =\n",
              "          document.querySelector('#df-bd3ff7c1-2db6-493e-859a-e178fb9cb947 button.colab-df-convert');\n",
              "        buttonEl.style.display =\n",
              "          google.colab.kernel.accessAllowed ? 'block' : 'none';\n",
              "\n",
              "        async function convertToInteractive(key) {\n",
              "          const element = document.querySelector('#df-bd3ff7c1-2db6-493e-859a-e178fb9cb947');\n",
              "          const dataTable =\n",
              "            await google.colab.kernel.invokeFunction('convertToInteractive',\n",
              "                                                     [key], {});\n",
              "          if (!dataTable) return;\n",
              "\n",
              "          const docLinkHtml = 'Like what you see? Visit the ' +\n",
              "            '<a target=\"_blank\" href=https://colab.research.google.com/notebooks/data_table.ipynb>data table notebook</a>'\n",
              "            + ' to learn more about interactive tables.';\n",
              "          element.innerHTML = '';\n",
              "          dataTable['output_type'] = 'display_data';\n",
              "          await google.colab.output.renderOutput(dataTable, element);\n",
              "          const docLink = document.createElement('div');\n",
              "          docLink.innerHTML = docLinkHtml;\n",
              "          element.appendChild(docLink);\n",
              "        }\n",
              "      </script>\n",
              "    </div>\n",
              "  </div>\n",
              "  "
            ]
          },
          "metadata": {},
          "execution_count": 354
        }
      ],
      "source": [
        "# The dataset is loaded with Pandas\n",
        "df = pd.read_csv(\"/content/drive/MyDrive/Colab Notebooks/Pandas/archivos/vgsales.csv\")\n",
        "df.head()"
      ]
    },
    {
      "cell_type": "markdown",
      "source": [
        "The column \"Rank\" tells us the ranking of the most sold games. To get these is as simple as sorting the data set by global sales, as it is right now. That column can be removed."
      ],
      "metadata": {
        "id": "a00JnN8YJVjJ"
      },
      "id": "a00JnN8YJVjJ"
    },
    {
      "cell_type": "code",
      "source": [
        "df.drop([\"Rank\"], axis = 1, inplace = True)\n",
        "df.head()"
      ],
      "metadata": {
        "colab": {
          "base_uri": "https://localhost:8080/"
        },
        "id": "JHov9KHYJhtC",
        "outputId": "88f9ed8e-c527-4242-fc21-83bae97eb53d"
      },
      "id": "JHov9KHYJhtC",
      "execution_count": null,
      "outputs": [
        {
          "output_type": "execute_result",
          "data": {
            "text/plain": [
              "                       Name Platform    Year         Genre Publisher  \\\n",
              "0                Wii Sports      Wii  2006.0        Sports  Nintendo   \n",
              "1         Super Mario Bros.      NES  1985.0      Platform  Nintendo   \n",
              "2            Mario Kart Wii      Wii  2008.0        Racing  Nintendo   \n",
              "3         Wii Sports Resort      Wii  2009.0        Sports  Nintendo   \n",
              "4  Pokemon Red/Pokemon Blue       GB  1996.0  Role-Playing  Nintendo   \n",
              "\n",
              "   NA_Sales EU_Sales  JP_Sales KR_Sales  Other_Sales  Global_Sales  \n",
              "0     41.49    29.02      3.77      NaN         8.46         82.74  \n",
              "1     29.08     3.58      6.81      NaN         0.77         40.24  \n",
              "2     15.85    12.88      3.79      NaN         3.31         35.82  \n",
              "3     15.75    11.01      3.28      NaN         2.96         33.00  \n",
              "4     11.27     8.89     10.22      NaN         1.00         31.37  "
            ],
            "text/html": [
              "\n",
              "  <div id=\"df-29387a2f-c588-403a-a510-8e832b62777b\">\n",
              "    <div class=\"colab-df-container\">\n",
              "      <div>\n",
              "<style scoped>\n",
              "    .dataframe tbody tr th:only-of-type {\n",
              "        vertical-align: middle;\n",
              "    }\n",
              "\n",
              "    .dataframe tbody tr th {\n",
              "        vertical-align: top;\n",
              "    }\n",
              "\n",
              "    .dataframe thead th {\n",
              "        text-align: right;\n",
              "    }\n",
              "</style>\n",
              "<table border=\"1\" class=\"dataframe\">\n",
              "  <thead>\n",
              "    <tr style=\"text-align: right;\">\n",
              "      <th></th>\n",
              "      <th>Name</th>\n",
              "      <th>Platform</th>\n",
              "      <th>Year</th>\n",
              "      <th>Genre</th>\n",
              "      <th>Publisher</th>\n",
              "      <th>NA_Sales</th>\n",
              "      <th>EU_Sales</th>\n",
              "      <th>JP_Sales</th>\n",
              "      <th>KR_Sales</th>\n",
              "      <th>Other_Sales</th>\n",
              "      <th>Global_Sales</th>\n",
              "    </tr>\n",
              "  </thead>\n",
              "  <tbody>\n",
              "    <tr>\n",
              "      <th>0</th>\n",
              "      <td>Wii Sports</td>\n",
              "      <td>Wii</td>\n",
              "      <td>2006.0</td>\n",
              "      <td>Sports</td>\n",
              "      <td>Nintendo</td>\n",
              "      <td>41.49</td>\n",
              "      <td>29.02</td>\n",
              "      <td>3.77</td>\n",
              "      <td>NaN</td>\n",
              "      <td>8.46</td>\n",
              "      <td>82.74</td>\n",
              "    </tr>\n",
              "    <tr>\n",
              "      <th>1</th>\n",
              "      <td>Super Mario Bros.</td>\n",
              "      <td>NES</td>\n",
              "      <td>1985.0</td>\n",
              "      <td>Platform</td>\n",
              "      <td>Nintendo</td>\n",
              "      <td>29.08</td>\n",
              "      <td>3.58</td>\n",
              "      <td>6.81</td>\n",
              "      <td>NaN</td>\n",
              "      <td>0.77</td>\n",
              "      <td>40.24</td>\n",
              "    </tr>\n",
              "    <tr>\n",
              "      <th>2</th>\n",
              "      <td>Mario Kart Wii</td>\n",
              "      <td>Wii</td>\n",
              "      <td>2008.0</td>\n",
              "      <td>Racing</td>\n",
              "      <td>Nintendo</td>\n",
              "      <td>15.85</td>\n",
              "      <td>12.88</td>\n",
              "      <td>3.79</td>\n",
              "      <td>NaN</td>\n",
              "      <td>3.31</td>\n",
              "      <td>35.82</td>\n",
              "    </tr>\n",
              "    <tr>\n",
              "      <th>3</th>\n",
              "      <td>Wii Sports Resort</td>\n",
              "      <td>Wii</td>\n",
              "      <td>2009.0</td>\n",
              "      <td>Sports</td>\n",
              "      <td>Nintendo</td>\n",
              "      <td>15.75</td>\n",
              "      <td>11.01</td>\n",
              "      <td>3.28</td>\n",
              "      <td>NaN</td>\n",
              "      <td>2.96</td>\n",
              "      <td>33.00</td>\n",
              "    </tr>\n",
              "    <tr>\n",
              "      <th>4</th>\n",
              "      <td>Pokemon Red/Pokemon Blue</td>\n",
              "      <td>GB</td>\n",
              "      <td>1996.0</td>\n",
              "      <td>Role-Playing</td>\n",
              "      <td>Nintendo</td>\n",
              "      <td>11.27</td>\n",
              "      <td>8.89</td>\n",
              "      <td>10.22</td>\n",
              "      <td>NaN</td>\n",
              "      <td>1.00</td>\n",
              "      <td>31.37</td>\n",
              "    </tr>\n",
              "  </tbody>\n",
              "</table>\n",
              "</div>\n",
              "      <button class=\"colab-df-convert\" onclick=\"convertToInteractive('df-29387a2f-c588-403a-a510-8e832b62777b')\"\n",
              "              title=\"Convert this dataframe to an interactive table.\"\n",
              "              style=\"display:none;\">\n",
              "        \n",
              "  <svg xmlns=\"http://www.w3.org/2000/svg\" height=\"24px\"viewBox=\"0 0 24 24\"\n",
              "       width=\"24px\">\n",
              "    <path d=\"M0 0h24v24H0V0z\" fill=\"none\"/>\n",
              "    <path d=\"M18.56 5.44l.94 2.06.94-2.06 2.06-.94-2.06-.94-.94-2.06-.94 2.06-2.06.94zm-11 1L8.5 8.5l.94-2.06 2.06-.94-2.06-.94L8.5 2.5l-.94 2.06-2.06.94zm10 10l.94 2.06.94-2.06 2.06-.94-2.06-.94-.94-2.06-.94 2.06-2.06.94z\"/><path d=\"M17.41 7.96l-1.37-1.37c-.4-.4-.92-.59-1.43-.59-.52 0-1.04.2-1.43.59L10.3 9.45l-7.72 7.72c-.78.78-.78 2.05 0 2.83L4 21.41c.39.39.9.59 1.41.59.51 0 1.02-.2 1.41-.59l7.78-7.78 2.81-2.81c.8-.78.8-2.07 0-2.86zM5.41 20L4 18.59l7.72-7.72 1.47 1.35L5.41 20z\"/>\n",
              "  </svg>\n",
              "      </button>\n",
              "      \n",
              "  <style>\n",
              "    .colab-df-container {\n",
              "      display:flex;\n",
              "      flex-wrap:wrap;\n",
              "      gap: 12px;\n",
              "    }\n",
              "\n",
              "    .colab-df-convert {\n",
              "      background-color: #E8F0FE;\n",
              "      border: none;\n",
              "      border-radius: 50%;\n",
              "      cursor: pointer;\n",
              "      display: none;\n",
              "      fill: #1967D2;\n",
              "      height: 32px;\n",
              "      padding: 0 0 0 0;\n",
              "      width: 32px;\n",
              "    }\n",
              "\n",
              "    .colab-df-convert:hover {\n",
              "      background-color: #E2EBFA;\n",
              "      box-shadow: 0px 1px 2px rgba(60, 64, 67, 0.3), 0px 1px 3px 1px rgba(60, 64, 67, 0.15);\n",
              "      fill: #174EA6;\n",
              "    }\n",
              "\n",
              "    [theme=dark] .colab-df-convert {\n",
              "      background-color: #3B4455;\n",
              "      fill: #D2E3FC;\n",
              "    }\n",
              "\n",
              "    [theme=dark] .colab-df-convert:hover {\n",
              "      background-color: #434B5C;\n",
              "      box-shadow: 0px 1px 3px 1px rgba(0, 0, 0, 0.15);\n",
              "      filter: drop-shadow(0px 1px 2px rgba(0, 0, 0, 0.3));\n",
              "      fill: #FFFFFF;\n",
              "    }\n",
              "  </style>\n",
              "\n",
              "      <script>\n",
              "        const buttonEl =\n",
              "          document.querySelector('#df-29387a2f-c588-403a-a510-8e832b62777b button.colab-df-convert');\n",
              "        buttonEl.style.display =\n",
              "          google.colab.kernel.accessAllowed ? 'block' : 'none';\n",
              "\n",
              "        async function convertToInteractive(key) {\n",
              "          const element = document.querySelector('#df-29387a2f-c588-403a-a510-8e832b62777b');\n",
              "          const dataTable =\n",
              "            await google.colab.kernel.invokeFunction('convertToInteractive',\n",
              "                                                     [key], {});\n",
              "          if (!dataTable) return;\n",
              "\n",
              "          const docLinkHtml = 'Like what you see? Visit the ' +\n",
              "            '<a target=\"_blank\" href=https://colab.research.google.com/notebooks/data_table.ipynb>data table notebook</a>'\n",
              "            + ' to learn more about interactive tables.';\n",
              "          element.innerHTML = '';\n",
              "          dataTable['output_type'] = 'display_data';\n",
              "          await google.colab.output.renderOutput(dataTable, element);\n",
              "          const docLink = document.createElement('div');\n",
              "          docLink.innerHTML = docLinkHtml;\n",
              "          element.appendChild(docLink);\n",
              "        }\n",
              "      </script>\n",
              "    </div>\n",
              "  </div>\n",
              "  "
            ]
          },
          "metadata": {},
          "execution_count": 355
        }
      ]
    },
    {
      "cell_type": "markdown",
      "id": "4c8d32b9",
      "metadata": {
        "id": "4c8d32b9"
      },
      "source": [
        "#### How big is the dataset? (Check rows & columns)"
      ]
    },
    {
      "cell_type": "code",
      "execution_count": null,
      "id": "39c401f4",
      "metadata": {
        "id": "39c401f4",
        "colab": {
          "base_uri": "https://localhost:8080/"
        },
        "outputId": "6963e11b-1943-46fa-ab4f-34c41d529fb4"
      },
      "outputs": [
        {
          "output_type": "execute_result",
          "data": {
            "text/plain": [
              "(16601, 11)"
            ]
          },
          "metadata": {},
          "execution_count": 356
        }
      ],
      "source": [
        "# Let's check how many columns and rows the data set has\n",
        "df.shape"
      ]
    },
    {
      "cell_type": "markdown",
      "id": "b6af86bd",
      "metadata": {
        "id": "b6af86bd"
      },
      "source": [
        "#### Print name of all columns"
      ]
    },
    {
      "cell_type": "code",
      "execution_count": null,
      "id": "18c768fc",
      "metadata": {
        "id": "18c768fc",
        "colab": {
          "base_uri": "https://localhost:8080/"
        },
        "outputId": "ca780f7b-f996-461b-d9a1-a6881c834fe9"
      },
      "outputs": [
        {
          "output_type": "execute_result",
          "data": {
            "text/plain": [
              "Index(['Name', 'Platform', 'Year', 'Genre', 'Publisher', 'NA_Sales',\n",
              "       'EU_Sales', 'JP_Sales', 'KR_Sales', 'Other_Sales', 'Global_Sales'],\n",
              "      dtype='object')"
            ]
          },
          "metadata": {},
          "execution_count": 357
        }
      ],
      "source": [
        "# Checking the name of the columns\n",
        "df.columns"
      ]
    },
    {
      "cell_type": "markdown",
      "id": "ce29cd9b",
      "metadata": {
        "id": "ce29cd9b"
      },
      "source": [
        "#### Checking the type of data for each column"
      ]
    },
    {
      "cell_type": "code",
      "execution_count": null,
      "id": "abdc2312",
      "metadata": {
        "id": "abdc2312",
        "colab": {
          "base_uri": "https://localhost:8080/"
        },
        "outputId": "b6aaee18-afbd-46a0-864d-ffb22ac82d0a"
      },
      "outputs": [
        {
          "output_type": "stream",
          "name": "stdout",
          "text": [
            "<class 'pandas.core.frame.DataFrame'>\n",
            "RangeIndex: 16601 entries, 0 to 16600\n",
            "Data columns (total 11 columns):\n",
            " #   Column        Non-Null Count  Dtype  \n",
            "---  ------        --------------  -----  \n",
            " 0   Name          16590 non-null  object \n",
            " 1   Platform      16583 non-null  object \n",
            " 2   Year          16327 non-null  float64\n",
            " 3   Genre         15941 non-null  object \n",
            " 4   Publisher     16533 non-null  object \n",
            " 5   NA_Sales      16598 non-null  float64\n",
            " 6   EU_Sales      16598 non-null  object \n",
            " 7   JP_Sales      16597 non-null  float64\n",
            " 8   KR_Sales      56 non-null     object \n",
            " 9   Other_Sales   16598 non-null  float64\n",
            " 10  Global_Sales  16558 non-null  float64\n",
            "dtypes: float64(5), object(6)\n",
            "memory usage: 1.4+ MB\n"
          ]
        }
      ],
      "source": [
        "# Type information for each column and non-null exploration\n",
        "df.info()"
      ]
    },
    {
      "cell_type": "markdown",
      "source": [
        "Europe sales data are in string instead of float. This information should be changed."
      ],
      "metadata": {
        "id": "195fbwmoEXcp"
      },
      "id": "195fbwmoEXcp"
    },
    {
      "cell_type": "code",
      "source": [
        "df['EU_Sales'] = df['EU_Sales'].str.replace('O','0')"
      ],
      "metadata": {
        "id": "9UruyO1AEkMN"
      },
      "id": "9UruyO1AEkMN",
      "execution_count": null,
      "outputs": []
    },
    {
      "cell_type": "code",
      "source": [
        "df[\"EU_Sales\"] = df['EU_Sales'].astype(float)\n",
        "df.info()"
      ],
      "metadata": {
        "colab": {
          "base_uri": "https://localhost:8080/"
        },
        "id": "43CfqzOCGpeJ",
        "outputId": "b1952b16-6c17-498c-f48d-b15d227ddfec"
      },
      "id": "43CfqzOCGpeJ",
      "execution_count": null,
      "outputs": [
        {
          "output_type": "stream",
          "name": "stdout",
          "text": [
            "<class 'pandas.core.frame.DataFrame'>\n",
            "RangeIndex: 16601 entries, 0 to 16600\n",
            "Data columns (total 11 columns):\n",
            " #   Column        Non-Null Count  Dtype  \n",
            "---  ------        --------------  -----  \n",
            " 0   Name          16590 non-null  object \n",
            " 1   Platform      16583 non-null  object \n",
            " 2   Year          16327 non-null  float64\n",
            " 3   Genre         15941 non-null  object \n",
            " 4   Publisher     16533 non-null  object \n",
            " 5   NA_Sales      16598 non-null  float64\n",
            " 6   EU_Sales      16598 non-null  float64\n",
            " 7   JP_Sales      16597 non-null  float64\n",
            " 8   KR_Sales      56 non-null     object \n",
            " 9   Other_Sales   16598 non-null  float64\n",
            " 10  Global_Sales  16558 non-null  float64\n",
            "dtypes: float64(6), object(5)\n",
            "memory usage: 1.4+ MB\n"
          ]
        }
      ]
    },
    {
      "cell_type": "markdown",
      "id": "e15abc2d",
      "metadata": {
        "id": "e15abc2d"
      },
      "source": [
        "#### Statistical description of the dataset"
      ]
    },
    {
      "cell_type": "code",
      "execution_count": null,
      "id": "4478bccc",
      "metadata": {
        "id": "4478bccc",
        "colab": {
          "base_uri": "https://localhost:8080/"
        },
        "outputId": "8373f3e0-bcb5-44ff-d0b7-09867718580a"
      },
      "outputs": [
        {
          "output_type": "execute_result",
          "data": {
            "text/plain": [
              "               Year      NA_Sales      EU_Sales      JP_Sales   Other_Sales  \\\n",
              "count  16327.000000  16598.000000  16598.000000  16597.000000  16598.000000   \n",
              "mean    2006.406443      0.264667      0.146647      0.077769      0.048063   \n",
              "std        5.828981      0.816683      0.505353      0.309296      0.188588   \n",
              "min     1980.000000      0.000000      0.000000      0.000000      0.000000   \n",
              "25%     2003.000000      0.000000      0.000000      0.000000      0.000000   \n",
              "50%     2007.000000      0.080000      0.020000      0.000000      0.010000   \n",
              "75%     2010.000000      0.240000      0.110000      0.040000      0.040000   \n",
              "max     2020.000000     41.490000     29.020000     10.220000     10.570000   \n",
              "\n",
              "       Global_Sales  \n",
              "count  16558.000000  \n",
              "mean       0.534327  \n",
              "std        1.533771  \n",
              "min        0.010000  \n",
              "25%        0.060000  \n",
              "50%        0.170000  \n",
              "75%        0.470000  \n",
              "max       82.740000  "
            ],
            "text/html": [
              "\n",
              "  <div id=\"df-c8db262b-c6c0-48cd-85c2-d8cfa690c450\">\n",
              "    <div class=\"colab-df-container\">\n",
              "      <div>\n",
              "<style scoped>\n",
              "    .dataframe tbody tr th:only-of-type {\n",
              "        vertical-align: middle;\n",
              "    }\n",
              "\n",
              "    .dataframe tbody tr th {\n",
              "        vertical-align: top;\n",
              "    }\n",
              "\n",
              "    .dataframe thead th {\n",
              "        text-align: right;\n",
              "    }\n",
              "</style>\n",
              "<table border=\"1\" class=\"dataframe\">\n",
              "  <thead>\n",
              "    <tr style=\"text-align: right;\">\n",
              "      <th></th>\n",
              "      <th>Year</th>\n",
              "      <th>NA_Sales</th>\n",
              "      <th>EU_Sales</th>\n",
              "      <th>JP_Sales</th>\n",
              "      <th>Other_Sales</th>\n",
              "      <th>Global_Sales</th>\n",
              "    </tr>\n",
              "  </thead>\n",
              "  <tbody>\n",
              "    <tr>\n",
              "      <th>count</th>\n",
              "      <td>16327.000000</td>\n",
              "      <td>16598.000000</td>\n",
              "      <td>16598.000000</td>\n",
              "      <td>16597.000000</td>\n",
              "      <td>16598.000000</td>\n",
              "      <td>16558.000000</td>\n",
              "    </tr>\n",
              "    <tr>\n",
              "      <th>mean</th>\n",
              "      <td>2006.406443</td>\n",
              "      <td>0.264667</td>\n",
              "      <td>0.146647</td>\n",
              "      <td>0.077769</td>\n",
              "      <td>0.048063</td>\n",
              "      <td>0.534327</td>\n",
              "    </tr>\n",
              "    <tr>\n",
              "      <th>std</th>\n",
              "      <td>5.828981</td>\n",
              "      <td>0.816683</td>\n",
              "      <td>0.505353</td>\n",
              "      <td>0.309296</td>\n",
              "      <td>0.188588</td>\n",
              "      <td>1.533771</td>\n",
              "    </tr>\n",
              "    <tr>\n",
              "      <th>min</th>\n",
              "      <td>1980.000000</td>\n",
              "      <td>0.000000</td>\n",
              "      <td>0.000000</td>\n",
              "      <td>0.000000</td>\n",
              "      <td>0.000000</td>\n",
              "      <td>0.010000</td>\n",
              "    </tr>\n",
              "    <tr>\n",
              "      <th>25%</th>\n",
              "      <td>2003.000000</td>\n",
              "      <td>0.000000</td>\n",
              "      <td>0.000000</td>\n",
              "      <td>0.000000</td>\n",
              "      <td>0.000000</td>\n",
              "      <td>0.060000</td>\n",
              "    </tr>\n",
              "    <tr>\n",
              "      <th>50%</th>\n",
              "      <td>2007.000000</td>\n",
              "      <td>0.080000</td>\n",
              "      <td>0.020000</td>\n",
              "      <td>0.000000</td>\n",
              "      <td>0.010000</td>\n",
              "      <td>0.170000</td>\n",
              "    </tr>\n",
              "    <tr>\n",
              "      <th>75%</th>\n",
              "      <td>2010.000000</td>\n",
              "      <td>0.240000</td>\n",
              "      <td>0.110000</td>\n",
              "      <td>0.040000</td>\n",
              "      <td>0.040000</td>\n",
              "      <td>0.470000</td>\n",
              "    </tr>\n",
              "    <tr>\n",
              "      <th>max</th>\n",
              "      <td>2020.000000</td>\n",
              "      <td>41.490000</td>\n",
              "      <td>29.020000</td>\n",
              "      <td>10.220000</td>\n",
              "      <td>10.570000</td>\n",
              "      <td>82.740000</td>\n",
              "    </tr>\n",
              "  </tbody>\n",
              "</table>\n",
              "</div>\n",
              "      <button class=\"colab-df-convert\" onclick=\"convertToInteractive('df-c8db262b-c6c0-48cd-85c2-d8cfa690c450')\"\n",
              "              title=\"Convert this dataframe to an interactive table.\"\n",
              "              style=\"display:none;\">\n",
              "        \n",
              "  <svg xmlns=\"http://www.w3.org/2000/svg\" height=\"24px\"viewBox=\"0 0 24 24\"\n",
              "       width=\"24px\">\n",
              "    <path d=\"M0 0h24v24H0V0z\" fill=\"none\"/>\n",
              "    <path d=\"M18.56 5.44l.94 2.06.94-2.06 2.06-.94-2.06-.94-.94-2.06-.94 2.06-2.06.94zm-11 1L8.5 8.5l.94-2.06 2.06-.94-2.06-.94L8.5 2.5l-.94 2.06-2.06.94zm10 10l.94 2.06.94-2.06 2.06-.94-2.06-.94-.94-2.06-.94 2.06-2.06.94z\"/><path d=\"M17.41 7.96l-1.37-1.37c-.4-.4-.92-.59-1.43-.59-.52 0-1.04.2-1.43.59L10.3 9.45l-7.72 7.72c-.78.78-.78 2.05 0 2.83L4 21.41c.39.39.9.59 1.41.59.51 0 1.02-.2 1.41-.59l7.78-7.78 2.81-2.81c.8-.78.8-2.07 0-2.86zM5.41 20L4 18.59l7.72-7.72 1.47 1.35L5.41 20z\"/>\n",
              "  </svg>\n",
              "      </button>\n",
              "      \n",
              "  <style>\n",
              "    .colab-df-container {\n",
              "      display:flex;\n",
              "      flex-wrap:wrap;\n",
              "      gap: 12px;\n",
              "    }\n",
              "\n",
              "    .colab-df-convert {\n",
              "      background-color: #E8F0FE;\n",
              "      border: none;\n",
              "      border-radius: 50%;\n",
              "      cursor: pointer;\n",
              "      display: none;\n",
              "      fill: #1967D2;\n",
              "      height: 32px;\n",
              "      padding: 0 0 0 0;\n",
              "      width: 32px;\n",
              "    }\n",
              "\n",
              "    .colab-df-convert:hover {\n",
              "      background-color: #E2EBFA;\n",
              "      box-shadow: 0px 1px 2px rgba(60, 64, 67, 0.3), 0px 1px 3px 1px rgba(60, 64, 67, 0.15);\n",
              "      fill: #174EA6;\n",
              "    }\n",
              "\n",
              "    [theme=dark] .colab-df-convert {\n",
              "      background-color: #3B4455;\n",
              "      fill: #D2E3FC;\n",
              "    }\n",
              "\n",
              "    [theme=dark] .colab-df-convert:hover {\n",
              "      background-color: #434B5C;\n",
              "      box-shadow: 0px 1px 3px 1px rgba(0, 0, 0, 0.15);\n",
              "      filter: drop-shadow(0px 1px 2px rgba(0, 0, 0, 0.3));\n",
              "      fill: #FFFFFF;\n",
              "    }\n",
              "  </style>\n",
              "\n",
              "      <script>\n",
              "        const buttonEl =\n",
              "          document.querySelector('#df-c8db262b-c6c0-48cd-85c2-d8cfa690c450 button.colab-df-convert');\n",
              "        buttonEl.style.display =\n",
              "          google.colab.kernel.accessAllowed ? 'block' : 'none';\n",
              "\n",
              "        async function convertToInteractive(key) {\n",
              "          const element = document.querySelector('#df-c8db262b-c6c0-48cd-85c2-d8cfa690c450');\n",
              "          const dataTable =\n",
              "            await google.colab.kernel.invokeFunction('convertToInteractive',\n",
              "                                                     [key], {});\n",
              "          if (!dataTable) return;\n",
              "\n",
              "          const docLinkHtml = 'Like what you see? Visit the ' +\n",
              "            '<a target=\"_blank\" href=https://colab.research.google.com/notebooks/data_table.ipynb>data table notebook</a>'\n",
              "            + ' to learn more about interactive tables.';\n",
              "          element.innerHTML = '';\n",
              "          dataTable['output_type'] = 'display_data';\n",
              "          await google.colab.output.renderOutput(dataTable, element);\n",
              "          const docLink = document.createElement('div');\n",
              "          docLink.innerHTML = docLinkHtml;\n",
              "          element.appendChild(docLink);\n",
              "        }\n",
              "      </script>\n",
              "    </div>\n",
              "  </div>\n",
              "  "
            ]
          },
          "metadata": {},
          "execution_count": 361
        }
      ],
      "source": [
        "# Statistical approach of the data set\n",
        "df.describe()"
      ]
    },
    {
      "cell_type": "markdown",
      "id": "1d183e4d",
      "metadata": {
        "id": "1d183e4d"
      },
      "source": [
        "#### Analyzing duplicate values"
      ]
    },
    {
      "cell_type": "code",
      "execution_count": null,
      "id": "24f14622",
      "metadata": {
        "id": "24f14622",
        "colab": {
          "base_uri": "https://localhost:8080/"
        },
        "outputId": "110c7be4-4887-48a2-bc15-8ac9ce9e888a"
      },
      "outputs": [
        {
          "output_type": "execute_result",
          "data": {
            "text/plain": [
              "False    16600\n",
              "True         1\n",
              "dtype: int64"
            ]
          },
          "metadata": {},
          "execution_count": 362
        }
      ],
      "source": [
        "# Let's see if there are duplicated values in the dataset\n",
        "df.duplicated(keep = 'last').value_counts()"
      ]
    },
    {
      "cell_type": "code",
      "execution_count": null,
      "id": "3597f28b",
      "metadata": {
        "id": "3597f28b"
      },
      "outputs": [],
      "source": [
        "# Removing duplicates\n",
        "df = df.drop_duplicates()\n",
        "df = df.reset_index()\n",
        "df = df.drop('index', axis = 1)"
      ]
    },
    {
      "cell_type": "markdown",
      "source": [
        "There was one duplicate and it has already been removed."
      ],
      "metadata": {
        "id": "yePdlp7gl8W9"
      },
      "id": "yePdlp7gl8W9"
    },
    {
      "cell_type": "markdown",
      "id": "180fe31d",
      "metadata": {
        "id": "180fe31d"
      },
      "source": [
        "### Data Cleaning: Missing Values and Pre-Processing\n",
        "\n",
        "After discussing the structure of the data and any problems that need to be cleaned, let's perform those cleaning steps in this section."
      ]
    },
    {
      "cell_type": "markdown",
      "source": [
        "We have seen that there are some vg that have NaN values on the sales. These videogames offer no information about sales, so they should be removed."
      ],
      "metadata": {
        "id": "BUn-Lvm2IaAL"
      },
      "id": "BUn-Lvm2IaAL"
    },
    {
      "cell_type": "code",
      "source": [
        "df.tail()"
      ],
      "metadata": {
        "colab": {
          "base_uri": "https://localhost:8080/"
        },
        "id": "A3G5ycMdbPIL",
        "outputId": "f15887ea-bc0a-41e5-a6b1-ce57413d12e2"
      },
      "id": "A3G5ycMdbPIL",
      "execution_count": null,
      "outputs": [
        {
          "output_type": "execute_result",
          "data": {
            "text/plain": [
              "                    Name Platform    Year     Genre Publisher  NA_Sales  \\\n",
              "16595         Know How 2       DS  2010.0    Puzzle  7G//AMES      0.00   \n",
              "16596   Spirits & Spells      GBA  2003.0  Platform       NaN      0.01   \n",
              "16597                NaN      NaN     NaN       NaN       NaN       NaN   \n",
              "16598       Guild Wars 2       PC     NaN       NaN       NaN       NaN   \n",
              "16599  World of Warcraft       PC     NaN       NaN       NaN       NaN   \n",
              "\n",
              "       EU_Sales  JP_Sales KR_Sales  Other_Sales  Global_Sales  \n",
              "16595      0.01       0.0      NaN          0.0          0.01  \n",
              "16596      0.00       0.0      NaN          0.0          0.01  \n",
              "16597       NaN       NaN      NaN          NaN           NaN  \n",
              "16598       NaN       NaN      NaN          NaN           NaN  \n",
              "16599       NaN       NaN      NaN          NaN           NaN  "
            ],
            "text/html": [
              "\n",
              "  <div id=\"df-cb299d0d-7e1c-4e9e-8a0c-ce3e6fffbdff\">\n",
              "    <div class=\"colab-df-container\">\n",
              "      <div>\n",
              "<style scoped>\n",
              "    .dataframe tbody tr th:only-of-type {\n",
              "        vertical-align: middle;\n",
              "    }\n",
              "\n",
              "    .dataframe tbody tr th {\n",
              "        vertical-align: top;\n",
              "    }\n",
              "\n",
              "    .dataframe thead th {\n",
              "        text-align: right;\n",
              "    }\n",
              "</style>\n",
              "<table border=\"1\" class=\"dataframe\">\n",
              "  <thead>\n",
              "    <tr style=\"text-align: right;\">\n",
              "      <th></th>\n",
              "      <th>Name</th>\n",
              "      <th>Platform</th>\n",
              "      <th>Year</th>\n",
              "      <th>Genre</th>\n",
              "      <th>Publisher</th>\n",
              "      <th>NA_Sales</th>\n",
              "      <th>EU_Sales</th>\n",
              "      <th>JP_Sales</th>\n",
              "      <th>KR_Sales</th>\n",
              "      <th>Other_Sales</th>\n",
              "      <th>Global_Sales</th>\n",
              "    </tr>\n",
              "  </thead>\n",
              "  <tbody>\n",
              "    <tr>\n",
              "      <th>16595</th>\n",
              "      <td>Know How 2</td>\n",
              "      <td>DS</td>\n",
              "      <td>2010.0</td>\n",
              "      <td>Puzzle</td>\n",
              "      <td>7G//AMES</td>\n",
              "      <td>0.00</td>\n",
              "      <td>0.01</td>\n",
              "      <td>0.0</td>\n",
              "      <td>NaN</td>\n",
              "      <td>0.0</td>\n",
              "      <td>0.01</td>\n",
              "    </tr>\n",
              "    <tr>\n",
              "      <th>16596</th>\n",
              "      <td>Spirits &amp; Spells</td>\n",
              "      <td>GBA</td>\n",
              "      <td>2003.0</td>\n",
              "      <td>Platform</td>\n",
              "      <td>NaN</td>\n",
              "      <td>0.01</td>\n",
              "      <td>0.00</td>\n",
              "      <td>0.0</td>\n",
              "      <td>NaN</td>\n",
              "      <td>0.0</td>\n",
              "      <td>0.01</td>\n",
              "    </tr>\n",
              "    <tr>\n",
              "      <th>16597</th>\n",
              "      <td>NaN</td>\n",
              "      <td>NaN</td>\n",
              "      <td>NaN</td>\n",
              "      <td>NaN</td>\n",
              "      <td>NaN</td>\n",
              "      <td>NaN</td>\n",
              "      <td>NaN</td>\n",
              "      <td>NaN</td>\n",
              "      <td>NaN</td>\n",
              "      <td>NaN</td>\n",
              "      <td>NaN</td>\n",
              "    </tr>\n",
              "    <tr>\n",
              "      <th>16598</th>\n",
              "      <td>Guild Wars 2</td>\n",
              "      <td>PC</td>\n",
              "      <td>NaN</td>\n",
              "      <td>NaN</td>\n",
              "      <td>NaN</td>\n",
              "      <td>NaN</td>\n",
              "      <td>NaN</td>\n",
              "      <td>NaN</td>\n",
              "      <td>NaN</td>\n",
              "      <td>NaN</td>\n",
              "      <td>NaN</td>\n",
              "    </tr>\n",
              "    <tr>\n",
              "      <th>16599</th>\n",
              "      <td>World of Warcraft</td>\n",
              "      <td>PC</td>\n",
              "      <td>NaN</td>\n",
              "      <td>NaN</td>\n",
              "      <td>NaN</td>\n",
              "      <td>NaN</td>\n",
              "      <td>NaN</td>\n",
              "      <td>NaN</td>\n",
              "      <td>NaN</td>\n",
              "      <td>NaN</td>\n",
              "      <td>NaN</td>\n",
              "    </tr>\n",
              "  </tbody>\n",
              "</table>\n",
              "</div>\n",
              "      <button class=\"colab-df-convert\" onclick=\"convertToInteractive('df-cb299d0d-7e1c-4e9e-8a0c-ce3e6fffbdff')\"\n",
              "              title=\"Convert this dataframe to an interactive table.\"\n",
              "              style=\"display:none;\">\n",
              "        \n",
              "  <svg xmlns=\"http://www.w3.org/2000/svg\" height=\"24px\"viewBox=\"0 0 24 24\"\n",
              "       width=\"24px\">\n",
              "    <path d=\"M0 0h24v24H0V0z\" fill=\"none\"/>\n",
              "    <path d=\"M18.56 5.44l.94 2.06.94-2.06 2.06-.94-2.06-.94-.94-2.06-.94 2.06-2.06.94zm-11 1L8.5 8.5l.94-2.06 2.06-.94-2.06-.94L8.5 2.5l-.94 2.06-2.06.94zm10 10l.94 2.06.94-2.06 2.06-.94-2.06-.94-.94-2.06-.94 2.06-2.06.94z\"/><path d=\"M17.41 7.96l-1.37-1.37c-.4-.4-.92-.59-1.43-.59-.52 0-1.04.2-1.43.59L10.3 9.45l-7.72 7.72c-.78.78-.78 2.05 0 2.83L4 21.41c.39.39.9.59 1.41.59.51 0 1.02-.2 1.41-.59l7.78-7.78 2.81-2.81c.8-.78.8-2.07 0-2.86zM5.41 20L4 18.59l7.72-7.72 1.47 1.35L5.41 20z\"/>\n",
              "  </svg>\n",
              "      </button>\n",
              "      \n",
              "  <style>\n",
              "    .colab-df-container {\n",
              "      display:flex;\n",
              "      flex-wrap:wrap;\n",
              "      gap: 12px;\n",
              "    }\n",
              "\n",
              "    .colab-df-convert {\n",
              "      background-color: #E8F0FE;\n",
              "      border: none;\n",
              "      border-radius: 50%;\n",
              "      cursor: pointer;\n",
              "      display: none;\n",
              "      fill: #1967D2;\n",
              "      height: 32px;\n",
              "      padding: 0 0 0 0;\n",
              "      width: 32px;\n",
              "    }\n",
              "\n",
              "    .colab-df-convert:hover {\n",
              "      background-color: #E2EBFA;\n",
              "      box-shadow: 0px 1px 2px rgba(60, 64, 67, 0.3), 0px 1px 3px 1px rgba(60, 64, 67, 0.15);\n",
              "      fill: #174EA6;\n",
              "    }\n",
              "\n",
              "    [theme=dark] .colab-df-convert {\n",
              "      background-color: #3B4455;\n",
              "      fill: #D2E3FC;\n",
              "    }\n",
              "\n",
              "    [theme=dark] .colab-df-convert:hover {\n",
              "      background-color: #434B5C;\n",
              "      box-shadow: 0px 1px 3px 1px rgba(0, 0, 0, 0.15);\n",
              "      filter: drop-shadow(0px 1px 2px rgba(0, 0, 0, 0.3));\n",
              "      fill: #FFFFFF;\n",
              "    }\n",
              "  </style>\n",
              "\n",
              "      <script>\n",
              "        const buttonEl =\n",
              "          document.querySelector('#df-cb299d0d-7e1c-4e9e-8a0c-ce3e6fffbdff button.colab-df-convert');\n",
              "        buttonEl.style.display =\n",
              "          google.colab.kernel.accessAllowed ? 'block' : 'none';\n",
              "\n",
              "        async function convertToInteractive(key) {\n",
              "          const element = document.querySelector('#df-cb299d0d-7e1c-4e9e-8a0c-ce3e6fffbdff');\n",
              "          const dataTable =\n",
              "            await google.colab.kernel.invokeFunction('convertToInteractive',\n",
              "                                                     [key], {});\n",
              "          if (!dataTable) return;\n",
              "\n",
              "          const docLinkHtml = 'Like what you see? Visit the ' +\n",
              "            '<a target=\"_blank\" href=https://colab.research.google.com/notebooks/data_table.ipynb>data table notebook</a>'\n",
              "            + ' to learn more about interactive tables.';\n",
              "          element.innerHTML = '';\n",
              "          dataTable['output_type'] = 'display_data';\n",
              "          await google.colab.output.renderOutput(dataTable, element);\n",
              "          const docLink = document.createElement('div');\n",
              "          docLink.innerHTML = docLinkHtml;\n",
              "          element.appendChild(docLink);\n",
              "        }\n",
              "      </script>\n",
              "    </div>\n",
              "  </div>\n",
              "  "
            ]
          },
          "metadata": {},
          "execution_count": 364
        }
      ]
    },
    {
      "cell_type": "code",
      "source": [
        "# Locate and drop the rows with nans in all numeric columns\n",
        "indexes = []\n",
        "for i in range(df.shape[0]):\n",
        "  if pd.isnull(df.loc[i][5]) == True:\n",
        "    if pd.isnull(df.loc[i][6]) == True:\n",
        "      if pd.isnull(df.loc[i][7]) == True:\n",
        "        if pd.isnull(df.loc[i][8]) == True:\n",
        "          if pd.isnull(df.loc[i][9]) == True:\n",
        "            if pd.isnull(df.loc[i][10]) == True:\n",
        "              indexes.append(i)\n",
        "df = df.drop(indexes, axis = 0)"
      ],
      "metadata": {
        "id": "eu43eyadIjZs"
      },
      "id": "eu43eyadIjZs",
      "execution_count": null,
      "outputs": []
    },
    {
      "cell_type": "markdown",
      "metadata": {
        "id": "58cf4378"
      },
      "source": [
        "## Outliers\n",
        "In this phase of the analysis, I am going to check the variability of the data and remove possible outliers if needed."
      ],
      "id": "58cf4378"
    },
    {
      "cell_type": "code",
      "source": [
        "numeric_columns = []\n",
        "for i in range(5,11):\n",
        "  numeric_columns.append(df.columns[i])\n",
        "numeric_columns.remove(\"KR_Sales\")\n",
        "numeric_columns"
      ],
      "metadata": {
        "colab": {
          "base_uri": "https://localhost:8080/"
        },
        "id": "ZodZ0i1LmpLU",
        "outputId": "5715090b-7f1c-4115-a2b3-a842a6fa236d"
      },
      "id": "ZodZ0i1LmpLU",
      "execution_count": null,
      "outputs": [
        {
          "output_type": "execute_result",
          "data": {
            "text/plain": [
              "['NA_Sales', 'EU_Sales', 'JP_Sales', 'Other_Sales', 'Global_Sales']"
            ]
          },
          "metadata": {},
          "execution_count": 366
        }
      ]
    },
    {
      "cell_type": "code",
      "source": [
        "fig_dims = (12,7)\n",
        "fig, ax = plt.subplots(figsize = fig_dims)\n",
        "ax.set_title('Sales boxplots')\n",
        "ax.set_xlabel('Region')\n",
        "ax.set_ylabel('Sales')\n",
        "boxplot = df.boxplot(column=numeric_columns)"
      ],
      "metadata": {
        "colab": {
          "base_uri": "https://localhost:8080/"
        },
        "id": "miNP17pAliNH",
        "outputId": "ce1cb8fa-39e6-413a-fb55-baca043cee8b"
      },
      "id": "miNP17pAliNH",
      "execution_count": null,
      "outputs": [
        {
          "output_type": "stream",
          "name": "stderr",
          "text": [
            "/usr/local/lib/python3.7/dist-packages/matplotlib/cbook/__init__.py:1376: VisibleDeprecationWarning:\n",
            "\n",
            "Creating an ndarray from ragged nested sequences (which is a list-or-tuple of lists-or-tuples-or ndarrays with different lengths or shapes) is deprecated. If you meant to do this, you must specify 'dtype=object' when creating the ndarray.\n",
            "\n"
          ]
        },
        {
          "output_type": "display_data",
          "data": {
            "text/plain": [
              "<Figure size 864x504 with 1 Axes>"
            ],
            "image/png": "[encoded data removed]"
          },
          "metadata": {
            "needs_background": "light"
          }
        }
      ]
    },
    {
      "cell_type": "code",
      "source": [
        "non_zero_NA = df[(df[\"NA_Sales\"]>0)]\n",
        "non_zero_EU = non_zero_NA[(non_zero_NA[\"EU_Sales\"]>0)]\n",
        "non_zero_JP = non_zero_EU[(non_zero_EU[\"JP_Sales\"]>0)]\n",
        "non_zero_Other = non_zero_JP[(non_zero_JP[\"Other_Sales\"]>0)]\n",
        "non_zero_Global = non_zero_Other[(non_zero_Other[\"Global_Sales\"]>0)]"
      ],
      "metadata": {
        "id": "W2a-TaGhowWA"
      },
      "id": "W2a-TaGhowWA",
      "execution_count": null,
      "outputs": []
    },
    {
      "cell_type": "code",
      "source": [
        "fig_dims = (12,7)\n",
        "fig, ax = plt.subplots(figsize = fig_dims)\n",
        "ax.set_title('Sales boxplots')\n",
        "ax.set_xlabel('Region')\n",
        "ax.set_ylabel('Sales')\n",
        "boxplot = non_zero_Global.boxplot(column=numeric_columns)"
      ],
      "metadata": {
        "id": "SIWp6cJGqOW9",
        "colab": {
          "base_uri": "https://localhost:8080/"
        },
        "outputId": "f2989eb6-f5a1-467b-d5bc-9895a627467e"
      },
      "id": "SIWp6cJGqOW9",
      "execution_count": null,
      "outputs": [
        {
          "output_type": "display_data",
          "data": {
            "text/plain": [
              "<Figure size 864x504 with 1 Axes>"
            ],
            "image/png": "[encoded data removed]"
          },
          "metadata": {
            "needs_background": "light"
          }
        }
      ]
    },
    {
      "cell_type": "markdown",
      "source": [
        "What's happening is that, there are a lot of tiny videogames with very little sales, while there are a few giant videogames with enormous sales. In that case, if any of these has NaNs, those values should be replaced by the median, not by the mean."
      ],
      "metadata": {
        "id": "Tz9XaRu9qkME"
      },
      "id": "Tz9XaRu9qkME"
    },
    {
      "cell_type": "markdown",
      "source": [
        "## NaNs\n",
        "In this phase of the analysis, I am going to check the possible NaNs that the different columns may have."
      ],
      "metadata": {
        "id": "OXAK29EXmGAi"
      },
      "id": "OXAK29EXmGAi"
    },
    {
      "cell_type": "code",
      "source": [
        "# Finding out if there are missing values in the dataset\n",
        "df.isna().any()"
      ],
      "metadata": {
        "id": "U69XhllOmN_a",
        "colab": {
          "base_uri": "https://localhost:8080/"
        },
        "outputId": "280017ce-9175-4aeb-fdfe-1316446ac36e"
      },
      "id": "U69XhllOmN_a",
      "execution_count": null,
      "outputs": [
        {
          "output_type": "execute_result",
          "data": {
            "text/plain": [
              "Name             True\n",
              "Platform         True\n",
              "Year             True\n",
              "Genre            True\n",
              "Publisher        True\n",
              "NA_Sales        False\n",
              "EU_Sales        False\n",
              "JP_Sales         True\n",
              "KR_Sales         True\n",
              "Other_Sales     False\n",
              "Global_Sales     True\n",
              "dtype: bool"
            ]
          },
          "metadata": {},
          "execution_count": 370
        }
      ]
    },
    {
      "cell_type": "markdown",
      "source": [
        "All of the columns have NaNs. Let's see how many NaNs are in each column."
      ],
      "metadata": {
        "id": "FWWLb2hXKQcZ"
      },
      "id": "FWWLb2hXKQcZ"
    },
    {
      "cell_type": "code",
      "source": [
        "fig = plt.subplots(figsize=(18,10))\n",
        "sns.heatmap(df.isnull(), yticklabels = False, cbar = False, cmap = 'viridis')"
      ],
      "metadata": {
        "id": "ecI7Y8ZKKYVN",
        "colab": {
          "base_uri": "https://localhost:8080/"
        },
        "outputId": "285db55e-05e9-490d-8a5c-093551817ccd"
      },
      "execution_count": null,
      "outputs": [
        {
          "output_type": "execute_result",
          "data": {
            "text/plain": [
              "<matplotlib.axes._subplots.AxesSubplot at 0x7ff7c0a949d0>"
            ]
          },
          "metadata": {},
          "execution_count": 371
        },
        {
          "output_type": "display_data",
          "data": {
            "text/plain": [
              "<Figure size 1296x720 with 1 Axes>"
            ],
            "image/png": "[encoded data removed]"
          },
          "metadata": {
            "needs_background": "light"
          }
        }
      ],
      "id": "ecI7Y8ZKKYVN"
    },
    {
      "cell_type": "markdown",
      "source": [
        "KR_Sales is almost all NaNs. That column should be removed."
      ],
      "metadata": {
        "id": "GScUWqVyKlPZ"
      },
      "id": "GScUWqVyKlPZ"
    },
    {
      "cell_type": "code",
      "source": [
        "df.drop([\"KR_Sales\"], axis = 1, inplace = True)"
      ],
      "metadata": {
        "id": "bPnmrcnQKvtb"
      },
      "execution_count": null,
      "outputs": [],
      "id": "bPnmrcnQKvtb"
    },
    {
      "cell_type": "code",
      "source": [
        "# Let's see the percentage of NaNs on each column.\n",
        "df.isna().sum()*100/df.shape[0]"
      ],
      "metadata": {
        "id": "TzIiLiEnKzqA",
        "colab": {
          "base_uri": "https://localhost:8080/"
        },
        "outputId": "e48d7d15-56af-4404-c120-222396312029"
      },
      "execution_count": null,
      "outputs": [
        {
          "output_type": "execute_result",
          "data": {
            "text/plain": [
              "Name            0.060252\n",
              "Platform        0.102428\n",
              "Year            1.626800\n",
              "Genre           3.958547\n",
              "Publisher       0.391637\n",
              "NA_Sales        0.000000\n",
              "EU_Sales        0.000000\n",
              "JP_Sales        0.006025\n",
              "Other_Sales     0.000000\n",
              "Global_Sales    0.241007\n",
              "dtype: float64"
            ]
          },
          "metadata": {},
          "execution_count": 373
        }
      ],
      "id": "TzIiLiEnKzqA"
    },
    {
      "cell_type": "markdown",
      "source": [
        "All of the columns have NaNs. Some of them in a very little percentage. Even so, I'll remove them all. In the columns with the data in strings, and the year, the NaNs will be replaced by a sentence \"no XXX\". In the columns with the data in float, the NaNs will be replaced by the median of that column."
      ],
      "metadata": {
        "id": "5TZtdpAyLtbL"
      },
      "id": "5TZtdpAyLtbL"
    },
    {
      "cell_type": "code",
      "source": [
        "df[\"Name\"].replace(np.nan,\"no name\",inplace = True)\n",
        "df[\"Platform\"].replace(np.nan,\"no platform\",inplace = True)\n",
        "df[\"Year\"].replace(np.nan,\"no year\",inplace = True)\n",
        "df[\"Genre\"].replace(np.nan,\"no genre\",inplace = True)\n",
        "df[\"Publisher\"].replace(np.nan,\"no publisher\",inplace = True)"
      ],
      "metadata": {
        "id": "6bgkaSn3iKsQ"
      },
      "execution_count": null,
      "outputs": [],
      "id": "6bgkaSn3iKsQ"
    },
    {
      "cell_type": "code",
      "source": [
        "df.describe()"
      ],
      "metadata": {
        "id": "kx42gkcWuWQa",
        "colab": {
          "base_uri": "https://localhost:8080/",
          "height": 300
        },
        "outputId": "3158d00a-d8fb-4248-d03b-b28807ca2ff1"
      },
      "id": "kx42gkcWuWQa",
      "execution_count": null,
      "outputs": [
        {
          "output_type": "execute_result",
          "data": {
            "text/plain": [
              "           NA_Sales      EU_Sales      JP_Sales   Other_Sales  Global_Sales\n",
              "count  16597.000000  16597.000000  16596.000000  16597.000000  16557.000000\n",
              "mean       0.264683      0.146656      0.077773      0.048066      0.534358\n",
              "std        0.816705      0.505367      0.309305      0.188594      1.533812\n",
              "min        0.000000      0.000000      0.000000      0.000000      0.010000\n",
              "25%        0.000000      0.000000      0.000000      0.000000      0.060000\n",
              "50%        0.080000      0.020000      0.000000      0.010000      0.170000\n",
              "75%        0.240000      0.110000      0.040000      0.040000      0.470000\n",
              "max       41.490000     29.020000     10.220000     10.570000     82.740000"
            ],
            "text/html": [
              "\n",
              "  <div id=\"df-75683851-603f-41b1-8e17-ef08da46eff4\">\n",
              "    <div class=\"colab-df-container\">\n",
              "      <div>\n",
              "<style scoped>\n",
              "    .dataframe tbody tr th:only-of-type {\n",
              "        vertical-align: middle;\n",
              "    }\n",
              "\n",
              "    .dataframe tbody tr th {\n",
              "        vertical-align: top;\n",
              "    }\n",
              "\n",
              "    .dataframe thead th {\n",
              "        text-align: right;\n",
              "    }\n",
              "</style>\n",
              "<table border=\"1\" class=\"dataframe\">\n",
              "  <thead>\n",
              "    <tr style=\"text-align: right;\">\n",
              "      <th></th>\n",
              "      <th>NA_Sales</th>\n",
              "      <th>EU_Sales</th>\n",
              "      <th>JP_Sales</th>\n",
              "      <th>Other_Sales</th>\n",
              "      <th>Global_Sales</th>\n",
              "    </tr>\n",
              "  </thead>\n",
              "  <tbody>\n",
              "    <tr>\n",
              "      <th>count</th>\n",
              "      <td>16597.000000</td>\n",
              "      <td>16597.000000</td>\n",
              "      <td>16596.000000</td>\n",
              "      <td>16597.000000</td>\n",
              "      <td>16557.000000</td>\n",
              "    </tr>\n",
              "    <tr>\n",
              "      <th>mean</th>\n",
              "      <td>0.264683</td>\n",
              "      <td>0.146656</td>\n",
              "      <td>0.077773</td>\n",
              "      <td>0.048066</td>\n",
              "      <td>0.534358</td>\n",
              "    </tr>\n",
              "    <tr>\n",
              "      <th>std</th>\n",
              "      <td>0.816705</td>\n",
              "      <td>0.505367</td>\n",
              "      <td>0.309305</td>\n",
              "      <td>0.188594</td>\n",
              "      <td>1.533812</td>\n",
              "    </tr>\n",
              "    <tr>\n",
              "      <th>min</th>\n",
              "      <td>0.000000</td>\n",
              "      <td>0.000000</td>\n",
              "      <td>0.000000</td>\n",
              "      <td>0.000000</td>\n",
              "      <td>0.010000</td>\n",
              "    </tr>\n",
              "    <tr>\n",
              "      <th>25%</th>\n",
              "      <td>0.000000</td>\n",
              "      <td>0.000000</td>\n",
              "      <td>0.000000</td>\n",
              "      <td>0.000000</td>\n",
              "      <td>0.060000</td>\n",
              "    </tr>\n",
              "    <tr>\n",
              "      <th>50%</th>\n",
              "      <td>0.080000</td>\n",
              "      <td>0.020000</td>\n",
              "      <td>0.000000</td>\n",
              "      <td>0.010000</td>\n",
              "      <td>0.170000</td>\n",
              "    </tr>\n",
              "    <tr>\n",
              "      <th>75%</th>\n",
              "      <td>0.240000</td>\n",
              "      <td>0.110000</td>\n",
              "      <td>0.040000</td>\n",
              "      <td>0.040000</td>\n",
              "      <td>0.470000</td>\n",
              "    </tr>\n",
              "    <tr>\n",
              "      <th>max</th>\n",
              "      <td>41.490000</td>\n",
              "      <td>29.020000</td>\n",
              "      <td>10.220000</td>\n",
              "      <td>10.570000</td>\n",
              "      <td>82.740000</td>\n",
              "    </tr>\n",
              "  </tbody>\n",
              "</table>\n",
              "</div>\n",
              "      <button class=\"colab-df-convert\" onclick=\"convertToInteractive('df-75683851-603f-41b1-8e17-ef08da46eff4')\"\n",
              "              title=\"Convert this dataframe to an interactive table.\"\n",
              "              style=\"display:none;\">\n",
              "        \n",
              "  <svg xmlns=\"http://www.w3.org/2000/svg\" height=\"24px\"viewBox=\"0 0 24 24\"\n",
              "       width=\"24px\">\n",
              "    <path d=\"M0 0h24v24H0V0z\" fill=\"none\"/>\n",
              "    <path d=\"M18.56 5.44l.94 2.06.94-2.06 2.06-.94-2.06-.94-.94-2.06-.94 2.06-2.06.94zm-11 1L8.5 8.5l.94-2.06 2.06-.94-2.06-.94L8.5 2.5l-.94 2.06-2.06.94zm10 10l.94 2.06.94-2.06 2.06-.94-2.06-.94-.94-2.06-.94 2.06-2.06.94z\"/><path d=\"M17.41 7.96l-1.37-1.37c-.4-.4-.92-.59-1.43-.59-.52 0-1.04.2-1.43.59L10.3 9.45l-7.72 7.72c-.78.78-.78 2.05 0 2.83L4 21.41c.39.39.9.59 1.41.59.51 0 1.02-.2 1.41-.59l7.78-7.78 2.81-2.81c.8-.78.8-2.07 0-2.86zM5.41 20L4 18.59l7.72-7.72 1.47 1.35L5.41 20z\"/>\n",
              "  </svg>\n",
              "      </button>\n",
              "      \n",
              "  <style>\n",
              "    .colab-df-container {\n",
              "      display:flex;\n",
              "      flex-wrap:wrap;\n",
              "      gap: 12px;\n",
              "    }\n",
              "\n",
              "    .colab-df-convert {\n",
              "      background-color: #E8F0FE;\n",
              "      border: none;\n",
              "      border-radius: 50%;\n",
              "      cursor: pointer;\n",
              "      display: none;\n",
              "      fill: #1967D2;\n",
              "      height: 32px;\n",
              "      padding: 0 0 0 0;\n",
              "      width: 32px;\n",
              "    }\n",
              "\n",
              "    .colab-df-convert:hover {\n",
              "      background-color: #E2EBFA;\n",
              "      box-shadow: 0px 1px 2px rgba(60, 64, 67, 0.3), 0px 1px 3px 1px rgba(60, 64, 67, 0.15);\n",
              "      fill: #174EA6;\n",
              "    }\n",
              "\n",
              "    [theme=dark] .colab-df-convert {\n",
              "      background-color: #3B4455;\n",
              "      fill: #D2E3FC;\n",
              "    }\n",
              "\n",
              "    [theme=dark] .colab-df-convert:hover {\n",
              "      background-color: #434B5C;\n",
              "      box-shadow: 0px 1px 3px 1px rgba(0, 0, 0, 0.15);\n",
              "      filter: drop-shadow(0px 1px 2px rgba(0, 0, 0, 0.3));\n",
              "      fill: #FFFFFF;\n",
              "    }\n",
              "  </style>\n",
              "\n",
              "      <script>\n",
              "        const buttonEl =\n",
              "          document.querySelector('#df-75683851-603f-41b1-8e17-ef08da46eff4 button.colab-df-convert');\n",
              "        buttonEl.style.display =\n",
              "          google.colab.kernel.accessAllowed ? 'block' : 'none';\n",
              "\n",
              "        async function convertToInteractive(key) {\n",
              "          const element = document.querySelector('#df-75683851-603f-41b1-8e17-ef08da46eff4');\n",
              "          const dataTable =\n",
              "            await google.colab.kernel.invokeFunction('convertToInteractive',\n",
              "                                                     [key], {});\n",
              "          if (!dataTable) return;\n",
              "\n",
              "          const docLinkHtml = 'Like what you see? Visit the ' +\n",
              "            '<a target=\"_blank\" href=https://colab.research.google.com/notebooks/data_table.ipynb>data table notebook</a>'\n",
              "            + ' to learn more about interactive tables.';\n",
              "          element.innerHTML = '';\n",
              "          dataTable['output_type'] = 'display_data';\n",
              "          await google.colab.output.renderOutput(dataTable, element);\n",
              "          const docLink = document.createElement('div');\n",
              "          docLink.innerHTML = docLinkHtml;\n",
              "          element.appendChild(docLink);\n",
              "        }\n",
              "      </script>\n",
              "    </div>\n",
              "  </div>\n",
              "  "
            ]
          },
          "metadata": {},
          "execution_count": 375
        }
      ]
    },
    {
      "cell_type": "code",
      "source": [
        "for i in range(5):\n",
        "  median = df.describe().iloc[5][i]\n",
        "  df[df.columns[i+5]].fillna(median, inplace = True)"
      ],
      "metadata": {
        "id": "3wsCQNfcihyD"
      },
      "execution_count": null,
      "outputs": [],
      "id": "3wsCQNfcihyD"
    },
    {
      "cell_type": "markdown",
      "source": [
        "Since median is the 50%, in the df.describe we already have the values of median for each numeric column."
      ],
      "metadata": {
        "id": "BeFUpojpRoue"
      },
      "id": "BeFUpojpRoue"
    },
    {
      "cell_type": "code",
      "source": [
        "df.isna().sum()"
      ],
      "metadata": {
        "id": "v-AD6xwukX3T",
        "colab": {
          "base_uri": "https://localhost:8080/"
        },
        "outputId": "0555ddb3-6081-4eb4-f169-f84c3ea8452b"
      },
      "execution_count": null,
      "outputs": [
        {
          "output_type": "execute_result",
          "data": {
            "text/plain": [
              "Name            0\n",
              "Platform        0\n",
              "Year            0\n",
              "Genre           0\n",
              "Publisher       0\n",
              "NA_Sales        0\n",
              "EU_Sales        0\n",
              "JP_Sales        0\n",
              "Other_Sales     0\n",
              "Global_Sales    0\n",
              "dtype: int64"
            ]
          },
          "metadata": {},
          "execution_count": 377
        }
      ],
      "id": "v-AD6xwukX3T"
    },
    {
      "cell_type": "markdown",
      "source": [
        "With this, we can check that we have no more nans on the dataset."
      ],
      "metadata": {
        "id": "rFubBpUyRZoi"
      },
      "id": "rFubBpUyRZoi"
    },
    {
      "cell_type": "markdown",
      "id": "bb406186",
      "metadata": {
        "id": "bb406186"
      },
      "source": [
        "<a id='eda'></a>\n",
        "## Exploratory Data Analysis\n",
        "\n",
        "Let's move on to exploratory data analysis in this section. First, I will look carefully at the variables individually. Then, I will proceed to study the correlation relationships"
      ]
    },
    {
      "cell_type": "markdown",
      "id": "a7d5b62b",
      "metadata": {
        "id": "a7d5b62b"
      },
      "source": [
        "### Univariate Variables\n",
        "\n",
        "In this step, I am going to analyze the distribution of each numeric and categorical attribute on the dataset."
      ]
    },
    {
      "cell_type": "code",
      "execution_count": null,
      "id": "7384bb0a",
      "metadata": {
        "id": "7384bb0a",
        "colab": {
          "base_uri": "https://localhost:8080/",
          "height": 394
        },
        "outputId": "f6d05503-ce38-40c5-aebb-1a4d94e14ff0"
      },
      "outputs": [
        {
          "output_type": "execute_result",
          "data": {
            "text/plain": [
              "                               Name Platform     Year   Genre  \\\n",
              "count                         16597    16597  16597.0   16597   \n",
              "unique                        11488       32     40.0      13   \n",
              "top     Need for Speed: Most Wanted       DS   2009.0  Action   \n",
              "freq                             12     2163   1431.0    3316   \n",
              "mean                            NaN      NaN      NaN     NaN   \n",
              "std                             NaN      NaN      NaN     NaN   \n",
              "min                             NaN      NaN      NaN     NaN   \n",
              "25%                             NaN      NaN      NaN     NaN   \n",
              "50%                             NaN      NaN      NaN     NaN   \n",
              "75%                             NaN      NaN      NaN     NaN   \n",
              "max                             NaN      NaN      NaN     NaN   \n",
              "\n",
              "              Publisher      NA_Sales      EU_Sales      JP_Sales  \\\n",
              "count             16597  16597.000000  16597.000000  16597.000000   \n",
              "unique              579           NaN           NaN           NaN   \n",
              "top     Electronic Arts           NaN           NaN           NaN   \n",
              "freq               1351           NaN           NaN           NaN   \n",
              "mean                NaN      0.264683      0.146656      0.077768   \n",
              "std                 NaN      0.816705      0.505367      0.309296   \n",
              "min                 NaN      0.000000      0.000000      0.000000   \n",
              "25%                 NaN      0.000000      0.000000      0.000000   \n",
              "50%                 NaN      0.080000      0.020000      0.000000   \n",
              "75%                 NaN      0.240000      0.110000      0.040000   \n",
              "max                 NaN     41.490000     29.020000     10.220000   \n",
              "\n",
              "         Other_Sales  Global_Sales  \n",
              "count   16597.000000  16597.000000  \n",
              "unique           NaN           NaN  \n",
              "top              NaN           NaN  \n",
              "freq             NaN           NaN  \n",
              "mean        0.048066      0.533480  \n",
              "std         0.188594      1.532067  \n",
              "min         0.000000      0.010000  \n",
              "25%         0.000000      0.060000  \n",
              "50%         0.010000      0.170000  \n",
              "75%         0.040000      0.470000  \n",
              "max        10.570000     82.740000  "
            ],
            "text/html": [
              "\n",
              "  <div id=\"df-74a60380-91a2-4a39-82c6-22527273bdd0\">\n",
              "    <div class=\"colab-df-container\">\n",
              "      <div>\n",
              "<style scoped>\n",
              "    .dataframe tbody tr th:only-of-type {\n",
              "        vertical-align: middle;\n",
              "    }\n",
              "\n",
              "    .dataframe tbody tr th {\n",
              "        vertical-align: top;\n",
              "    }\n",
              "\n",
              "    .dataframe thead th {\n",
              "        text-align: right;\n",
              "    }\n",
              "</style>\n",
              "<table border=\"1\" class=\"dataframe\">\n",
              "  <thead>\n",
              "    <tr style=\"text-align: right;\">\n",
              "      <th></th>\n",
              "      <th>Name</th>\n",
              "      <th>Platform</th>\n",
              "      <th>Year</th>\n",
              "      <th>Genre</th>\n",
              "      <th>Publisher</th>\n",
              "      <th>NA_Sales</th>\n",
              "      <th>EU_Sales</th>\n",
              "      <th>JP_Sales</th>\n",
              "      <th>Other_Sales</th>\n",
              "      <th>Global_Sales</th>\n",
              "    </tr>\n",
              "  </thead>\n",
              "  <tbody>\n",
              "    <tr>\n",
              "      <th>count</th>\n",
              "      <td>16597</td>\n",
              "      <td>16597</td>\n",
              "      <td>16597.0</td>\n",
              "      <td>16597</td>\n",
              "      <td>16597</td>\n",
              "      <td>16597.000000</td>\n",
              "      <td>16597.000000</td>\n",
              "      <td>16597.000000</td>\n",
              "      <td>16597.000000</td>\n",
              "      <td>16597.000000</td>\n",
              "    </tr>\n",
              "    <tr>\n",
              "      <th>unique</th>\n",
              "      <td>11488</td>\n",
              "      <td>32</td>\n",
              "      <td>40.0</td>\n",
              "      <td>13</td>\n",
              "      <td>579</td>\n",
              "      <td>NaN</td>\n",
              "      <td>NaN</td>\n",
              "      <td>NaN</td>\n",
              "      <td>NaN</td>\n",
              "      <td>NaN</td>\n",
              "    </tr>\n",
              "    <tr>\n",
              "      <th>top</th>\n",
              "      <td>Need for Speed: Most Wanted</td>\n",
              "      <td>DS</td>\n",
              "      <td>2009.0</td>\n",
              "      <td>Action</td>\n",
              "      <td>Electronic Arts</td>\n",
              "      <td>NaN</td>\n",
              "      <td>NaN</td>\n",
              "      <td>NaN</td>\n",
              "      <td>NaN</td>\n",
              "      <td>NaN</td>\n",
              "    </tr>\n",
              "    <tr>\n",
              "      <th>freq</th>\n",
              "      <td>12</td>\n",
              "      <td>2163</td>\n",
              "      <td>1431.0</td>\n",
              "      <td>3316</td>\n",
              "      <td>1351</td>\n",
              "      <td>NaN</td>\n",
              "      <td>NaN</td>\n",
              "      <td>NaN</td>\n",
              "      <td>NaN</td>\n",
              "      <td>NaN</td>\n",
              "    </tr>\n",
              "    <tr>\n",
              "      <th>mean</th>\n",
              "      <td>NaN</td>\n",
              "      <td>NaN</td>\n",
              "      <td>NaN</td>\n",
              "      <td>NaN</td>\n",
              "      <td>NaN</td>\n",
              "      <td>0.264683</td>\n",
              "      <td>0.146656</td>\n",
              "      <td>0.077768</td>\n",
              "      <td>0.048066</td>\n",
              "      <td>0.533480</td>\n",
              "    </tr>\n",
              "    <tr>\n",
              "      <th>std</th>\n",
              "      <td>NaN</td>\n",
              "      <td>NaN</td>\n",
              "      <td>NaN</td>\n",
              "      <td>NaN</td>\n",
              "      <td>NaN</td>\n",
              "      <td>0.816705</td>\n",
              "      <td>0.505367</td>\n",
              "      <td>0.309296</td>\n",
              "      <td>0.188594</td>\n",
              "      <td>1.532067</td>\n",
              "    </tr>\n",
              "    <tr>\n",
              "      <th>min</th>\n",
              "      <td>NaN</td>\n",
              "      <td>NaN</td>\n",
              "      <td>NaN</td>\n",
              "      <td>NaN</td>\n",
              "      <td>NaN</td>\n",
              "      <td>0.000000</td>\n",
              "      <td>0.000000</td>\n",
              "      <td>0.000000</td>\n",
              "      <td>0.000000</td>\n",
              "      <td>0.010000</td>\n",
              "    </tr>\n",
              "    <tr>\n",
              "      <th>25%</th>\n",
              "      <td>NaN</td>\n",
              "      <td>NaN</td>\n",
              "      <td>NaN</td>\n",
              "      <td>NaN</td>\n",
              "      <td>NaN</td>\n",
              "      <td>0.000000</td>\n",
              "      <td>0.000000</td>\n",
              "      <td>0.000000</td>\n",
              "      <td>0.000000</td>\n",
              "      <td>0.060000</td>\n",
              "    </tr>\n",
              "    <tr>\n",
              "      <th>50%</th>\n",
              "      <td>NaN</td>\n",
              "      <td>NaN</td>\n",
              "      <td>NaN</td>\n",
              "      <td>NaN</td>\n",
              "      <td>NaN</td>\n",
              "      <td>0.080000</td>\n",
              "      <td>0.020000</td>\n",
              "      <td>0.000000</td>\n",
              "      <td>0.010000</td>\n",
              "      <td>0.170000</td>\n",
              "    </tr>\n",
              "    <tr>\n",
              "      <th>75%</th>\n",
              "      <td>NaN</td>\n",
              "      <td>NaN</td>\n",
              "      <td>NaN</td>\n",
              "      <td>NaN</td>\n",
              "      <td>NaN</td>\n",
              "      <td>0.240000</td>\n",
              "      <td>0.110000</td>\n",
              "      <td>0.040000</td>\n",
              "      <td>0.040000</td>\n",
              "      <td>0.470000</td>\n",
              "    </tr>\n",
              "    <tr>\n",
              "      <th>max</th>\n",
              "      <td>NaN</td>\n",
              "      <td>NaN</td>\n",
              "      <td>NaN</td>\n",
              "      <td>NaN</td>\n",
              "      <td>NaN</td>\n",
              "      <td>41.490000</td>\n",
              "      <td>29.020000</td>\n",
              "      <td>10.220000</td>\n",
              "      <td>10.570000</td>\n",
              "      <td>82.740000</td>\n",
              "    </tr>\n",
              "  </tbody>\n",
              "</table>\n",
              "</div>\n",
              "      <button class=\"colab-df-convert\" onclick=\"convertToInteractive('df-74a60380-91a2-4a39-82c6-22527273bdd0')\"\n",
              "              title=\"Convert this dataframe to an interactive table.\"\n",
              "              style=\"display:none;\">\n",
              "        \n",
              "  <svg xmlns=\"http://www.w3.org/2000/svg\" height=\"24px\"viewBox=\"0 0 24 24\"\n",
              "       width=\"24px\">\n",
              "    <path d=\"M0 0h24v24H0V0z\" fill=\"none\"/>\n",
              "    <path d=\"M18.56 5.44l.94 2.06.94-2.06 2.06-.94-2.06-.94-.94-2.06-.94 2.06-2.06.94zm-11 1L8.5 8.5l.94-2.06 2.06-.94-2.06-.94L8.5 2.5l-.94 2.06-2.06.94zm10 10l.94 2.06.94-2.06 2.06-.94-2.06-.94-.94-2.06-.94 2.06-2.06.94z\"/><path d=\"M17.41 7.96l-1.37-1.37c-.4-.4-.92-.59-1.43-.59-.52 0-1.04.2-1.43.59L10.3 9.45l-7.72 7.72c-.78.78-.78 2.05 0 2.83L4 21.41c.39.39.9.59 1.41.59.51 0 1.02-.2 1.41-.59l7.78-7.78 2.81-2.81c.8-.78.8-2.07 0-2.86zM5.41 20L4 18.59l7.72-7.72 1.47 1.35L5.41 20z\"/>\n",
              "  </svg>\n",
              "      </button>\n",
              "      \n",
              "  <style>\n",
              "    .colab-df-container {\n",
              "      display:flex;\n",
              "      flex-wrap:wrap;\n",
              "      gap: 12px;\n",
              "    }\n",
              "\n",
              "    .colab-df-convert {\n",
              "      background-color: #E8F0FE;\n",
              "      border: none;\n",
              "      border-radius: 50%;\n",
              "      cursor: pointer;\n",
              "      display: none;\n",
              "      fill: #1967D2;\n",
              "      height: 32px;\n",
              "      padding: 0 0 0 0;\n",
              "      width: 32px;\n",
              "    }\n",
              "\n",
              "    .colab-df-convert:hover {\n",
              "      background-color: #E2EBFA;\n",
              "      box-shadow: 0px 1px 2px rgba(60, 64, 67, 0.3), 0px 1px 3px 1px rgba(60, 64, 67, 0.15);\n",
              "      fill: #174EA6;\n",
              "    }\n",
              "\n",
              "    [theme=dark] .colab-df-convert {\n",
              "      background-color: #3B4455;\n",
              "      fill: #D2E3FC;\n",
              "    }\n",
              "\n",
              "    [theme=dark] .colab-df-convert:hover {\n",
              "      background-color: #434B5C;\n",
              "      box-shadow: 0px 1px 3px 1px rgba(0, 0, 0, 0.15);\n",
              "      filter: drop-shadow(0px 1px 2px rgba(0, 0, 0, 0.3));\n",
              "      fill: #FFFFFF;\n",
              "    }\n",
              "  </style>\n",
              "\n",
              "      <script>\n",
              "        const buttonEl =\n",
              "          document.querySelector('#df-74a60380-91a2-4a39-82c6-22527273bdd0 button.colab-df-convert');\n",
              "        buttonEl.style.display =\n",
              "          google.colab.kernel.accessAllowed ? 'block' : 'none';\n",
              "\n",
              "        async function convertToInteractive(key) {\n",
              "          const element = document.querySelector('#df-74a60380-91a2-4a39-82c6-22527273bdd0');\n",
              "          const dataTable =\n",
              "            await google.colab.kernel.invokeFunction('convertToInteractive',\n",
              "                                                     [key], {});\n",
              "          if (!dataTable) return;\n",
              "\n",
              "          const docLinkHtml = 'Like what you see? Visit the ' +\n",
              "            '<a target=\"_blank\" href=https://colab.research.google.com/notebooks/data_table.ipynb>data table notebook</a>'\n",
              "            + ' to learn more about interactive tables.';\n",
              "          element.innerHTML = '';\n",
              "          dataTable['output_type'] = 'display_data';\n",
              "          await google.colab.output.renderOutput(dataTable, element);\n",
              "          const docLink = document.createElement('div');\n",
              "          docLink.innerHTML = docLinkHtml;\n",
              "          element.appendChild(docLink);\n",
              "        }\n",
              "      </script>\n",
              "    </div>\n",
              "  </div>\n",
              "  "
            ]
          },
          "metadata": {},
          "execution_count": 378
        }
      ],
      "source": [
        "df.describe(include='all')  "
      ]
    },
    {
      "cell_type": "markdown",
      "id": "90312ab6",
      "metadata": {
        "id": "90312ab6"
      },
      "source": [
        "### Bivariate Variables\n",
        "In this section, I will analyze the correlation of different pairs of variables."
      ]
    },
    {
      "cell_type": "code",
      "execution_count": null,
      "id": "f8c3cf2d",
      "metadata": {
        "id": "f8c3cf2d",
        "colab": {
          "base_uri": "https://localhost:8080/"
        },
        "outputId": "d74b0024-fff0-49bc-ca0d-ca4c86cf2fae"
      },
      "outputs": [
        {
          "output_type": "stream",
          "name": "stdout",
          "text": [
            "['NA_Sales', 'EU_Sales', 'JP_Sales', 'Other_Sales', 'Global_Sales']\n",
            "['Year', 'NA_Sales', 'EU_Sales', 'JP_Sales', 'Other_Sales', 'Global_Sales']\n"
          ]
        }
      ],
      "source": [
        "# I'll create a list with the sales columns titles and another one with the numeric columns titles.\n",
        "sales_columns = []\n",
        "numeric_columns = [\"Year\"]\n",
        "for i in range(5):\n",
        "  sales_columns.append(df.columns[i+5])\n",
        "  numeric_columns.append(df.columns[i+5])\n",
        "print(sales_columns)\n",
        "print(numeric_columns)"
      ]
    },
    {
      "cell_type": "code",
      "source": [
        "df_numeric = df.filter(items = numeric_columns)\n",
        "fig_dims = (15,10)\n",
        "fig, ax = plt.subplots(figsize = fig_dims)\n",
        "sns.heatmap(df_numeric.corr(), annot=True)"
      ],
      "metadata": {
        "id": "Q7bfBusAlJsS",
        "colab": {
          "base_uri": "https://localhost:8080/",
          "height": 613
        },
        "outputId": "eb24e770-46ea-43d0-ee4b-3d3c18157f79"
      },
      "id": "Q7bfBusAlJsS",
      "execution_count": null,
      "outputs": [
        {
          "output_type": "execute_result",
          "data": {
            "text/plain": [
              "<matplotlib.axes._subplots.AxesSubplot at 0x7ff7c0ade950>"
            ]
          },
          "metadata": {},
          "execution_count": 380
        },
        {
          "output_type": "display_data",
          "data": {
            "text/plain": [
              "<Figure size 1080x720 with 2 Axes>"
            ],
            "image/png": "[encoded data removed]"
          },
          "metadata": {
            "needs_background": "light"
          }
        }
      ]
    },
    {
      "cell_type": "markdown",
      "source": [
        "Global sales has a strong correlation with NA and Europe, which makes sense because those regions are the ones that consume the most. Strangely, Japan has a low correlation with global sales. That may be that the kind of videogames Japan buys is different from Europe and NA."
      ],
      "metadata": {
        "id": "CgT8ibEAnHm6"
      },
      "id": "CgT8ibEAnHm6"
    },
    {
      "cell_type": "markdown",
      "id": "eec505d4",
      "metadata": {
        "id": "eec505d4"
      },
      "source": [
        "### Key Point Analysis\n",
        "First, I will look carefully at the variables involved in each question, and then I will analyze the relationship between them."
      ]
    },
    {
      "cell_type": "markdown",
      "source": [
        "1. Which one is the videogame with more sales in each region?"
      ],
      "metadata": {
        "id": "_SEVq--S69HS"
      },
      "id": "_SEVq--S69HS"
    },
    {
      "cell_type": "code",
      "execution_count": null,
      "id": "721014f1",
      "metadata": {
        "id": "721014f1",
        "colab": {
          "base_uri": "https://localhost:8080/",
          "height": 81
        },
        "outputId": "0b7c671e-ae2f-4ef5-fa7c-a4b0dcef5a97"
      },
      "outputs": [
        {
          "output_type": "execute_result",
          "data": {
            "text/plain": [
              "         Name  NA_Sales\n",
              "0  Wii Sports     41.49"
            ],
            "text/html": [
              "\n",
              "  <div id=\"df-8ff1e469-b00b-4fd1-812e-db95b6e9ee07\">\n",
              "    <div class=\"colab-df-container\">\n",
              "      <div>\n",
              "<style scoped>\n",
              "    .dataframe tbody tr th:only-of-type {\n",
              "        vertical-align: middle;\n",
              "    }\n",
              "\n",
              "    .dataframe tbody tr th {\n",
              "        vertical-align: top;\n",
              "    }\n",
              "\n",
              "    .dataframe thead th {\n",
              "        text-align: right;\n",
              "    }\n",
              "</style>\n",
              "<table border=\"1\" class=\"dataframe\">\n",
              "  <thead>\n",
              "    <tr style=\"text-align: right;\">\n",
              "      <th></th>\n",
              "      <th>Name</th>\n",
              "      <th>NA_Sales</th>\n",
              "    </tr>\n",
              "  </thead>\n",
              "  <tbody>\n",
              "    <tr>\n",
              "      <th>0</th>\n",
              "      <td>Wii Sports</td>\n",
              "      <td>41.49</td>\n",
              "    </tr>\n",
              "  </tbody>\n",
              "</table>\n",
              "</div>\n",
              "      <button class=\"colab-df-convert\" onclick=\"convertToInteractive('df-8ff1e469-b00b-4fd1-812e-db95b6e9ee07')\"\n",
              "              title=\"Convert this dataframe to an interactive table.\"\n",
              "              style=\"display:none;\">\n",
              "        \n",
              "  <svg xmlns=\"http://www.w3.org/2000/svg\" height=\"24px\"viewBox=\"0 0 24 24\"\n",
              "       width=\"24px\">\n",
              "    <path d=\"M0 0h24v24H0V0z\" fill=\"none\"/>\n",
              "    <path d=\"M18.56 5.44l.94 2.06.94-2.06 2.06-.94-2.06-.94-.94-2.06-.94 2.06-2.06.94zm-11 1L8.5 8.5l.94-2.06 2.06-.94-2.06-.94L8.5 2.5l-.94 2.06-2.06.94zm10 10l.94 2.06.94-2.06 2.06-.94-2.06-.94-.94-2.06-.94 2.06-2.06.94z\"/><path d=\"M17.41 7.96l-1.37-1.37c-.4-.4-.92-.59-1.43-.59-.52 0-1.04.2-1.43.59L10.3 9.45l-7.72 7.72c-.78.78-.78 2.05 0 2.83L4 21.41c.39.39.9.59 1.41.59.51 0 1.02-.2 1.41-.59l7.78-7.78 2.81-2.81c.8-.78.8-2.07 0-2.86zM5.41 20L4 18.59l7.72-7.72 1.47 1.35L5.41 20z\"/>\n",
              "  </svg>\n",
              "      </button>\n",
              "      \n",
              "  <style>\n",
              "    .colab-df-container {\n",
              "      display:flex;\n",
              "      flex-wrap:wrap;\n",
              "      gap: 12px;\n",
              "    }\n",
              "\n",
              "    .colab-df-convert {\n",
              "      background-color: #E8F0FE;\n",
              "      border: none;\n",
              "      border-radius: 50%;\n",
              "      cursor: pointer;\n",
              "      display: none;\n",
              "      fill: #1967D2;\n",
              "      height: 32px;\n",
              "      padding: 0 0 0 0;\n",
              "      width: 32px;\n",
              "    }\n",
              "\n",
              "    .colab-df-convert:hover {\n",
              "      background-color: #E2EBFA;\n",
              "      box-shadow: 0px 1px 2px rgba(60, 64, 67, 0.3), 0px 1px 3px 1px rgba(60, 64, 67, 0.15);\n",
              "      fill: #174EA6;\n",
              "    }\n",
              "\n",
              "    [theme=dark] .colab-df-convert {\n",
              "      background-color: #3B4455;\n",
              "      fill: #D2E3FC;\n",
              "    }\n",
              "\n",
              "    [theme=dark] .colab-df-convert:hover {\n",
              "      background-color: #434B5C;\n",
              "      box-shadow: 0px 1px 3px 1px rgba(0, 0, 0, 0.15);\n",
              "      filter: drop-shadow(0px 1px 2px rgba(0, 0, 0, 0.3));\n",
              "      fill: #FFFFFF;\n",
              "    }\n",
              "  </style>\n",
              "\n",
              "      <script>\n",
              "        const buttonEl =\n",
              "          document.querySelector('#df-8ff1e469-b00b-4fd1-812e-db95b6e9ee07 button.colab-df-convert');\n",
              "        buttonEl.style.display =\n",
              "          google.colab.kernel.accessAllowed ? 'block' : 'none';\n",
              "\n",
              "        async function convertToInteractive(key) {\n",
              "          const element = document.querySelector('#df-8ff1e469-b00b-4fd1-812e-db95b6e9ee07');\n",
              "          const dataTable =\n",
              "            await google.colab.kernel.invokeFunction('convertToInteractive',\n",
              "                                                     [key], {});\n",
              "          if (!dataTable) return;\n",
              "\n",
              "          const docLinkHtml = 'Like what you see? Visit the ' +\n",
              "            '<a target=\"_blank\" href=https://colab.research.google.com/notebooks/data_table.ipynb>data table notebook</a>'\n",
              "            + ' to learn more about interactive tables.';\n",
              "          element.innerHTML = '';\n",
              "          dataTable['output_type'] = 'display_data';\n",
              "          await google.colab.output.renderOutput(dataTable, element);\n",
              "          const docLink = document.createElement('div');\n",
              "          docLink.innerHTML = docLinkHtml;\n",
              "          element.appendChild(docLink);\n",
              "        }\n",
              "      </script>\n",
              "    </div>\n",
              "  </div>\n",
              "  "
            ]
          },
          "metadata": {},
          "execution_count": 381
        }
      ],
      "source": [
        "# We create a data set with the proper columns and sort it by sales.\n",
        "df_na = df.filter(items = [\"Name\",\"NA_Sales\"]) \n",
        "df_na.sort_values(by = \"NA_Sales\", inplace = True, ascending = False)\n",
        "df_na.head(1) # We extract the first title"
      ]
    },
    {
      "cell_type": "code",
      "source": [
        "df_eu = df.filter(items = [\"Name\",\"EU_Sales\"])\n",
        "df_eu.sort_values(by = \"EU_Sales\", inplace = True, ascending = False)\n",
        "df_eu.head(1)"
      ],
      "metadata": {
        "id": "plJJjhmpArhk",
        "colab": {
          "base_uri": "https://localhost:8080/",
          "height": 81
        },
        "outputId": "de2946b6-8a7e-4296-c705-8b64517d0c98"
      },
      "id": "plJJjhmpArhk",
      "execution_count": null,
      "outputs": [
        {
          "output_type": "execute_result",
          "data": {
            "text/plain": [
              "         Name  EU_Sales\n",
              "0  Wii Sports     29.02"
            ],
            "text/html": [
              "\n",
              "  <div id=\"df-df7744d6-b3e8-4103-80f9-be019b6bc342\">\n",
              "    <div class=\"colab-df-container\">\n",
              "      <div>\n",
              "<style scoped>\n",
              "    .dataframe tbody tr th:only-of-type {\n",
              "        vertical-align: middle;\n",
              "    }\n",
              "\n",
              "    .dataframe tbody tr th {\n",
              "        vertical-align: top;\n",
              "    }\n",
              "\n",
              "    .dataframe thead th {\n",
              "        text-align: right;\n",
              "    }\n",
              "</style>\n",
              "<table border=\"1\" class=\"dataframe\">\n",
              "  <thead>\n",
              "    <tr style=\"text-align: right;\">\n",
              "      <th></th>\n",
              "      <th>Name</th>\n",
              "      <th>EU_Sales</th>\n",
              "    </tr>\n",
              "  </thead>\n",
              "  <tbody>\n",
              "    <tr>\n",
              "      <th>0</th>\n",
              "      <td>Wii Sports</td>\n",
              "      <td>29.02</td>\n",
              "    </tr>\n",
              "  </tbody>\n",
              "</table>\n",
              "</div>\n",
              "      <button class=\"colab-df-convert\" onclick=\"convertToInteractive('df-df7744d6-b3e8-4103-80f9-be019b6bc342')\"\n",
              "              title=\"Convert this dataframe to an interactive table.\"\n",
              "              style=\"display:none;\">\n",
              "        \n",
              "  <svg xmlns=\"http://www.w3.org/2000/svg\" height=\"24px\"viewBox=\"0 0 24 24\"\n",
              "       width=\"24px\">\n",
              "    <path d=\"M0 0h24v24H0V0z\" fill=\"none\"/>\n",
              "    <path d=\"M18.56 5.44l.94 2.06.94-2.06 2.06-.94-2.06-.94-.94-2.06-.94 2.06-2.06.94zm-11 1L8.5 8.5l.94-2.06 2.06-.94-2.06-.94L8.5 2.5l-.94 2.06-2.06.94zm10 10l.94 2.06.94-2.06 2.06-.94-2.06-.94-.94-2.06-.94 2.06-2.06.94z\"/><path d=\"M17.41 7.96l-1.37-1.37c-.4-.4-.92-.59-1.43-.59-.52 0-1.04.2-1.43.59L10.3 9.45l-7.72 7.72c-.78.78-.78 2.05 0 2.83L4 21.41c.39.39.9.59 1.41.59.51 0 1.02-.2 1.41-.59l7.78-7.78 2.81-2.81c.8-.78.8-2.07 0-2.86zM5.41 20L4 18.59l7.72-7.72 1.47 1.35L5.41 20z\"/>\n",
              "  </svg>\n",
              "      </button>\n",
              "      \n",
              "  <style>\n",
              "    .colab-df-container {\n",
              "      display:flex;\n",
              "      flex-wrap:wrap;\n",
              "      gap: 12px;\n",
              "    }\n",
              "\n",
              "    .colab-df-convert {\n",
              "      background-color: #E8F0FE;\n",
              "      border: none;\n",
              "      border-radius: 50%;\n",
              "      cursor: pointer;\n",
              "      display: none;\n",
              "      fill: #1967D2;\n",
              "      height: 32px;\n",
              "      padding: 0 0 0 0;\n",
              "      width: 32px;\n",
              "    }\n",
              "\n",
              "    .colab-df-convert:hover {\n",
              "      background-color: #E2EBFA;\n",
              "      box-shadow: 0px 1px 2px rgba(60, 64, 67, 0.3), 0px 1px 3px 1px rgba(60, 64, 67, 0.15);\n",
              "      fill: #174EA6;\n",
              "    }\n",
              "\n",
              "    [theme=dark] .colab-df-convert {\n",
              "      background-color: #3B4455;\n",
              "      fill: #D2E3FC;\n",
              "    }\n",
              "\n",
              "    [theme=dark] .colab-df-convert:hover {\n",
              "      background-color: #434B5C;\n",
              "      box-shadow: 0px 1px 3px 1px rgba(0, 0, 0, 0.15);\n",
              "      filter: drop-shadow(0px 1px 2px rgba(0, 0, 0, 0.3));\n",
              "      fill: #FFFFFF;\n",
              "    }\n",
              "  </style>\n",
              "\n",
              "      <script>\n",
              "        const buttonEl =\n",
              "          document.querySelector('#df-df7744d6-b3e8-4103-80f9-be019b6bc342 button.colab-df-convert');\n",
              "        buttonEl.style.display =\n",
              "          google.colab.kernel.accessAllowed ? 'block' : 'none';\n",
              "\n",
              "        async function convertToInteractive(key) {\n",
              "          const element = document.querySelector('#df-df7744d6-b3e8-4103-80f9-be019b6bc342');\n",
              "          const dataTable =\n",
              "            await google.colab.kernel.invokeFunction('convertToInteractive',\n",
              "                                                     [key], {});\n",
              "          if (!dataTable) return;\n",
              "\n",
              "          const docLinkHtml = 'Like what you see? Visit the ' +\n",
              "            '<a target=\"_blank\" href=https://colab.research.google.com/notebooks/data_table.ipynb>data table notebook</a>'\n",
              "            + ' to learn more about interactive tables.';\n",
              "          element.innerHTML = '';\n",
              "          dataTable['output_type'] = 'display_data';\n",
              "          await google.colab.output.renderOutput(dataTable, element);\n",
              "          const docLink = document.createElement('div');\n",
              "          docLink.innerHTML = docLinkHtml;\n",
              "          element.appendChild(docLink);\n",
              "        }\n",
              "      </script>\n",
              "    </div>\n",
              "  </div>\n",
              "  "
            ]
          },
          "metadata": {},
          "execution_count": 382
        }
      ]
    },
    {
      "cell_type": "code",
      "source": [
        "df_jp = df.filter(items = [\"Name\",\"JP_Sales\"])\n",
        "df_jp.sort_values(by = \"JP_Sales\", inplace = True, ascending = False)\n",
        "df_jp.head(1)"
      ],
      "metadata": {
        "id": "eQjrzKgsBJj2",
        "colab": {
          "base_uri": "https://localhost:8080/",
          "height": 81
        },
        "outputId": "3d5a1beb-c808-47bc-f9df-fa62b81e7847"
      },
      "id": "eQjrzKgsBJj2",
      "execution_count": null,
      "outputs": [
        {
          "output_type": "execute_result",
          "data": {
            "text/plain": [
              "                       Name  JP_Sales\n",
              "4  Pokemon Red/Pokemon Blue     10.22"
            ],
            "text/html": [
              "\n",
              "  <div id=\"df-ef4464a2-391a-451d-a505-cdb1eac8e055\">\n",
              "    <div class=\"colab-df-container\">\n",
              "      <div>\n",
              "<style scoped>\n",
              "    .dataframe tbody tr th:only-of-type {\n",
              "        vertical-align: middle;\n",
              "    }\n",
              "\n",
              "    .dataframe tbody tr th {\n",
              "        vertical-align: top;\n",
              "    }\n",
              "\n",
              "    .dataframe thead th {\n",
              "        text-align: right;\n",
              "    }\n",
              "</style>\n",
              "<table border=\"1\" class=\"dataframe\">\n",
              "  <thead>\n",
              "    <tr style=\"text-align: right;\">\n",
              "      <th></th>\n",
              "      <th>Name</th>\n",
              "      <th>JP_Sales</th>\n",
              "    </tr>\n",
              "  </thead>\n",
              "  <tbody>\n",
              "    <tr>\n",
              "      <th>4</th>\n",
              "      <td>Pokemon Red/Pokemon Blue</td>\n",
              "      <td>10.22</td>\n",
              "    </tr>\n",
              "  </tbody>\n",
              "</table>\n",
              "</div>\n",
              "      <button class=\"colab-df-convert\" onclick=\"convertToInteractive('df-ef4464a2-391a-451d-a505-cdb1eac8e055')\"\n",
              "              title=\"Convert this dataframe to an interactive table.\"\n",
              "              style=\"display:none;\">\n",
              "        \n",
              "  <svg xmlns=\"http://www.w3.org/2000/svg\" height=\"24px\"viewBox=\"0 0 24 24\"\n",
              "       width=\"24px\">\n",
              "    <path d=\"M0 0h24v24H0V0z\" fill=\"none\"/>\n",
              "    <path d=\"M18.56 5.44l.94 2.06.94-2.06 2.06-.94-2.06-.94-.94-2.06-.94 2.06-2.06.94zm-11 1L8.5 8.5l.94-2.06 2.06-.94-2.06-.94L8.5 2.5l-.94 2.06-2.06.94zm10 10l.94 2.06.94-2.06 2.06-.94-2.06-.94-.94-2.06-.94 2.06-2.06.94z\"/><path d=\"M17.41 7.96l-1.37-1.37c-.4-.4-.92-.59-1.43-.59-.52 0-1.04.2-1.43.59L10.3 9.45l-7.72 7.72c-.78.78-.78 2.05 0 2.83L4 21.41c.39.39.9.59 1.41.59.51 0 1.02-.2 1.41-.59l7.78-7.78 2.81-2.81c.8-.78.8-2.07 0-2.86zM5.41 20L4 18.59l7.72-7.72 1.47 1.35L5.41 20z\"/>\n",
              "  </svg>\n",
              "      </button>\n",
              "      \n",
              "  <style>\n",
              "    .colab-df-container {\n",
              "      display:flex;\n",
              "      flex-wrap:wrap;\n",
              "      gap: 12px;\n",
              "    }\n",
              "\n",
              "    .colab-df-convert {\n",
              "      background-color: #E8F0FE;\n",
              "      border: none;\n",
              "      border-radius: 50%;\n",
              "      cursor: pointer;\n",
              "      display: none;\n",
              "      fill: #1967D2;\n",
              "      height: 32px;\n",
              "      padding: 0 0 0 0;\n",
              "      width: 32px;\n",
              "    }\n",
              "\n",
              "    .colab-df-convert:hover {\n",
              "      background-color: #E2EBFA;\n",
              "      box-shadow: 0px 1px 2px rgba(60, 64, 67, 0.3), 0px 1px 3px 1px rgba(60, 64, 67, 0.15);\n",
              "      fill: #174EA6;\n",
              "    }\n",
              "\n",
              "    [theme=dark] .colab-df-convert {\n",
              "      background-color: #3B4455;\n",
              "      fill: #D2E3FC;\n",
              "    }\n",
              "\n",
              "    [theme=dark] .colab-df-convert:hover {\n",
              "      background-color: #434B5C;\n",
              "      box-shadow: 0px 1px 3px 1px rgba(0, 0, 0, 0.15);\n",
              "      filter: drop-shadow(0px 1px 2px rgba(0, 0, 0, 0.3));\n",
              "      fill: #FFFFFF;\n",
              "    }\n",
              "  </style>\n",
              "\n",
              "      <script>\n",
              "        const buttonEl =\n",
              "          document.querySelector('#df-ef4464a2-391a-451d-a505-cdb1eac8e055 button.colab-df-convert');\n",
              "        buttonEl.style.display =\n",
              "          google.colab.kernel.accessAllowed ? 'block' : 'none';\n",
              "\n",
              "        async function convertToInteractive(key) {\n",
              "          const element = document.querySelector('#df-ef4464a2-391a-451d-a505-cdb1eac8e055');\n",
              "          const dataTable =\n",
              "            await google.colab.kernel.invokeFunction('convertToInteractive',\n",
              "                                                     [key], {});\n",
              "          if (!dataTable) return;\n",
              "\n",
              "          const docLinkHtml = 'Like what you see? Visit the ' +\n",
              "            '<a target=\"_blank\" href=https://colab.research.google.com/notebooks/data_table.ipynb>data table notebook</a>'\n",
              "            + ' to learn more about interactive tables.';\n",
              "          element.innerHTML = '';\n",
              "          dataTable['output_type'] = 'display_data';\n",
              "          await google.colab.output.renderOutput(dataTable, element);\n",
              "          const docLink = document.createElement('div');\n",
              "          docLink.innerHTML = docLinkHtml;\n",
              "          element.appendChild(docLink);\n",
              "        }\n",
              "      </script>\n",
              "    </div>\n",
              "  </div>\n",
              "  "
            ]
          },
          "metadata": {},
          "execution_count": 383
        }
      ]
    },
    {
      "cell_type": "code",
      "source": [
        "df_other = df.filter(items = [\"Name\",\"Other_Sales\"])\n",
        "df_other.sort_values(by = \"Other_Sales\", inplace = True, ascending = False)\n",
        "df_other.head(1)"
      ],
      "metadata": {
        "id": "MFVgv69oBgFJ",
        "colab": {
          "base_uri": "https://localhost:8080/",
          "height": 81
        },
        "outputId": "9593a5a1-934d-4a21-cff7-4f5bc16fa3f7"
      },
      "id": "MFVgv69oBgFJ",
      "execution_count": null,
      "outputs": [
        {
          "output_type": "execute_result",
          "data": {
            "text/plain": [
              "                             Name  Other_Sales\n",
              "17  Grand Theft Auto: San Andreas        10.57"
            ],
            "text/html": [
              "\n",
              "  <div id=\"df-1cf4831f-fe03-4849-80a7-52f249bb2060\">\n",
              "    <div class=\"colab-df-container\">\n",
              "      <div>\n",
              "<style scoped>\n",
              "    .dataframe tbody tr th:only-of-type {\n",
              "        vertical-align: middle;\n",
              "    }\n",
              "\n",
              "    .dataframe tbody tr th {\n",
              "        vertical-align: top;\n",
              "    }\n",
              "\n",
              "    .dataframe thead th {\n",
              "        text-align: right;\n",
              "    }\n",
              "</style>\n",
              "<table border=\"1\" class=\"dataframe\">\n",
              "  <thead>\n",
              "    <tr style=\"text-align: right;\">\n",
              "      <th></th>\n",
              "      <th>Name</th>\n",
              "      <th>Other_Sales</th>\n",
              "    </tr>\n",
              "  </thead>\n",
              "  <tbody>\n",
              "    <tr>\n",
              "      <th>17</th>\n",
              "      <td>Grand Theft Auto: San Andreas</td>\n",
              "      <td>10.57</td>\n",
              "    </tr>\n",
              "  </tbody>\n",
              "</table>\n",
              "</div>\n",
              "      <button class=\"colab-df-convert\" onclick=\"convertToInteractive('df-1cf4831f-fe03-4849-80a7-52f249bb2060')\"\n",
              "              title=\"Convert this dataframe to an interactive table.\"\n",
              "              style=\"display:none;\">\n",
              "        \n",
              "  <svg xmlns=\"http://www.w3.org/2000/svg\" height=\"24px\"viewBox=\"0 0 24 24\"\n",
              "       width=\"24px\">\n",
              "    <path d=\"M0 0h24v24H0V0z\" fill=\"none\"/>\n",
              "    <path d=\"M18.56 5.44l.94 2.06.94-2.06 2.06-.94-2.06-.94-.94-2.06-.94 2.06-2.06.94zm-11 1L8.5 8.5l.94-2.06 2.06-.94-2.06-.94L8.5 2.5l-.94 2.06-2.06.94zm10 10l.94 2.06.94-2.06 2.06-.94-2.06-.94-.94-2.06-.94 2.06-2.06.94z\"/><path d=\"M17.41 7.96l-1.37-1.37c-.4-.4-.92-.59-1.43-.59-.52 0-1.04.2-1.43.59L10.3 9.45l-7.72 7.72c-.78.78-.78 2.05 0 2.83L4 21.41c.39.39.9.59 1.41.59.51 0 1.02-.2 1.41-.59l7.78-7.78 2.81-2.81c.8-.78.8-2.07 0-2.86zM5.41 20L4 18.59l7.72-7.72 1.47 1.35L5.41 20z\"/>\n",
              "  </svg>\n",
              "      </button>\n",
              "      \n",
              "  <style>\n",
              "    .colab-df-container {\n",
              "      display:flex;\n",
              "      flex-wrap:wrap;\n",
              "      gap: 12px;\n",
              "    }\n",
              "\n",
              "    .colab-df-convert {\n",
              "      background-color: #E8F0FE;\n",
              "      border: none;\n",
              "      border-radius: 50%;\n",
              "      cursor: pointer;\n",
              "      display: none;\n",
              "      fill: #1967D2;\n",
              "      height: 32px;\n",
              "      padding: 0 0 0 0;\n",
              "      width: 32px;\n",
              "    }\n",
              "\n",
              "    .colab-df-convert:hover {\n",
              "      background-color: #E2EBFA;\n",
              "      box-shadow: 0px 1px 2px rgba(60, 64, 67, 0.3), 0px 1px 3px 1px rgba(60, 64, 67, 0.15);\n",
              "      fill: #174EA6;\n",
              "    }\n",
              "\n",
              "    [theme=dark] .colab-df-convert {\n",
              "      background-color: #3B4455;\n",
              "      fill: #D2E3FC;\n",
              "    }\n",
              "\n",
              "    [theme=dark] .colab-df-convert:hover {\n",
              "      background-color: #434B5C;\n",
              "      box-shadow: 0px 1px 3px 1px rgba(0, 0, 0, 0.15);\n",
              "      filter: drop-shadow(0px 1px 2px rgba(0, 0, 0, 0.3));\n",
              "      fill: #FFFFFF;\n",
              "    }\n",
              "  </style>\n",
              "\n",
              "      <script>\n",
              "        const buttonEl =\n",
              "          document.querySelector('#df-1cf4831f-fe03-4849-80a7-52f249bb2060 button.colab-df-convert');\n",
              "        buttonEl.style.display =\n",
              "          google.colab.kernel.accessAllowed ? 'block' : 'none';\n",
              "\n",
              "        async function convertToInteractive(key) {\n",
              "          const element = document.querySelector('#df-1cf4831f-fe03-4849-80a7-52f249bb2060');\n",
              "          const dataTable =\n",
              "            await google.colab.kernel.invokeFunction('convertToInteractive',\n",
              "                                                     [key], {});\n",
              "          if (!dataTable) return;\n",
              "\n",
              "          const docLinkHtml = 'Like what you see? Visit the ' +\n",
              "            '<a target=\"_blank\" href=https://colab.research.google.com/notebooks/data_table.ipynb>data table notebook</a>'\n",
              "            + ' to learn more about interactive tables.';\n",
              "          element.innerHTML = '';\n",
              "          dataTable['output_type'] = 'display_data';\n",
              "          await google.colab.output.renderOutput(dataTable, element);\n",
              "          const docLink = document.createElement('div');\n",
              "          docLink.innerHTML = docLinkHtml;\n",
              "          element.appendChild(docLink);\n",
              "        }\n",
              "      </script>\n",
              "    </div>\n",
              "  </div>\n",
              "  "
            ]
          },
          "metadata": {},
          "execution_count": 384
        }
      ]
    },
    {
      "cell_type": "markdown",
      "source": [
        "Except in \"Other Sales\", the most sold videogame is always a Nintendo videogame. NA and Europe agree on Wii Sports."
      ],
      "metadata": {
        "id": "LgpGmLRx04sW"
      },
      "id": "LgpGmLRx04sW"
    },
    {
      "cell_type": "markdown",
      "source": [
        "2. Which are the five publishers that got more sales worldwide?"
      ],
      "metadata": {
        "id": "XEMLwbh2Bt49"
      },
      "id": "XEMLwbh2Bt49"
    },
    {
      "cell_type": "code",
      "source": [
        "# Create a data set with the publishers and global sales, create a group by adding the global sales\n",
        "df_publisher_sales = df.filter(items = [\"Publisher\",\"Global_Sales\"])\n",
        "gb_publisher_sales = df_publisher_sales.groupby(by = \"Publisher\").sum().reset_index()\n",
        "\n",
        "# Sort it descending\n",
        "gb_publisher_sales.sort_values(by = \"Global_Sales\", inplace = True, ascending = False)\n",
        "gb_publisher_sales.head()"
      ],
      "metadata": {
        "id": "o_B8n85VB0n5",
        "colab": {
          "base_uri": "https://localhost:8080/",
          "height": 206
        },
        "outputId": "424a4e7d-892e-4e19-b0e1-1f10d77e596d"
      },
      "id": "o_B8n85VB0n5",
      "execution_count": null,
      "outputs": [
        {
          "output_type": "execute_result",
          "data": {
            "text/plain": [
              "                       Publisher  Global_Sales\n",
              "359                     Nintendo       1757.97\n",
              "138              Electronic Arts       1109.06\n",
              "21                    Activision        726.62\n",
              "456  Sony Computer Entertainment        607.07\n",
              "525                      Ubisoft        473.88"
            ],
            "text/html": [
              "\n",
              "  <div id=\"df-24eb76ff-d868-48bb-a125-d2175c30fbbc\">\n",
              "    <div class=\"colab-df-container\">\n",
              "      <div>\n",
              "<style scoped>\n",
              "    .dataframe tbody tr th:only-of-type {\n",
              "        vertical-align: middle;\n",
              "    }\n",
              "\n",
              "    .dataframe tbody tr th {\n",
              "        vertical-align: top;\n",
              "    }\n",
              "\n",
              "    .dataframe thead th {\n",
              "        text-align: right;\n",
              "    }\n",
              "</style>\n",
              "<table border=\"1\" class=\"dataframe\">\n",
              "  <thead>\n",
              "    <tr style=\"text-align: right;\">\n",
              "      <th></th>\n",
              "      <th>Publisher</th>\n",
              "      <th>Global_Sales</th>\n",
              "    </tr>\n",
              "  </thead>\n",
              "  <tbody>\n",
              "    <tr>\n",
              "      <th>359</th>\n",
              "      <td>Nintendo</td>\n",
              "      <td>1757.97</td>\n",
              "    </tr>\n",
              "    <tr>\n",
              "      <th>138</th>\n",
              "      <td>Electronic Arts</td>\n",
              "      <td>1109.06</td>\n",
              "    </tr>\n",
              "    <tr>\n",
              "      <th>21</th>\n",
              "      <td>Activision</td>\n",
              "      <td>726.62</td>\n",
              "    </tr>\n",
              "    <tr>\n",
              "      <th>456</th>\n",
              "      <td>Sony Computer Entertainment</td>\n",
              "      <td>607.07</td>\n",
              "    </tr>\n",
              "    <tr>\n",
              "      <th>525</th>\n",
              "      <td>Ubisoft</td>\n",
              "      <td>473.88</td>\n",
              "    </tr>\n",
              "  </tbody>\n",
              "</table>\n",
              "</div>\n",
              "      <button class=\"colab-df-convert\" onclick=\"convertToInteractive('df-24eb76ff-d868-48bb-a125-d2175c30fbbc')\"\n",
              "              title=\"Convert this dataframe to an interactive table.\"\n",
              "              style=\"display:none;\">\n",
              "        \n",
              "  <svg xmlns=\"http://www.w3.org/2000/svg\" height=\"24px\"viewBox=\"0 0 24 24\"\n",
              "       width=\"24px\">\n",
              "    <path d=\"M0 0h24v24H0V0z\" fill=\"none\"/>\n",
              "    <path d=\"M18.56 5.44l.94 2.06.94-2.06 2.06-.94-2.06-.94-.94-2.06-.94 2.06-2.06.94zm-11 1L8.5 8.5l.94-2.06 2.06-.94-2.06-.94L8.5 2.5l-.94 2.06-2.06.94zm10 10l.94 2.06.94-2.06 2.06-.94-2.06-.94-.94-2.06-.94 2.06-2.06.94z\"/><path d=\"M17.41 7.96l-1.37-1.37c-.4-.4-.92-.59-1.43-.59-.52 0-1.04.2-1.43.59L10.3 9.45l-7.72 7.72c-.78.78-.78 2.05 0 2.83L4 21.41c.39.39.9.59 1.41.59.51 0 1.02-.2 1.41-.59l7.78-7.78 2.81-2.81c.8-.78.8-2.07 0-2.86zM5.41 20L4 18.59l7.72-7.72 1.47 1.35L5.41 20z\"/>\n",
              "  </svg>\n",
              "      </button>\n",
              "      \n",
              "  <style>\n",
              "    .colab-df-container {\n",
              "      display:flex;\n",
              "      flex-wrap:wrap;\n",
              "      gap: 12px;\n",
              "    }\n",
              "\n",
              "    .colab-df-convert {\n",
              "      background-color: #E8F0FE;\n",
              "      border: none;\n",
              "      border-radius: 50%;\n",
              "      cursor: pointer;\n",
              "      display: none;\n",
              "      fill: #1967D2;\n",
              "      height: 32px;\n",
              "      padding: 0 0 0 0;\n",
              "      width: 32px;\n",
              "    }\n",
              "\n",
              "    .colab-df-convert:hover {\n",
              "      background-color: #E2EBFA;\n",
              "      box-shadow: 0px 1px 2px rgba(60, 64, 67, 0.3), 0px 1px 3px 1px rgba(60, 64, 67, 0.15);\n",
              "      fill: #174EA6;\n",
              "    }\n",
              "\n",
              "    [theme=dark] .colab-df-convert {\n",
              "      background-color: #3B4455;\n",
              "      fill: #D2E3FC;\n",
              "    }\n",
              "\n",
              "    [theme=dark] .colab-df-convert:hover {\n",
              "      background-color: #434B5C;\n",
              "      box-shadow: 0px 1px 3px 1px rgba(0, 0, 0, 0.15);\n",
              "      filter: drop-shadow(0px 1px 2px rgba(0, 0, 0, 0.3));\n",
              "      fill: #FFFFFF;\n",
              "    }\n",
              "  </style>\n",
              "\n",
              "      <script>\n",
              "        const buttonEl =\n",
              "          document.querySelector('#df-24eb76ff-d868-48bb-a125-d2175c30fbbc button.colab-df-convert');\n",
              "        buttonEl.style.display =\n",
              "          google.colab.kernel.accessAllowed ? 'block' : 'none';\n",
              "\n",
              "        async function convertToInteractive(key) {\n",
              "          const element = document.querySelector('#df-24eb76ff-d868-48bb-a125-d2175c30fbbc');\n",
              "          const dataTable =\n",
              "            await google.colab.kernel.invokeFunction('convertToInteractive',\n",
              "                                                     [key], {});\n",
              "          if (!dataTable) return;\n",
              "\n",
              "          const docLinkHtml = 'Like what you see? Visit the ' +\n",
              "            '<a target=\"_blank\" href=https://colab.research.google.com/notebooks/data_table.ipynb>data table notebook</a>'\n",
              "            + ' to learn more about interactive tables.';\n",
              "          element.innerHTML = '';\n",
              "          dataTable['output_type'] = 'display_data';\n",
              "          await google.colab.output.renderOutput(dataTable, element);\n",
              "          const docLink = document.createElement('div');\n",
              "          docLink.innerHTML = docLinkHtml;\n",
              "          element.appendChild(docLink);\n",
              "        }\n",
              "      </script>\n",
              "    </div>\n",
              "  </div>\n",
              "  "
            ]
          },
          "metadata": {},
          "execution_count": 385
        }
      ]
    },
    {
      "cell_type": "markdown",
      "source": [
        "3. How have these five publishers evolved with the years of the data set?"
      ],
      "metadata": {
        "id": "kUlaLOl2DZId"
      },
      "id": "kUlaLOl2DZId"
    },
    {
      "cell_type": "code",
      "source": [
        "# Create a new data set with the five biggest publishers\n",
        "five_publishers = [\"Nintendo\",\"Electronic Arts\",\"Activision\",\"Sony Computer Entertainment\",\"Ubisoft\"]\n",
        "df_five_publishers = df[df[\"Publisher\"].isin(five_publishers)]\n",
        "df_five_publishers = df_five_publishers[df_five_publishers[\"Year\"] != \"no year\"]\n",
        "df_publisher_year_sales = df_five_publishers.filter(items = [\"Publisher\",\"Year\",\"Global_Sales\"])\n",
        "\n",
        "# Group by by publisher and year to get the sales of each publisher for every year\n",
        "gb_publisher_year_sales = df_publisher_year_sales.groupby(by = [\"Publisher\",\"Year\"]).sum().reset_index() \n",
        "print(gb_publisher_year_sales)"
      ],
      "metadata": {
        "id": "Xz-GXlM0E0xz",
        "colab": {
          "base_uri": "https://localhost:8080/"
        },
        "outputId": "044ee658-bc30-41a6-bb37-a91a2a3e985f"
      },
      "id": "Xz-GXlM0E0xz",
      "execution_count": null,
      "outputs": [
        {
          "output_type": "stream",
          "name": "stdout",
          "text": [
            "      Publisher    Year  Global_Sales\n",
            "0    Activision  1980.0          3.02\n",
            "1    Activision  1981.0          8.50\n",
            "2    Activision  1982.0          1.86\n",
            "3    Activision  1983.0          1.94\n",
            "4    Activision  1984.0          0.27\n",
            "..          ...     ...           ...\n",
            "131     Ubisoft  2013.0         27.39\n",
            "132     Ubisoft  2014.0         41.95\n",
            "133     Ubisoft  2015.0         12.79\n",
            "134     Ubisoft  2016.0          9.76\n",
            "135     Ubisoft  2020.0          0.29\n",
            "\n",
            "[136 rows x 3 columns]\n"
          ]
        }
      ]
    },
    {
      "cell_type": "code",
      "source": [
        "# Create a lineplot with the previous data\n",
        "fig_dims = (18,12)\n",
        "fig, ax = plt.subplots(figsize = fig_dims)\n",
        "ax.set(xlabel='Year', ylabel='Sales')\n",
        "sns.lineplot(data=gb_publisher_year_sales, x = \"Year\", y =\"Global_Sales\", hue = \"Publisher\").set(title='Sales per publisher')"
      ],
      "metadata": {
        "id": "QCo6tAV6HBMG",
        "colab": {
          "base_uri": "https://localhost:8080/"
        },
        "outputId": "66c6e9b3-bcf3-4eb5-f1fa-caf7a4ecc0bc"
      },
      "id": "QCo6tAV6HBMG",
      "execution_count": null,
      "outputs": [
        {
          "output_type": "execute_result",
          "data": {
            "text/plain": [
              "[Text(0.5, 1.0, 'Sales per publisher')]"
            ]
          },
          "metadata": {},
          "execution_count": 387
        },
        {
          "output_type": "display_data",
          "data": {
            "text/plain": [
              "<Figure size 1296x864 with 1 Axes>"
            ],
            "image/png": "[encoded data removed]"
          },
          "metadata": {
            "needs_background": "light"
          }
        }
      ]
    },
    {
      "cell_type": "markdown",
      "source": [
        "Looking the Nintendo graphic and its peaks around 2005-2010, we should see, first of all, which exact years were those peaks, and second, take a look at which games generated that sells."
      ],
      "metadata": {
        "id": "5pclxFJOEuv4"
      },
      "id": "5pclxFJOEuv4"
    },
    {
      "cell_type": "markdown",
      "source": [
        "Looking at the rest of the publishers, we see an increase tendency of sales. This may be due to the popularization of videogames. Around 2012 all of them strongly decrease. That may be due to the number of indie publishers that exist nowadays compared to the previous years. A study of number of publishers per decade should give us that information."
      ],
      "metadata": {
        "id": "Kv1L8sfTLaSe"
      },
      "id": "Kv1L8sfTLaSe"
    },
    {
      "cell_type": "markdown",
      "source": [
        "4. What is the cause of those two peaks around 2005-2010 on the Nintendo trends?"
      ],
      "metadata": {
        "id": "JMfdmlpyUX1L"
      },
      "id": "JMfdmlpyUX1L"
    },
    {
      "cell_type": "code",
      "source": [
        "# Filtering by Nintendo and sorting the data we can extract the years of those two peaks\n",
        "df_nintendo = df[(df[\"Publisher\"] == \"Nintendo\") & (df[\"Year\"] != \"no year\")]\n",
        "df_nintendo = df_nintendo.filter(items = [\"Name\",\"Publisher\",\"Platform\",\"Year\",\"Global_Sales\"])\n",
        "gb_nintendo = df_nintendo.groupby(by = \"Year\").sum().reset_index()\n",
        "gb_nintendo.sort_values(by = \"Global_Sales\", ascending = False).head(2)"
      ],
      "metadata": {
        "id": "sPizwAU_MCTh",
        "colab": {
          "base_uri": "https://localhost:8080/"
        },
        "outputId": "19142280-6411-427b-b368-67274a08b667"
      },
      "id": "sPizwAU_MCTh",
      "execution_count": null,
      "outputs": [
        {
          "output_type": "execute_result",
          "data": {
            "text/plain": [
              "      Year  Global_Sales\n",
              "23  2006.0        205.61\n",
              "26  2009.0        128.89"
            ],
            "text/html": [
              "\n",
              "  <div id=\"df-1a941a26-6221-486b-bd10-24038e3fe976\">\n",
              "    <div class=\"colab-df-container\">\n",
              "      <div>\n",
              "<style scoped>\n",
              "    .dataframe tbody tr th:only-of-type {\n",
              "        vertical-align: middle;\n",
              "    }\n",
              "\n",
              "    .dataframe tbody tr th {\n",
              "        vertical-align: top;\n",
              "    }\n",
              "\n",
              "    .dataframe thead th {\n",
              "        text-align: right;\n",
              "    }\n",
              "</style>\n",
              "<table border=\"1\" class=\"dataframe\">\n",
              "  <thead>\n",
              "    <tr style=\"text-align: right;\">\n",
              "      <th></th>\n",
              "      <th>Year</th>\n",
              "      <th>Global_Sales</th>\n",
              "    </tr>\n",
              "  </thead>\n",
              "  <tbody>\n",
              "    <tr>\n",
              "      <th>23</th>\n",
              "      <td>2006.0</td>\n",
              "      <td>205.61</td>\n",
              "    </tr>\n",
              "    <tr>\n",
              "      <th>26</th>\n",
              "      <td>2009.0</td>\n",
              "      <td>128.89</td>\n",
              "    </tr>\n",
              "  </tbody>\n",
              "</table>\n",
              "</div>\n",
              "      <button class=\"colab-df-convert\" onclick=\"convertToInteractive('df-1a941a26-6221-486b-bd10-24038e3fe976')\"\n",
              "              title=\"Convert this dataframe to an interactive table.\"\n",
              "              style=\"display:none;\">\n",
              "        \n",
              "  <svg xmlns=\"http://www.w3.org/2000/svg\" height=\"24px\"viewBox=\"0 0 24 24\"\n",
              "       width=\"24px\">\n",
              "    <path d=\"M0 0h24v24H0V0z\" fill=\"none\"/>\n",
              "    <path d=\"M18.56 5.44l.94 2.06.94-2.06 2.06-.94-2.06-.94-.94-2.06-.94 2.06-2.06.94zm-11 1L8.5 8.5l.94-2.06 2.06-.94-2.06-.94L8.5 2.5l-.94 2.06-2.06.94zm10 10l.94 2.06.94-2.06 2.06-.94-2.06-.94-.94-2.06-.94 2.06-2.06.94z\"/><path d=\"M17.41 7.96l-1.37-1.37c-.4-.4-.92-.59-1.43-.59-.52 0-1.04.2-1.43.59L10.3 9.45l-7.72 7.72c-.78.78-.78 2.05 0 2.83L4 21.41c.39.39.9.59 1.41.59.51 0 1.02-.2 1.41-.59l7.78-7.78 2.81-2.81c.8-.78.8-2.07 0-2.86zM5.41 20L4 18.59l7.72-7.72 1.47 1.35L5.41 20z\"/>\n",
              "  </svg>\n",
              "      </button>\n",
              "      \n",
              "  <style>\n",
              "    .colab-df-container {\n",
              "      display:flex;\n",
              "      flex-wrap:wrap;\n",
              "      gap: 12px;\n",
              "    }\n",
              "\n",
              "    .colab-df-convert {\n",
              "      background-color: #E8F0FE;\n",
              "      border: none;\n",
              "      border-radius: 50%;\n",
              "      cursor: pointer;\n",
              "      display: none;\n",
              "      fill: #1967D2;\n",
              "      height: 32px;\n",
              "      padding: 0 0 0 0;\n",
              "      width: 32px;\n",
              "    }\n",
              "\n",
              "    .colab-df-convert:hover {\n",
              "      background-color: #E2EBFA;\n",
              "      box-shadow: 0px 1px 2px rgba(60, 64, 67, 0.3), 0px 1px 3px 1px rgba(60, 64, 67, 0.15);\n",
              "      fill: #174EA6;\n",
              "    }\n",
              "\n",
              "    [theme=dark] .colab-df-convert {\n",
              "      background-color: #3B4455;\n",
              "      fill: #D2E3FC;\n",
              "    }\n",
              "\n",
              "    [theme=dark] .colab-df-convert:hover {\n",
              "      background-color: #434B5C;\n",
              "      box-shadow: 0px 1px 3px 1px rgba(0, 0, 0, 0.15);\n",
              "      filter: drop-shadow(0px 1px 2px rgba(0, 0, 0, 0.3));\n",
              "      fill: #FFFFFF;\n",
              "    }\n",
              "  </style>\n",
              "\n",
              "      <script>\n",
              "        const buttonEl =\n",
              "          document.querySelector('#df-1a941a26-6221-486b-bd10-24038e3fe976 button.colab-df-convert');\n",
              "        buttonEl.style.display =\n",
              "          google.colab.kernel.accessAllowed ? 'block' : 'none';\n",
              "\n",
              "        async function convertToInteractive(key) {\n",
              "          const element = document.querySelector('#df-1a941a26-6221-486b-bd10-24038e3fe976');\n",
              "          const dataTable =\n",
              "            await google.colab.kernel.invokeFunction('convertToInteractive',\n",
              "                                                     [key], {});\n",
              "          if (!dataTable) return;\n",
              "\n",
              "          const docLinkHtml = 'Like what you see? Visit the ' +\n",
              "            '<a target=\"_blank\" href=https://colab.research.google.com/notebooks/data_table.ipynb>data table notebook</a>'\n",
              "            + ' to learn more about interactive tables.';\n",
              "          element.innerHTML = '';\n",
              "          dataTable['output_type'] = 'display_data';\n",
              "          await google.colab.output.renderOutput(dataTable, element);\n",
              "          const docLink = document.createElement('div');\n",
              "          docLink.innerHTML = docLinkHtml;\n",
              "          element.appendChild(docLink);\n",
              "        }\n",
              "      </script>\n",
              "    </div>\n",
              "  </div>\n",
              "  "
            ]
          },
          "metadata": {},
          "execution_count": 388
        }
      ]
    },
    {
      "cell_type": "markdown",
      "source": [
        "Those two peaks are on years 2006 and 2009."
      ],
      "metadata": {
        "id": "GArVCqNxPVmE"
      },
      "id": "GArVCqNxPVmE"
    },
    {
      "cell_type": "markdown",
      "source": [
        "5. Which ones are the games and platform of the Nintendo videogames that generated more sales in 2006 and 2009?"
      ],
      "metadata": {
        "id": "1GDt4RyM3R9R"
      },
      "id": "1GDt4RyM3R9R"
    },
    {
      "cell_type": "code",
      "source": [
        "# Create a dataset only with Nintendo games of 2006\n",
        "df_nintendo_2006 = df_nintendo[df_nintendo[\"Year\"] == 2006]\n",
        "df_nintendo_2006.head()\n"
      ],
      "metadata": {
        "id": "jEKWi9XKPmGk",
        "colab": {
          "base_uri": "https://localhost:8080/"
        },
        "outputId": "f5952f30-affa-4f68-962a-db5cf004b9ee"
      },
      "id": "jEKWi9XKPmGk",
      "execution_count": null,
      "outputs": [
        {
          "output_type": "execute_result",
          "data": {
            "text/plain": [
              "                                       Name Publisher Platform    Year  \\\n",
              "0                                Wii Sports  Nintendo      Wii  2006.0   \n",
              "6                     New Super Mario Bros.  Nintendo       DS  2006.0   \n",
              "7                                  Wii Play  Nintendo      Wii  2006.0   \n",
              "20            Pokemon Diamond/Pokemon Pearl  Nintendo       DS  2006.0   \n",
              "100  The Legend of Zelda: Twilight Princess  Nintendo      Wii  2006.0   \n",
              "\n",
              "     Global_Sales  \n",
              "0           82.74  \n",
              "6           30.01  \n",
              "7           29.02  \n",
              "20          18.36  \n",
              "100          7.31  "
            ],
            "text/html": [
              "\n",
              "  <div id=\"df-82d376b0-baa0-4c0e-bed6-b20e929a3e1a\">\n",
              "    <div class=\"colab-df-container\">\n",
              "      <div>\n",
              "<style scoped>\n",
              "    .dataframe tbody tr th:only-of-type {\n",
              "        vertical-align: middle;\n",
              "    }\n",
              "\n",
              "    .dataframe tbody tr th {\n",
              "        vertical-align: top;\n",
              "    }\n",
              "\n",
              "    .dataframe thead th {\n",
              "        text-align: right;\n",
              "    }\n",
              "</style>\n",
              "<table border=\"1\" class=\"dataframe\">\n",
              "  <thead>\n",
              "    <tr style=\"text-align: right;\">\n",
              "      <th></th>\n",
              "      <th>Name</th>\n",
              "      <th>Publisher</th>\n",
              "      <th>Platform</th>\n",
              "      <th>Year</th>\n",
              "      <th>Global_Sales</th>\n",
              "    </tr>\n",
              "  </thead>\n",
              "  <tbody>\n",
              "    <tr>\n",
              "      <th>0</th>\n",
              "      <td>Wii Sports</td>\n",
              "      <td>Nintendo</td>\n",
              "      <td>Wii</td>\n",
              "      <td>2006.0</td>\n",
              "      <td>82.74</td>\n",
              "    </tr>\n",
              "    <tr>\n",
              "      <th>6</th>\n",
              "      <td>New Super Mario Bros.</td>\n",
              "      <td>Nintendo</td>\n",
              "      <td>DS</td>\n",
              "      <td>2006.0</td>\n",
              "      <td>30.01</td>\n",
              "    </tr>\n",
              "    <tr>\n",
              "      <th>7</th>\n",
              "      <td>Wii Play</td>\n",
              "      <td>Nintendo</td>\n",
              "      <td>Wii</td>\n",
              "      <td>2006.0</td>\n",
              "      <td>29.02</td>\n",
              "    </tr>\n",
              "    <tr>\n",
              "      <th>20</th>\n",
              "      <td>Pokemon Diamond/Pokemon Pearl</td>\n",
              "      <td>Nintendo</td>\n",
              "      <td>DS</td>\n",
              "      <td>2006.0</td>\n",
              "      <td>18.36</td>\n",
              "    </tr>\n",
              "    <tr>\n",
              "      <th>100</th>\n",
              "      <td>The Legend of Zelda: Twilight Princess</td>\n",
              "      <td>Nintendo</td>\n",
              "      <td>Wii</td>\n",
              "      <td>2006.0</td>\n",
              "      <td>7.31</td>\n",
              "    </tr>\n",
              "  </tbody>\n",
              "</table>\n",
              "</div>\n",
              "      <button class=\"colab-df-convert\" onclick=\"convertToInteractive('df-82d376b0-baa0-4c0e-bed6-b20e929a3e1a')\"\n",
              "              title=\"Convert this dataframe to an interactive table.\"\n",
              "              style=\"display:none;\">\n",
              "        \n",
              "  <svg xmlns=\"http://www.w3.org/2000/svg\" height=\"24px\"viewBox=\"0 0 24 24\"\n",
              "       width=\"24px\">\n",
              "    <path d=\"M0 0h24v24H0V0z\" fill=\"none\"/>\n",
              "    <path d=\"M18.56 5.44l.94 2.06.94-2.06 2.06-.94-2.06-.94-.94-2.06-.94 2.06-2.06.94zm-11 1L8.5 8.5l.94-2.06 2.06-.94-2.06-.94L8.5 2.5l-.94 2.06-2.06.94zm10 10l.94 2.06.94-2.06 2.06-.94-2.06-.94-.94-2.06-.94 2.06-2.06.94z\"/><path d=\"M17.41 7.96l-1.37-1.37c-.4-.4-.92-.59-1.43-.59-.52 0-1.04.2-1.43.59L10.3 9.45l-7.72 7.72c-.78.78-.78 2.05 0 2.83L4 21.41c.39.39.9.59 1.41.59.51 0 1.02-.2 1.41-.59l7.78-7.78 2.81-2.81c.8-.78.8-2.07 0-2.86zM5.41 20L4 18.59l7.72-7.72 1.47 1.35L5.41 20z\"/>\n",
              "  </svg>\n",
              "      </button>\n",
              "      \n",
              "  <style>\n",
              "    .colab-df-container {\n",
              "      display:flex;\n",
              "      flex-wrap:wrap;\n",
              "      gap: 12px;\n",
              "    }\n",
              "\n",
              "    .colab-df-convert {\n",
              "      background-color: #E8F0FE;\n",
              "      border: none;\n",
              "      border-radius: 50%;\n",
              "      cursor: pointer;\n",
              "      display: none;\n",
              "      fill: #1967D2;\n",
              "      height: 32px;\n",
              "      padding: 0 0 0 0;\n",
              "      width: 32px;\n",
              "    }\n",
              "\n",
              "    .colab-df-convert:hover {\n",
              "      background-color: #E2EBFA;\n",
              "      box-shadow: 0px 1px 2px rgba(60, 64, 67, 0.3), 0px 1px 3px 1px rgba(60, 64, 67, 0.15);\n",
              "      fill: #174EA6;\n",
              "    }\n",
              "\n",
              "    [theme=dark] .colab-df-convert {\n",
              "      background-color: #3B4455;\n",
              "      fill: #D2E3FC;\n",
              "    }\n",
              "\n",
              "    [theme=dark] .colab-df-convert:hover {\n",
              "      background-color: #434B5C;\n",
              "      box-shadow: 0px 1px 3px 1px rgba(0, 0, 0, 0.15);\n",
              "      filter: drop-shadow(0px 1px 2px rgba(0, 0, 0, 0.3));\n",
              "      fill: #FFFFFF;\n",
              "    }\n",
              "  </style>\n",
              "\n",
              "      <script>\n",
              "        const buttonEl =\n",
              "          document.querySelector('#df-82d376b0-baa0-4c0e-bed6-b20e929a3e1a button.colab-df-convert');\n",
              "        buttonEl.style.display =\n",
              "          google.colab.kernel.accessAllowed ? 'block' : 'none';\n",
              "\n",
              "        async function convertToInteractive(key) {\n",
              "          const element = document.querySelector('#df-82d376b0-baa0-4c0e-bed6-b20e929a3e1a');\n",
              "          const dataTable =\n",
              "            await google.colab.kernel.invokeFunction('convertToInteractive',\n",
              "                                                     [key], {});\n",
              "          if (!dataTable) return;\n",
              "\n",
              "          const docLinkHtml = 'Like what you see? Visit the ' +\n",
              "            '<a target=\"_blank\" href=https://colab.research.google.com/notebooks/data_table.ipynb>data table notebook</a>'\n",
              "            + ' to learn more about interactive tables.';\n",
              "          element.innerHTML = '';\n",
              "          dataTable['output_type'] = 'display_data';\n",
              "          await google.colab.output.renderOutput(dataTable, element);\n",
              "          const docLink = document.createElement('div');\n",
              "          docLink.innerHTML = docLinkHtml;\n",
              "          element.appendChild(docLink);\n",
              "        }\n",
              "      </script>\n",
              "    </div>\n",
              "  </div>\n",
              "  "
            ]
          },
          "metadata": {},
          "execution_count": 389
        }
      ]
    },
    {
      "cell_type": "code",
      "source": [
        "print(f\"In 2006 Nintendo published {df_nintendo_2006.shape[0]} videogames\")"
      ],
      "metadata": {
        "id": "yKiIyMlwSIW_",
        "colab": {
          "base_uri": "https://localhost:8080/"
        },
        "outputId": "e09a27f4-f7f2-432f-d905-c413b44dfbc9"
      },
      "id": "yKiIyMlwSIW_",
      "execution_count": null,
      "outputs": [
        {
          "output_type": "stream",
          "name": "stdout",
          "text": [
            "In 2006 Nintendo published 53 videogames\n"
          ]
        }
      ]
    },
    {
      "cell_type": "code",
      "source": [
        "# Create a dataset only with Nintendo games of 2009\n",
        "df_nintendo_2009 = df_nintendo[df_nintendo[\"Year\"] == 2009]\n",
        "df_nintendo_2009.head()"
      ],
      "metadata": {
        "id": "SWO1C8wkQyRj",
        "colab": {
          "base_uri": "https://localhost:8080/"
        },
        "outputId": "66a5b756-b4da-4305-a489-9347583bd411"
      },
      "id": "SWO1C8wkQyRj",
      "execution_count": null,
      "outputs": [
        {
          "output_type": "execute_result",
          "data": {
            "text/plain": [
              "                                               Name Publisher Platform  \\\n",
              "3                                 Wii Sports Resort  Nintendo      Wii   \n",
              "8                         New Super Mario Bros. Wii  Nintendo      Wii   \n",
              "14                                     Wii Fit Plus  Nintendo      Wii   \n",
              "45             Pokemon HeartGold/Pokemon SoulSilver  Nintendo       DS   \n",
              "149  Dragon Quest IX: Sentinels of the Starry Skies  Nintendo       DS   \n",
              "\n",
              "       Year  Global_Sales  \n",
              "3    2009.0         33.00  \n",
              "8    2009.0         28.62  \n",
              "14   2009.0         22.00  \n",
              "45   2009.0         11.90  \n",
              "149  2009.0          5.84  "
            ],
            "text/html": [
              "\n",
              "  <div id=\"df-738d200f-86f3-4a98-8fff-d7bc529bee19\">\n",
              "    <div class=\"colab-df-container\">\n",
              "      <div>\n",
              "<style scoped>\n",
              "    .dataframe tbody tr th:only-of-type {\n",
              "        vertical-align: middle;\n",
              "    }\n",
              "\n",
              "    .dataframe tbody tr th {\n",
              "        vertical-align: top;\n",
              "    }\n",
              "\n",
              "    .dataframe thead th {\n",
              "        text-align: right;\n",
              "    }\n",
              "</style>\n",
              "<table border=\"1\" class=\"dataframe\">\n",
              "  <thead>\n",
              "    <tr style=\"text-align: right;\">\n",
              "      <th></th>\n",
              "      <th>Name</th>\n",
              "      <th>Publisher</th>\n",
              "      <th>Platform</th>\n",
              "      <th>Year</th>\n",
              "      <th>Global_Sales</th>\n",
              "    </tr>\n",
              "  </thead>\n",
              "  <tbody>\n",
              "    <tr>\n",
              "      <th>3</th>\n",
              "      <td>Wii Sports Resort</td>\n",
              "      <td>Nintendo</td>\n",
              "      <td>Wii</td>\n",
              "      <td>2009.0</td>\n",
              "      <td>33.00</td>\n",
              "    </tr>\n",
              "    <tr>\n",
              "      <th>8</th>\n",
              "      <td>New Super Mario Bros. Wii</td>\n",
              "      <td>Nintendo</td>\n",
              "      <td>Wii</td>\n",
              "      <td>2009.0</td>\n",
              "      <td>28.62</td>\n",
              "    </tr>\n",
              "    <tr>\n",
              "      <th>14</th>\n",
              "      <td>Wii Fit Plus</td>\n",
              "      <td>Nintendo</td>\n",
              "      <td>Wii</td>\n",
              "      <td>2009.0</td>\n",
              "      <td>22.00</td>\n",
              "    </tr>\n",
              "    <tr>\n",
              "      <th>45</th>\n",
              "      <td>Pokemon HeartGold/Pokemon SoulSilver</td>\n",
              "      <td>Nintendo</td>\n",
              "      <td>DS</td>\n",
              "      <td>2009.0</td>\n",
              "      <td>11.90</td>\n",
              "    </tr>\n",
              "    <tr>\n",
              "      <th>149</th>\n",
              "      <td>Dragon Quest IX: Sentinels of the Starry Skies</td>\n",
              "      <td>Nintendo</td>\n",
              "      <td>DS</td>\n",
              "      <td>2009.0</td>\n",
              "      <td>5.84</td>\n",
              "    </tr>\n",
              "  </tbody>\n",
              "</table>\n",
              "</div>\n",
              "      <button class=\"colab-df-convert\" onclick=\"convertToInteractive('df-738d200f-86f3-4a98-8fff-d7bc529bee19')\"\n",
              "              title=\"Convert this dataframe to an interactive table.\"\n",
              "              style=\"display:none;\">\n",
              "        \n",
              "  <svg xmlns=\"http://www.w3.org/2000/svg\" height=\"24px\"viewBox=\"0 0 24 24\"\n",
              "       width=\"24px\">\n",
              "    <path d=\"M0 0h24v24H0V0z\" fill=\"none\"/>\n",
              "    <path d=\"M18.56 5.44l.94 2.06.94-2.06 2.06-.94-2.06-.94-.94-2.06-.94 2.06-2.06.94zm-11 1L8.5 8.5l.94-2.06 2.06-.94-2.06-.94L8.5 2.5l-.94 2.06-2.06.94zm10 10l.94 2.06.94-2.06 2.06-.94-2.06-.94-.94-2.06-.94 2.06-2.06.94z\"/><path d=\"M17.41 7.96l-1.37-1.37c-.4-.4-.92-.59-1.43-.59-.52 0-1.04.2-1.43.59L10.3 9.45l-7.72 7.72c-.78.78-.78 2.05 0 2.83L4 21.41c.39.39.9.59 1.41.59.51 0 1.02-.2 1.41-.59l7.78-7.78 2.81-2.81c.8-.78.8-2.07 0-2.86zM5.41 20L4 18.59l7.72-7.72 1.47 1.35L5.41 20z\"/>\n",
              "  </svg>\n",
              "      </button>\n",
              "      \n",
              "  <style>\n",
              "    .colab-df-container {\n",
              "      display:flex;\n",
              "      flex-wrap:wrap;\n",
              "      gap: 12px;\n",
              "    }\n",
              "\n",
              "    .colab-df-convert {\n",
              "      background-color: #E8F0FE;\n",
              "      border: none;\n",
              "      border-radius: 50%;\n",
              "      cursor: pointer;\n",
              "      display: none;\n",
              "      fill: #1967D2;\n",
              "      height: 32px;\n",
              "      padding: 0 0 0 0;\n",
              "      width: 32px;\n",
              "    }\n",
              "\n",
              "    .colab-df-convert:hover {\n",
              "      background-color: #E2EBFA;\n",
              "      box-shadow: 0px 1px 2px rgba(60, 64, 67, 0.3), 0px 1px 3px 1px rgba(60, 64, 67, 0.15);\n",
              "      fill: #174EA6;\n",
              "    }\n",
              "\n",
              "    [theme=dark] .colab-df-convert {\n",
              "      background-color: #3B4455;\n",
              "      fill: #D2E3FC;\n",
              "    }\n",
              "\n",
              "    [theme=dark] .colab-df-convert:hover {\n",
              "      background-color: #434B5C;\n",
              "      box-shadow: 0px 1px 3px 1px rgba(0, 0, 0, 0.15);\n",
              "      filter: drop-shadow(0px 1px 2px rgba(0, 0, 0, 0.3));\n",
              "      fill: #FFFFFF;\n",
              "    }\n",
              "  </style>\n",
              "\n",
              "      <script>\n",
              "        const buttonEl =\n",
              "          document.querySelector('#df-738d200f-86f3-4a98-8fff-d7bc529bee19 button.colab-df-convert');\n",
              "        buttonEl.style.display =\n",
              "          google.colab.kernel.accessAllowed ? 'block' : 'none';\n",
              "\n",
              "        async function convertToInteractive(key) {\n",
              "          const element = document.querySelector('#df-738d200f-86f3-4a98-8fff-d7bc529bee19');\n",
              "          const dataTable =\n",
              "            await google.colab.kernel.invokeFunction('convertToInteractive',\n",
              "                                                     [key], {});\n",
              "          if (!dataTable) return;\n",
              "\n",
              "          const docLinkHtml = 'Like what you see? Visit the ' +\n",
              "            '<a target=\"_blank\" href=https://colab.research.google.com/notebooks/data_table.ipynb>data table notebook</a>'\n",
              "            + ' to learn more about interactive tables.';\n",
              "          element.innerHTML = '';\n",
              "          dataTable['output_type'] = 'display_data';\n",
              "          await google.colab.output.renderOutput(dataTable, element);\n",
              "          const docLink = document.createElement('div');\n",
              "          docLink.innerHTML = docLinkHtml;\n",
              "          element.appendChild(docLink);\n",
              "        }\n",
              "      </script>\n",
              "    </div>\n",
              "  </div>\n",
              "  "
            ]
          },
          "metadata": {},
          "execution_count": 391
        }
      ]
    },
    {
      "cell_type": "code",
      "source": [
        "print(f\"In 2009 Nintendo published {df_nintendo_2009.shape[0]} videogames\")"
      ],
      "metadata": {
        "id": "T2uf1263SMG_",
        "colab": {
          "base_uri": "https://localhost:8080/"
        },
        "outputId": "6e70729b-0f76-4b9f-f82b-770daec2b014"
      },
      "id": "T2uf1263SMG_",
      "execution_count": null,
      "outputs": [
        {
          "output_type": "stream",
          "name": "stdout",
          "text": [
            "In 2009 Nintendo published 32 videogames\n"
          ]
        }
      ]
    },
    {
      "cell_type": "markdown",
      "source": [
        "In 2006 the videogame with most sales was Wii Sports, of Wii (Published in November 2006) and in 2009 it was Wii Sports Resort, of Wii as well.\n",
        "In 2006 the main sales were from Wii and Nintendo DS, but in 2009 was mainly 2009."
      ],
      "metadata": {
        "id": "HuDlqz4D3tL9"
      },
      "id": "HuDlqz4D3tL9"
    },
    {
      "cell_type": "markdown",
      "source": [
        "Seeing that, for the five different publishers, we have maximums at the 2000 decade and, after 2010, the sales fastly decrease, it would be nice to take a look at the development of the publishers and videogames sales and publishing over the years."
      ],
      "metadata": {
        "id": "I7d92AWKHOUB"
      },
      "id": "I7d92AWKHOUB"
    },
    {
      "cell_type": "markdown",
      "source": [
        "6. How many different publishers existed and how many videogames were published and sold between 1980 and 2020?"
      ],
      "metadata": {
        "id": "l5k5aAO6Ui3R"
      },
      "id": "l5k5aAO6Ui3R"
    },
    {
      "cell_type": "code",
      "source": [
        "year = []\n",
        "publishers = []\n",
        "videogames = []\n",
        "sales = []\n",
        "for i in range(1980,2021):\n",
        "  fi = float(i)\n",
        "  year.append(i)\n",
        "  df_i = df[df[\"Year\"] == fi]\n",
        "  publishers.append(df_i[\"Publisher\"].nunique())\n",
        "  videogames.append(df_i.shape[0])\n",
        "  sales.append(df_i[\"Global_Sales\"].sum(axis = 0, skipna = True))"
      ],
      "metadata": {
        "id": "BuYP-2UnbhiO"
      },
      "id": "BuYP-2UnbhiO",
      "execution_count": null,
      "outputs": []
    },
    {
      "cell_type": "code",
      "source": [
        "d = {\"Year\":year, \"Publishers\":publishers, \"Videogames\":videogames, \"Sales\":sales}\n",
        "df_years = pd.DataFrame(d)\n",
        "df_years.head(10)"
      ],
      "metadata": {
        "id": "zyaT2PLkfA97",
        "colab": {
          "base_uri": "https://localhost:8080/"
        },
        "outputId": "5314b569-e966-4ad6-8678-9ca88a4285ca"
      },
      "id": "zyaT2PLkfA97",
      "execution_count": null,
      "outputs": [
        {
          "output_type": "execute_result",
          "data": {
            "text/plain": [
              "   Year  Publishers  Videogames  Sales\n",
              "0  1980           2           9  11.38\n",
              "1  1981          14          46  34.93\n",
              "2  1982          18          36  28.86\n",
              "3  1983           4          17  16.79\n",
              "4  1984           4          14  22.22\n",
              "5  1985           6          14  53.94\n",
              "6  1986           6          21  37.07\n",
              "7  1987           8          16  21.74\n",
              "8  1988           7          15  47.22\n",
              "9  1989           9          17  73.45"
            ],
            "text/html": [
              "\n",
              "  <div id=\"df-a8ff87e8-d8b6-468b-8d6f-30e4949d419e\">\n",
              "    <div class=\"colab-df-container\">\n",
              "      <div>\n",
              "<style scoped>\n",
              "    .dataframe tbody tr th:only-of-type {\n",
              "        vertical-align: middle;\n",
              "    }\n",
              "\n",
              "    .dataframe tbody tr th {\n",
              "        vertical-align: top;\n",
              "    }\n",
              "\n",
              "    .dataframe thead th {\n",
              "        text-align: right;\n",
              "    }\n",
              "</style>\n",
              "<table border=\"1\" class=\"dataframe\">\n",
              "  <thead>\n",
              "    <tr style=\"text-align: right;\">\n",
              "      <th></th>\n",
              "      <th>Year</th>\n",
              "      <th>Publishers</th>\n",
              "      <th>Videogames</th>\n",
              "      <th>Sales</th>\n",
              "    </tr>\n",
              "  </thead>\n",
              "  <tbody>\n",
              "    <tr>\n",
              "      <th>0</th>\n",
              "      <td>1980</td>\n",
              "      <td>2</td>\n",
              "      <td>9</td>\n",
              "      <td>11.38</td>\n",
              "    </tr>\n",
              "    <tr>\n",
              "      <th>1</th>\n",
              "      <td>1981</td>\n",
              "      <td>14</td>\n",
              "      <td>46</td>\n",
              "      <td>34.93</td>\n",
              "    </tr>\n",
              "    <tr>\n",
              "      <th>2</th>\n",
              "      <td>1982</td>\n",
              "      <td>18</td>\n",
              "      <td>36</td>\n",
              "      <td>28.86</td>\n",
              "    </tr>\n",
              "    <tr>\n",
              "      <th>3</th>\n",
              "      <td>1983</td>\n",
              "      <td>4</td>\n",
              "      <td>17</td>\n",
              "      <td>16.79</td>\n",
              "    </tr>\n",
              "    <tr>\n",
              "      <th>4</th>\n",
              "      <td>1984</td>\n",
              "      <td>4</td>\n",
              "      <td>14</td>\n",
              "      <td>22.22</td>\n",
              "    </tr>\n",
              "    <tr>\n",
              "      <th>5</th>\n",
              "      <td>1985</td>\n",
              "      <td>6</td>\n",
              "      <td>14</td>\n",
              "      <td>53.94</td>\n",
              "    </tr>\n",
              "    <tr>\n",
              "      <th>6</th>\n",
              "      <td>1986</td>\n",
              "      <td>6</td>\n",
              "      <td>21</td>\n",
              "      <td>37.07</td>\n",
              "    </tr>\n",
              "    <tr>\n",
              "      <th>7</th>\n",
              "      <td>1987</td>\n",
              "      <td>8</td>\n",
              "      <td>16</td>\n",
              "      <td>21.74</td>\n",
              "    </tr>\n",
              "    <tr>\n",
              "      <th>8</th>\n",
              "      <td>1988</td>\n",
              "      <td>7</td>\n",
              "      <td>15</td>\n",
              "      <td>47.22</td>\n",
              "    </tr>\n",
              "    <tr>\n",
              "      <th>9</th>\n",
              "      <td>1989</td>\n",
              "      <td>9</td>\n",
              "      <td>17</td>\n",
              "      <td>73.45</td>\n",
              "    </tr>\n",
              "  </tbody>\n",
              "</table>\n",
              "</div>\n",
              "      <button class=\"colab-df-convert\" onclick=\"convertToInteractive('df-a8ff87e8-d8b6-468b-8d6f-30e4949d419e')\"\n",
              "              title=\"Convert this dataframe to an interactive table.\"\n",
              "              style=\"display:none;\">\n",
              "        \n",
              "  <svg xmlns=\"http://www.w3.org/2000/svg\" height=\"24px\"viewBox=\"0 0 24 24\"\n",
              "       width=\"24px\">\n",
              "    <path d=\"M0 0h24v24H0V0z\" fill=\"none\"/>\n",
              "    <path d=\"M18.56 5.44l.94 2.06.94-2.06 2.06-.94-2.06-.94-.94-2.06-.94 2.06-2.06.94zm-11 1L8.5 8.5l.94-2.06 2.06-.94-2.06-.94L8.5 2.5l-.94 2.06-2.06.94zm10 10l.94 2.06.94-2.06 2.06-.94-2.06-.94-.94-2.06-.94 2.06-2.06.94z\"/><path d=\"M17.41 7.96l-1.37-1.37c-.4-.4-.92-.59-1.43-.59-.52 0-1.04.2-1.43.59L10.3 9.45l-7.72 7.72c-.78.78-.78 2.05 0 2.83L4 21.41c.39.39.9.59 1.41.59.51 0 1.02-.2 1.41-.59l7.78-7.78 2.81-2.81c.8-.78.8-2.07 0-2.86zM5.41 20L4 18.59l7.72-7.72 1.47 1.35L5.41 20z\"/>\n",
              "  </svg>\n",
              "      </button>\n",
              "      \n",
              "  <style>\n",
              "    .colab-df-container {\n",
              "      display:flex;\n",
              "      flex-wrap:wrap;\n",
              "      gap: 12px;\n",
              "    }\n",
              "\n",
              "    .colab-df-convert {\n",
              "      background-color: #E8F0FE;\n",
              "      border: none;\n",
              "      border-radius: 50%;\n",
              "      cursor: pointer;\n",
              "      display: none;\n",
              "      fill: #1967D2;\n",
              "      height: 32px;\n",
              "      padding: 0 0 0 0;\n",
              "      width: 32px;\n",
              "    }\n",
              "\n",
              "    .colab-df-convert:hover {\n",
              "      background-color: #E2EBFA;\n",
              "      box-shadow: 0px 1px 2px rgba(60, 64, 67, 0.3), 0px 1px 3px 1px rgba(60, 64, 67, 0.15);\n",
              "      fill: #174EA6;\n",
              "    }\n",
              "\n",
              "    [theme=dark] .colab-df-convert {\n",
              "      background-color: #3B4455;\n",
              "      fill: #D2E3FC;\n",
              "    }\n",
              "\n",
              "    [theme=dark] .colab-df-convert:hover {\n",
              "      background-color: #434B5C;\n",
              "      box-shadow: 0px 1px 3px 1px rgba(0, 0, 0, 0.15);\n",
              "      filter: drop-shadow(0px 1px 2px rgba(0, 0, 0, 0.3));\n",
              "      fill: #FFFFFF;\n",
              "    }\n",
              "  </style>\n",
              "\n",
              "      <script>\n",
              "        const buttonEl =\n",
              "          document.querySelector('#df-a8ff87e8-d8b6-468b-8d6f-30e4949d419e button.colab-df-convert');\n",
              "        buttonEl.style.display =\n",
              "          google.colab.kernel.accessAllowed ? 'block' : 'none';\n",
              "\n",
              "        async function convertToInteractive(key) {\n",
              "          const element = document.querySelector('#df-a8ff87e8-d8b6-468b-8d6f-30e4949d419e');\n",
              "          const dataTable =\n",
              "            await google.colab.kernel.invokeFunction('convertToInteractive',\n",
              "                                                     [key], {});\n",
              "          if (!dataTable) return;\n",
              "\n",
              "          const docLinkHtml = 'Like what you see? Visit the ' +\n",
              "            '<a target=\"_blank\" href=https://colab.research.google.com/notebooks/data_table.ipynb>data table notebook</a>'\n",
              "            + ' to learn more about interactive tables.';\n",
              "          element.innerHTML = '';\n",
              "          dataTable['output_type'] = 'display_data';\n",
              "          await google.colab.output.renderOutput(dataTable, element);\n",
              "          const docLink = document.createElement('div');\n",
              "          docLink.innerHTML = docLinkHtml;\n",
              "          element.appendChild(docLink);\n",
              "        }\n",
              "      </script>\n",
              "    </div>\n",
              "  </div>\n",
              "  "
            ]
          },
          "metadata": {},
          "execution_count": 394
        }
      ]
    },
    {
      "cell_type": "code",
      "source": [
        "fig_dims = (18,12)\n",
        "fig, ax = plt.subplots(figsize = fig_dims)\n",
        "ax.set(xlabel = 'Year', ylabel = 'Number')\n",
        "sns.lineplot(x='Year', y='value', hue='variable', data=pd.melt(df_years, ['Year'])).set(title = 'Publishers, videogames and sales over the years')"
      ],
      "metadata": {
        "id": "MQlICWeaoWj7",
        "colab": {
          "base_uri": "https://localhost:8080/"
        },
        "outputId": "792d73cd-4a8c-47d0-e9ad-89786f2150e2"
      },
      "id": "MQlICWeaoWj7",
      "execution_count": null,
      "outputs": [
        {
          "output_type": "execute_result",
          "data": {
            "text/plain": [
              "[Text(0.5, 1.0, 'Publishers, videogames and sales over the years')]"
            ]
          },
          "metadata": {},
          "execution_count": 395
        },
        {
          "output_type": "display_data",
          "data": {
            "text/plain": [
              "<Figure size 1296x864 with 1 Axes>"
            ],
            "image/png": "[encoded data removed]"
          },
          "metadata": {
            "needs_background": "light"
          }
        }
      ]
    },
    {
      "cell_type": "markdown",
      "source": [
        "In this lineplot we see a peak between 2005 and 2010, but after 2010 all the variables fastly decrease. On platforms, mobile phone's videogames are not on the data set. Nowadays, an important percentage of videogames are through smartphones, with they don't appear in this data set. This could be one cause of this decrease in videgames sales and production. The other one could be that the data is incomplete. For instance, no Nintendo Switch videogames are published, while the console was published on March 2017."
      ],
      "metadata": {
        "id": "wrV7EGctZXA3"
      },
      "id": "wrV7EGctZXA3"
    },
    {
      "cell_type": "markdown",
      "source": [
        "7. Would the data show any change if it's sorted and gathered by decades instead of years?"
      ],
      "metadata": {
        "id": "ZCOF9R5ZCC83"
      },
      "id": "ZCOF9R5ZCC83"
    },
    {
      "cell_type": "code",
      "source": [
        "def dec(df_years):\n",
        "  d = df_years[\"Year\"]//10\n",
        "  return int(d*10) # This way we create the decade of every year.\n",
        "df_years.insert(df_years.shape[1], \"Decade\", df_years.apply(dec, axis = 1))\n",
        "\n",
        "# Create a column with the decade of each year.\n",
        "df_years.sample(10)"
      ],
      "metadata": {
        "id": "MBvGh03qCPIi",
        "colab": {
          "base_uri": "https://localhost:8080/"
        },
        "outputId": "4365cb1a-99d2-487b-c648-2937193c4ed6"
      },
      "id": "MBvGh03qCPIi",
      "execution_count": null,
      "outputs": [
        {
          "output_type": "execute_result",
          "data": {
            "text/plain": [
              "    Year  Publishers  Videogames   Sales  Decade\n",
              "7   1987           8          16   21.74    1980\n",
              "30  2010         143        1259  599.18    2010\n",
              "40  2020           1           1    0.29    2020\n",
              "16  1996          81         263  199.15    1990\n",
              "36  2016          69         344   70.93    2010\n",
              "34  2014          70         582  337.05    2010\n",
              "21  2001          83         482  331.47    2000\n",
              "22  2002         100         829  393.27    2000\n",
              "3   1983           4          17   16.79    1980\n",
              "27  2007         142        1202  610.29    2000"
            ],
            "text/html": [
              "\n",
              "  <div id=\"df-d41b957e-48d7-4be3-807a-0d22ced7b229\">\n",
              "    <div class=\"colab-df-container\">\n",
              "      <div>\n",
              "<style scoped>\n",
              "    .dataframe tbody tr th:only-of-type {\n",
              "        vertical-align: middle;\n",
              "    }\n",
              "\n",
              "    .dataframe tbody tr th {\n",
              "        vertical-align: top;\n",
              "    }\n",
              "\n",
              "    .dataframe thead th {\n",
              "        text-align: right;\n",
              "    }\n",
              "</style>\n",
              "<table border=\"1\" class=\"dataframe\">\n",
              "  <thead>\n",
              "    <tr style=\"text-align: right;\">\n",
              "      <th></th>\n",
              "      <th>Year</th>\n",
              "      <th>Publishers</th>\n",
              "      <th>Videogames</th>\n",
              "      <th>Sales</th>\n",
              "      <th>Decade</th>\n",
              "    </tr>\n",
              "  </thead>\n",
              "  <tbody>\n",
              "    <tr>\n",
              "      <th>7</th>\n",
              "      <td>1987</td>\n",
              "      <td>8</td>\n",
              "      <td>16</td>\n",
              "      <td>21.74</td>\n",
              "      <td>1980</td>\n",
              "    </tr>\n",
              "    <tr>\n",
              "      <th>30</th>\n",
              "      <td>2010</td>\n",
              "      <td>143</td>\n",
              "      <td>1259</td>\n",
              "      <td>599.18</td>\n",
              "      <td>2010</td>\n",
              "    </tr>\n",
              "    <tr>\n",
              "      <th>40</th>\n",
              "      <td>2020</td>\n",
              "      <td>1</td>\n",
              "      <td>1</td>\n",
              "      <td>0.29</td>\n",
              "      <td>2020</td>\n",
              "    </tr>\n",
              "    <tr>\n",
              "      <th>16</th>\n",
              "      <td>1996</td>\n",
              "      <td>81</td>\n",
              "      <td>263</td>\n",
              "      <td>199.15</td>\n",
              "      <td>1990</td>\n",
              "    </tr>\n",
              "    <tr>\n",
              "      <th>36</th>\n",
              "      <td>2016</td>\n",
              "      <td>69</td>\n",
              "      <td>344</td>\n",
              "      <td>70.93</td>\n",
              "      <td>2010</td>\n",
              "    </tr>\n",
              "    <tr>\n",
              "      <th>34</th>\n",
              "      <td>2014</td>\n",
              "      <td>70</td>\n",
              "      <td>582</td>\n",
              "      <td>337.05</td>\n",
              "      <td>2010</td>\n",
              "    </tr>\n",
              "    <tr>\n",
              "      <th>21</th>\n",
              "      <td>2001</td>\n",
              "      <td>83</td>\n",
              "      <td>482</td>\n",
              "      <td>331.47</td>\n",
              "      <td>2000</td>\n",
              "    </tr>\n",
              "    <tr>\n",
              "      <th>22</th>\n",
              "      <td>2002</td>\n",
              "      <td>100</td>\n",
              "      <td>829</td>\n",
              "      <td>393.27</td>\n",
              "      <td>2000</td>\n",
              "    </tr>\n",
              "    <tr>\n",
              "      <th>3</th>\n",
              "      <td>1983</td>\n",
              "      <td>4</td>\n",
              "      <td>17</td>\n",
              "      <td>16.79</td>\n",
              "      <td>1980</td>\n",
              "    </tr>\n",
              "    <tr>\n",
              "      <th>27</th>\n",
              "      <td>2007</td>\n",
              "      <td>142</td>\n",
              "      <td>1202</td>\n",
              "      <td>610.29</td>\n",
              "      <td>2000</td>\n",
              "    </tr>\n",
              "  </tbody>\n",
              "</table>\n",
              "</div>\n",
              "      <button class=\"colab-df-convert\" onclick=\"convertToInteractive('df-d41b957e-48d7-4be3-807a-0d22ced7b229')\"\n",
              "              title=\"Convert this dataframe to an interactive table.\"\n",
              "              style=\"display:none;\">\n",
              "        \n",
              "  <svg xmlns=\"http://www.w3.org/2000/svg\" height=\"24px\"viewBox=\"0 0 24 24\"\n",
              "       width=\"24px\">\n",
              "    <path d=\"M0 0h24v24H0V0z\" fill=\"none\"/>\n",
              "    <path d=\"M18.56 5.44l.94 2.06.94-2.06 2.06-.94-2.06-.94-.94-2.06-.94 2.06-2.06.94zm-11 1L8.5 8.5l.94-2.06 2.06-.94-2.06-.94L8.5 2.5l-.94 2.06-2.06.94zm10 10l.94 2.06.94-2.06 2.06-.94-2.06-.94-.94-2.06-.94 2.06-2.06.94z\"/><path d=\"M17.41 7.96l-1.37-1.37c-.4-.4-.92-.59-1.43-.59-.52 0-1.04.2-1.43.59L10.3 9.45l-7.72 7.72c-.78.78-.78 2.05 0 2.83L4 21.41c.39.39.9.59 1.41.59.51 0 1.02-.2 1.41-.59l7.78-7.78 2.81-2.81c.8-.78.8-2.07 0-2.86zM5.41 20L4 18.59l7.72-7.72 1.47 1.35L5.41 20z\"/>\n",
              "  </svg>\n",
              "      </button>\n",
              "      \n",
              "  <style>\n",
              "    .colab-df-container {\n",
              "      display:flex;\n",
              "      flex-wrap:wrap;\n",
              "      gap: 12px;\n",
              "    }\n",
              "\n",
              "    .colab-df-convert {\n",
              "      background-color: #E8F0FE;\n",
              "      border: none;\n",
              "      border-radius: 50%;\n",
              "      cursor: pointer;\n",
              "      display: none;\n",
              "      fill: #1967D2;\n",
              "      height: 32px;\n",
              "      padding: 0 0 0 0;\n",
              "      width: 32px;\n",
              "    }\n",
              "\n",
              "    .colab-df-convert:hover {\n",
              "      background-color: #E2EBFA;\n",
              "      box-shadow: 0px 1px 2px rgba(60, 64, 67, 0.3), 0px 1px 3px 1px rgba(60, 64, 67, 0.15);\n",
              "      fill: #174EA6;\n",
              "    }\n",
              "\n",
              "    [theme=dark] .colab-df-convert {\n",
              "      background-color: #3B4455;\n",
              "      fill: #D2E3FC;\n",
              "    }\n",
              "\n",
              "    [theme=dark] .colab-df-convert:hover {\n",
              "      background-color: #434B5C;\n",
              "      box-shadow: 0px 1px 3px 1px rgba(0, 0, 0, 0.15);\n",
              "      filter: drop-shadow(0px 1px 2px rgba(0, 0, 0, 0.3));\n",
              "      fill: #FFFFFF;\n",
              "    }\n",
              "  </style>\n",
              "\n",
              "      <script>\n",
              "        const buttonEl =\n",
              "          document.querySelector('#df-d41b957e-48d7-4be3-807a-0d22ced7b229 button.colab-df-convert');\n",
              "        buttonEl.style.display =\n",
              "          google.colab.kernel.accessAllowed ? 'block' : 'none';\n",
              "\n",
              "        async function convertToInteractive(key) {\n",
              "          const element = document.querySelector('#df-d41b957e-48d7-4be3-807a-0d22ced7b229');\n",
              "          const dataTable =\n",
              "            await google.colab.kernel.invokeFunction('convertToInteractive',\n",
              "                                                     [key], {});\n",
              "          if (!dataTable) return;\n",
              "\n",
              "          const docLinkHtml = 'Like what you see? Visit the ' +\n",
              "            '<a target=\"_blank\" href=https://colab.research.google.com/notebooks/data_table.ipynb>data table notebook</a>'\n",
              "            + ' to learn more about interactive tables.';\n",
              "          element.innerHTML = '';\n",
              "          dataTable['output_type'] = 'display_data';\n",
              "          await google.colab.output.renderOutput(dataTable, element);\n",
              "          const docLink = document.createElement('div');\n",
              "          docLink.innerHTML = docLinkHtml;\n",
              "          element.appendChild(docLink);\n",
              "        }\n",
              "      </script>\n",
              "    </div>\n",
              "  </div>\n",
              "  "
            ]
          },
          "metadata": {},
          "execution_count": 396
        }
      ]
    },
    {
      "cell_type": "code",
      "source": [
        "# Remove the decade of 2020 because it has only 1 year\n",
        "df_decade = df_years.drop(\"Year\", axis = 1)\n",
        "gb_decade = df_decade.groupby(by = \"Decade\").sum().reset_index()\n",
        "gb_decade = gb_decade.drop(4) \n",
        "gb_decade"
      ],
      "metadata": {
        "id": "QwU8VbQGDLOG",
        "colab": {
          "base_uri": "https://localhost:8080/"
        },
        "outputId": "3097a56d-1f6d-4888-9cfd-ab28230dbc57"
      },
      "id": "QwU8VbQGDLOG",
      "execution_count": null,
      "outputs": [
        {
          "output_type": "execute_result",
          "data": {
            "text/plain": [
              "   Decade  Publishers  Videogames    Sales\n",
              "0    1980          78         205   347.60\n",
              "1    1990         511        1769  1276.56\n",
              "2    2000        1071        9208  4613.31\n",
              "3    2010         673        5144  2516.34"
            ],
            "text/html": [
              "\n",
              "  <div id=\"df-2a4dbc90-60e8-4ecf-8b78-11e6135feee4\">\n",
              "    <div class=\"colab-df-container\">\n",
              "      <div>\n",
              "<style scoped>\n",
              "    .dataframe tbody tr th:only-of-type {\n",
              "        vertical-align: middle;\n",
              "    }\n",
              "\n",
              "    .dataframe tbody tr th {\n",
              "        vertical-align: top;\n",
              "    }\n",
              "\n",
              "    .dataframe thead th {\n",
              "        text-align: right;\n",
              "    }\n",
              "</style>\n",
              "<table border=\"1\" class=\"dataframe\">\n",
              "  <thead>\n",
              "    <tr style=\"text-align: right;\">\n",
              "      <th></th>\n",
              "      <th>Decade</th>\n",
              "      <th>Publishers</th>\n",
              "      <th>Videogames</th>\n",
              "      <th>Sales</th>\n",
              "    </tr>\n",
              "  </thead>\n",
              "  <tbody>\n",
              "    <tr>\n",
              "      <th>0</th>\n",
              "      <td>1980</td>\n",
              "      <td>78</td>\n",
              "      <td>205</td>\n",
              "      <td>347.60</td>\n",
              "    </tr>\n",
              "    <tr>\n",
              "      <th>1</th>\n",
              "      <td>1990</td>\n",
              "      <td>511</td>\n",
              "      <td>1769</td>\n",
              "      <td>1276.56</td>\n",
              "    </tr>\n",
              "    <tr>\n",
              "      <th>2</th>\n",
              "      <td>2000</td>\n",
              "      <td>1071</td>\n",
              "      <td>9208</td>\n",
              "      <td>4613.31</td>\n",
              "    </tr>\n",
              "    <tr>\n",
              "      <th>3</th>\n",
              "      <td>2010</td>\n",
              "      <td>673</td>\n",
              "      <td>5144</td>\n",
              "      <td>2516.34</td>\n",
              "    </tr>\n",
              "  </tbody>\n",
              "</table>\n",
              "</div>\n",
              "      <button class=\"colab-df-convert\" onclick=\"convertToInteractive('df-2a4dbc90-60e8-4ecf-8b78-11e6135feee4')\"\n",
              "              title=\"Convert this dataframe to an interactive table.\"\n",
              "              style=\"display:none;\">\n",
              "        \n",
              "  <svg xmlns=\"http://www.w3.org/2000/svg\" height=\"24px\"viewBox=\"0 0 24 24\"\n",
              "       width=\"24px\">\n",
              "    <path d=\"M0 0h24v24H0V0z\" fill=\"none\"/>\n",
              "    <path d=\"M18.56 5.44l.94 2.06.94-2.06 2.06-.94-2.06-.94-.94-2.06-.94 2.06-2.06.94zm-11 1L8.5 8.5l.94-2.06 2.06-.94-2.06-.94L8.5 2.5l-.94 2.06-2.06.94zm10 10l.94 2.06.94-2.06 2.06-.94-2.06-.94-.94-2.06-.94 2.06-2.06.94z\"/><path d=\"M17.41 7.96l-1.37-1.37c-.4-.4-.92-.59-1.43-.59-.52 0-1.04.2-1.43.59L10.3 9.45l-7.72 7.72c-.78.78-.78 2.05 0 2.83L4 21.41c.39.39.9.59 1.41.59.51 0 1.02-.2 1.41-.59l7.78-7.78 2.81-2.81c.8-.78.8-2.07 0-2.86zM5.41 20L4 18.59l7.72-7.72 1.47 1.35L5.41 20z\"/>\n",
              "  </svg>\n",
              "      </button>\n",
              "      \n",
              "  <style>\n",
              "    .colab-df-container {\n",
              "      display:flex;\n",
              "      flex-wrap:wrap;\n",
              "      gap: 12px;\n",
              "    }\n",
              "\n",
              "    .colab-df-convert {\n",
              "      background-color: #E8F0FE;\n",
              "      border: none;\n",
              "      border-radius: 50%;\n",
              "      cursor: pointer;\n",
              "      display: none;\n",
              "      fill: #1967D2;\n",
              "      height: 32px;\n",
              "      padding: 0 0 0 0;\n",
              "      width: 32px;\n",
              "    }\n",
              "\n",
              "    .colab-df-convert:hover {\n",
              "      background-color: #E2EBFA;\n",
              "      box-shadow: 0px 1px 2px rgba(60, 64, 67, 0.3), 0px 1px 3px 1px rgba(60, 64, 67, 0.15);\n",
              "      fill: #174EA6;\n",
              "    }\n",
              "\n",
              "    [theme=dark] .colab-df-convert {\n",
              "      background-color: #3B4455;\n",
              "      fill: #D2E3FC;\n",
              "    }\n",
              "\n",
              "    [theme=dark] .colab-df-convert:hover {\n",
              "      background-color: #434B5C;\n",
              "      box-shadow: 0px 1px 3px 1px rgba(0, 0, 0, 0.15);\n",
              "      filter: drop-shadow(0px 1px 2px rgba(0, 0, 0, 0.3));\n",
              "      fill: #FFFFFF;\n",
              "    }\n",
              "  </style>\n",
              "\n",
              "      <script>\n",
              "        const buttonEl =\n",
              "          document.querySelector('#df-2a4dbc90-60e8-4ecf-8b78-11e6135feee4 button.colab-df-convert');\n",
              "        buttonEl.style.display =\n",
              "          google.colab.kernel.accessAllowed ? 'block' : 'none';\n",
              "\n",
              "        async function convertToInteractive(key) {\n",
              "          const element = document.querySelector('#df-2a4dbc90-60e8-4ecf-8b78-11e6135feee4');\n",
              "          const dataTable =\n",
              "            await google.colab.kernel.invokeFunction('convertToInteractive',\n",
              "                                                     [key], {});\n",
              "          if (!dataTable) return;\n",
              "\n",
              "          const docLinkHtml = 'Like what you see? Visit the ' +\n",
              "            '<a target=\"_blank\" href=https://colab.research.google.com/notebooks/data_table.ipynb>data table notebook</a>'\n",
              "            + ' to learn more about interactive tables.';\n",
              "          element.innerHTML = '';\n",
              "          dataTable['output_type'] = 'display_data';\n",
              "          await google.colab.output.renderOutput(dataTable, element);\n",
              "          const docLink = document.createElement('div');\n",
              "          docLink.innerHTML = docLinkHtml;\n",
              "          element.appendChild(docLink);\n",
              "        }\n",
              "      </script>\n",
              "    </div>\n",
              "  </div>\n",
              "  "
            ]
          },
          "metadata": {},
          "execution_count": 397
        }
      ]
    },
    {
      "cell_type": "code",
      "source": [
        "fig_dims = (18,12)\n",
        "fig, ax = plt.subplots(figsize = fig_dims)\n",
        "ax.set(xlabel = 'Decade', ylabel = 'Number')\n",
        "sns.barplot(x='Decade', y='value', hue='variable', data=pd.melt(gb_decade, ['Decade'])).set(title = 'Publishers, videogames and sales over the decades')"
      ],
      "metadata": {
        "id": "UF2LmehoFDWn",
        "colab": {
          "base_uri": "https://localhost:8080/",
          "height": 211
        },
        "outputId": "f9ea18bf-1a14-428b-cb25-6c0b571df5dc"
      },
      "id": "UF2LmehoFDWn",
      "execution_count": null,
      "outputs": [
        {
          "output_type": "execute_result",
          "data": {
            "text/plain": [
              "[Text(0.5, 1.0, 'Publishers, videogames and sales over the decades')]"
            ]
          },
          "metadata": {},
          "execution_count": 398
        },
        {
          "output_type": "display_data",
          "data": {
            "text/plain": [
              "<Figure size 1296x864 with 1 Axes>"
            ],
            "image/png": "[encoded data removed]"
          },
          "metadata": {
            "needs_background": "light"
          }
        }
      ]
    },
    {
      "cell_type": "markdown",
      "source": [
        "When we arrange the data by decades instead of years we obtain the same kind of information. The decade of 2000 has the highest values, since it's the decade that contains both 2006 and 2009."
      ],
      "metadata": {
        "id": "mBw8H5rh4MEU"
      },
      "id": "mBw8H5rh4MEU"
    },
    {
      "cell_type": "markdown",
      "source": [
        "8. Which one is the genre with more sales for each publisher?"
      ],
      "metadata": {
        "id": "x2HOuWdc2KCM"
      },
      "id": "x2HOuWdc2KCM"
    },
    {
      "cell_type": "code",
      "source": [
        "# Filter by publisher, genre and global sales and groupby by publisher and genre\n",
        "df_genres = df[(df[\"Genre\"] != \"no genre\") & (df[\"Publisher\"] != \"no publisher\")]\n",
        "df_genres = df_genres.filter(items = [\"Publisher\",\"Genre\",\"Global_Sales\"])\n",
        "gb_genres = df_genres.groupby(by = [\"Publisher\",\"Genre\"]).sum().reset_index()\n",
        "\n",
        "# Create a new data set with the genre of each publisher with the most sales\n",
        "df_genre = pd.DataFrame(columns = [\"Publisher\",\"Genre\",\"Sales\"])\n",
        "for i in gb_genres[\"Publisher\"].unique():\n",
        "  genre = gb_genres[gb_genres[\"Publisher\"]==i].sort_values(\"Global_Sales\",ascending=False)[\"Genre\"].iloc[0]\n",
        "  sales = gb_genres[gb_genres[\"Publisher\"]==i][\"Global_Sales\"].max()\n",
        "  df_genre = df_genre.append({\"Publisher\":i,\"Genre\":genre,\"Sales\":sales}, ignore_index = True)\n",
        "df_genre.sort_values(\"Sales\", inplace = True, ascending = False)\n",
        "df_genre\n"
      ],
      "metadata": {
        "id": "VnLAlXla5Upm",
        "colab": {
          "base_uri": "https://localhost:8080/",
          "height": 424
        },
        "outputId": "85d918ef-511f-4d98-a5bb-8d6ac53eda31"
      },
      "id": "VnLAlXla5Upm",
      "execution_count": null,
      "outputs": [
        {
          "output_type": "execute_result",
          "data": {
            "text/plain": [
              "                     Publisher       Genre   Sales\n",
              "138            Electronic Arts      Sports  478.83\n",
              "354                   Nintendo    Platform  427.21\n",
              "21                  Activision     Shooter  299.87\n",
              "484       Take-Two Interactive      Action  190.02\n",
              "514                    Ubisoft      Action  142.52\n",
              "..                         ...         ...     ...\n",
              "513          UIG Entertainment  Simulation    0.01\n",
              "459            Stainless Games      Action    0.01\n",
              "132  EON Digital Entertainment    Strategy    0.01\n",
              "485                     Takuyo   Adventure    0.01\n",
              "191                Genterprise      Puzzle    0.01\n",
              "\n",
              "[566 rows x 3 columns]"
            ],
            "text/html": [
              "\n",
              "  <div id=\"df-4c3fd371-c51b-425b-b0a4-ca10ac5f0b36\">\n",
              "    <div class=\"colab-df-container\">\n",
              "      <div>\n",
              "<style scoped>\n",
              "    .dataframe tbody tr th:only-of-type {\n",
              "        vertical-align: middle;\n",
              "    }\n",
              "\n",
              "    .dataframe tbody tr th {\n",
              "        vertical-align: top;\n",
              "    }\n",
              "\n",
              "    .dataframe thead th {\n",
              "        text-align: right;\n",
              "    }\n",
              "</style>\n",
              "<table border=\"1\" class=\"dataframe\">\n",
              "  <thead>\n",
              "    <tr style=\"text-align: right;\">\n",
              "      <th></th>\n",
              "      <th>Publisher</th>\n",
              "      <th>Genre</th>\n",
              "      <th>Sales</th>\n",
              "    </tr>\n",
              "  </thead>\n",
              "  <tbody>\n",
              "    <tr>\n",
              "      <th>138</th>\n",
              "      <td>Electronic Arts</td>\n",
              "      <td>Sports</td>\n",
              "      <td>478.83</td>\n",
              "    </tr>\n",
              "    <tr>\n",
              "      <th>354</th>\n",
              "      <td>Nintendo</td>\n",
              "      <td>Platform</td>\n",
              "      <td>427.21</td>\n",
              "    </tr>\n",
              "    <tr>\n",
              "      <th>21</th>\n",
              "      <td>Activision</td>\n",
              "      <td>Shooter</td>\n",
              "      <td>299.87</td>\n",
              "    </tr>\n",
              "    <tr>\n",
              "      <th>484</th>\n",
              "      <td>Take-Two Interactive</td>\n",
              "      <td>Action</td>\n",
              "      <td>190.02</td>\n",
              "    </tr>\n",
              "    <tr>\n",
              "      <th>514</th>\n",
              "      <td>Ubisoft</td>\n",
              "      <td>Action</td>\n",
              "      <td>142.52</td>\n",
              "    </tr>\n",
              "    <tr>\n",
              "      <th>...</th>\n",
              "      <td>...</td>\n",
              "      <td>...</td>\n",
              "      <td>...</td>\n",
              "    </tr>\n",
              "    <tr>\n",
              "      <th>513</th>\n",
              "      <td>UIG Entertainment</td>\n",
              "      <td>Simulation</td>\n",
              "      <td>0.01</td>\n",
              "    </tr>\n",
              "    <tr>\n",
              "      <th>459</th>\n",
              "      <td>Stainless Games</td>\n",
              "      <td>Action</td>\n",
              "      <td>0.01</td>\n",
              "    </tr>\n",
              "    <tr>\n",
              "      <th>132</th>\n",
              "      <td>EON Digital Entertainment</td>\n",
              "      <td>Strategy</td>\n",
              "      <td>0.01</td>\n",
              "    </tr>\n",
              "    <tr>\n",
              "      <th>485</th>\n",
              "      <td>Takuyo</td>\n",
              "      <td>Adventure</td>\n",
              "      <td>0.01</td>\n",
              "    </tr>\n",
              "    <tr>\n",
              "      <th>191</th>\n",
              "      <td>Genterprise</td>\n",
              "      <td>Puzzle</td>\n",
              "      <td>0.01</td>\n",
              "    </tr>\n",
              "  </tbody>\n",
              "</table>\n",
              "<p>566 rows × 3 columns</p>\n",
              "</div>\n",
              "      <button class=\"colab-df-convert\" onclick=\"convertToInteractive('df-4c3fd371-c51b-425b-b0a4-ca10ac5f0b36')\"\n",
              "              title=\"Convert this dataframe to an interactive table.\"\n",
              "              style=\"display:none;\">\n",
              "        \n",
              "  <svg xmlns=\"http://www.w3.org/2000/svg\" height=\"24px\"viewBox=\"0 0 24 24\"\n",
              "       width=\"24px\">\n",
              "    <path d=\"M0 0h24v24H0V0z\" fill=\"none\"/>\n",
              "    <path d=\"M18.56 5.44l.94 2.06.94-2.06 2.06-.94-2.06-.94-.94-2.06-.94 2.06-2.06.94zm-11 1L8.5 8.5l.94-2.06 2.06-.94-2.06-.94L8.5 2.5l-.94 2.06-2.06.94zm10 10l.94 2.06.94-2.06 2.06-.94-2.06-.94-.94-2.06-.94 2.06-2.06.94z\"/><path d=\"M17.41 7.96l-1.37-1.37c-.4-.4-.92-.59-1.43-.59-.52 0-1.04.2-1.43.59L10.3 9.45l-7.72 7.72c-.78.78-.78 2.05 0 2.83L4 21.41c.39.39.9.59 1.41.59.51 0 1.02-.2 1.41-.59l7.78-7.78 2.81-2.81c.8-.78.8-2.07 0-2.86zM5.41 20L4 18.59l7.72-7.72 1.47 1.35L5.41 20z\"/>\n",
              "  </svg>\n",
              "      </button>\n",
              "      \n",
              "  <style>\n",
              "    .colab-df-container {\n",
              "      display:flex;\n",
              "      flex-wrap:wrap;\n",
              "      gap: 12px;\n",
              "    }\n",
              "\n",
              "    .colab-df-convert {\n",
              "      background-color: #E8F0FE;\n",
              "      border: none;\n",
              "      border-radius: 50%;\n",
              "      cursor: pointer;\n",
              "      display: none;\n",
              "      fill: #1967D2;\n",
              "      height: 32px;\n",
              "      padding: 0 0 0 0;\n",
              "      width: 32px;\n",
              "    }\n",
              "\n",
              "    .colab-df-convert:hover {\n",
              "      background-color: #E2EBFA;\n",
              "      box-shadow: 0px 1px 2px rgba(60, 64, 67, 0.3), 0px 1px 3px 1px rgba(60, 64, 67, 0.15);\n",
              "      fill: #174EA6;\n",
              "    }\n",
              "\n",
              "    [theme=dark] .colab-df-convert {\n",
              "      background-color: #3B4455;\n",
              "      fill: #D2E3FC;\n",
              "    }\n",
              "\n",
              "    [theme=dark] .colab-df-convert:hover {\n",
              "      background-color: #434B5C;\n",
              "      box-shadow: 0px 1px 3px 1px rgba(0, 0, 0, 0.15);\n",
              "      filter: drop-shadow(0px 1px 2px rgba(0, 0, 0, 0.3));\n",
              "      fill: #FFFFFF;\n",
              "    }\n",
              "  </style>\n",
              "\n",
              "      <script>\n",
              "        const buttonEl =\n",
              "          document.querySelector('#df-4c3fd371-c51b-425b-b0a4-ca10ac5f0b36 button.colab-df-convert');\n",
              "        buttonEl.style.display =\n",
              "          google.colab.kernel.accessAllowed ? 'block' : 'none';\n",
              "\n",
              "        async function convertToInteractive(key) {\n",
              "          const element = document.querySelector('#df-4c3fd371-c51b-425b-b0a4-ca10ac5f0b36');\n",
              "          const dataTable =\n",
              "            await google.colab.kernel.invokeFunction('convertToInteractive',\n",
              "                                                     [key], {});\n",
              "          if (!dataTable) return;\n",
              "\n",
              "          const docLinkHtml = 'Like what you see? Visit the ' +\n",
              "            '<a target=\"_blank\" href=https://colab.research.google.com/notebooks/data_table.ipynb>data table notebook</a>'\n",
              "            + ' to learn more about interactive tables.';\n",
              "          element.innerHTML = '';\n",
              "          dataTable['output_type'] = 'display_data';\n",
              "          await google.colab.output.renderOutput(dataTable, element);\n",
              "          const docLink = document.createElement('div');\n",
              "          docLink.innerHTML = docLinkHtml;\n",
              "          element.appendChild(docLink);\n",
              "        }\n",
              "      </script>\n",
              "    </div>\n",
              "  </div>\n",
              "  "
            ]
          },
          "metadata": {},
          "execution_count": 399
        }
      ]
    },
    {
      "cell_type": "markdown",
      "source": [
        "9. Which ones are the platforms with more sales?"
      ],
      "metadata": {
        "id": "gaDUDQgOH4sx"
      },
      "id": "gaDUDQgOH4sx"
    },
    {
      "cell_type": "code",
      "source": [
        "# Group by by platform and sort by gobal sales.\n",
        "df_platform = df.filter(items = [\"Platform\",\"Global_Sales\"])\n",
        "df_platform = df_platform[df_platform[\"Platform\"] != \"no platform\"]\n",
        "gb_platform = df_platform.groupby(by = \"Platform\").sum().reset_index()\n",
        "gb_platform.sort_values(by = \"Global_Sales\", inplace = True, ascending = False)\n",
        "gb_platform.head()"
      ],
      "metadata": {
        "id": "-767VbFxKBVB",
        "colab": {
          "base_uri": "https://localhost:8080/",
          "height": 206
        },
        "outputId": "c42344bc-a789-484b-98a9-f92a12eefaab"
      },
      "id": "-767VbFxKBVB",
      "execution_count": null,
      "outputs": [
        {
          "output_type": "execute_result",
          "data": {
            "text/plain": [
              "   Platform  Global_Sales\n",
              "16      PS2       1232.47\n",
              "17      PS3        956.57\n",
              "26      Wii        925.01\n",
              "28     X360        888.14\n",
              "4        DS        821.64"
            ],
            "text/html": [
              "\n",
              "  <div id=\"df-b77add95-1c79-435b-90c0-dfb285060a27\">\n",
              "    <div class=\"colab-df-container\">\n",
              "      <div>\n",
              "<style scoped>\n",
              "    .dataframe tbody tr th:only-of-type {\n",
              "        vertical-align: middle;\n",
              "    }\n",
              "\n",
              "    .dataframe tbody tr th {\n",
              "        vertical-align: top;\n",
              "    }\n",
              "\n",
              "    .dataframe thead th {\n",
              "        text-align: right;\n",
              "    }\n",
              "</style>\n",
              "<table border=\"1\" class=\"dataframe\">\n",
              "  <thead>\n",
              "    <tr style=\"text-align: right;\">\n",
              "      <th></th>\n",
              "      <th>Platform</th>\n",
              "      <th>Global_Sales</th>\n",
              "    </tr>\n",
              "  </thead>\n",
              "  <tbody>\n",
              "    <tr>\n",
              "      <th>16</th>\n",
              "      <td>PS2</td>\n",
              "      <td>1232.47</td>\n",
              "    </tr>\n",
              "    <tr>\n",
              "      <th>17</th>\n",
              "      <td>PS3</td>\n",
              "      <td>956.57</td>\n",
              "    </tr>\n",
              "    <tr>\n",
              "      <th>26</th>\n",
              "      <td>Wii</td>\n",
              "      <td>925.01</td>\n",
              "    </tr>\n",
              "    <tr>\n",
              "      <th>28</th>\n",
              "      <td>X360</td>\n",
              "      <td>888.14</td>\n",
              "    </tr>\n",
              "    <tr>\n",
              "      <th>4</th>\n",
              "      <td>DS</td>\n",
              "      <td>821.64</td>\n",
              "    </tr>\n",
              "  </tbody>\n",
              "</table>\n",
              "</div>\n",
              "      <button class=\"colab-df-convert\" onclick=\"convertToInteractive('df-b77add95-1c79-435b-90c0-dfb285060a27')\"\n",
              "              title=\"Convert this dataframe to an interactive table.\"\n",
              "              style=\"display:none;\">\n",
              "        \n",
              "  <svg xmlns=\"http://www.w3.org/2000/svg\" height=\"24px\"viewBox=\"0 0 24 24\"\n",
              "       width=\"24px\">\n",
              "    <path d=\"M0 0h24v24H0V0z\" fill=\"none\"/>\n",
              "    <path d=\"M18.56 5.44l.94 2.06.94-2.06 2.06-.94-2.06-.94-.94-2.06-.94 2.06-2.06.94zm-11 1L8.5 8.5l.94-2.06 2.06-.94-2.06-.94L8.5 2.5l-.94 2.06-2.06.94zm10 10l.94 2.06.94-2.06 2.06-.94-2.06-.94-.94-2.06-.94 2.06-2.06.94z\"/><path d=\"M17.41 7.96l-1.37-1.37c-.4-.4-.92-.59-1.43-.59-.52 0-1.04.2-1.43.59L10.3 9.45l-7.72 7.72c-.78.78-.78 2.05 0 2.83L4 21.41c.39.39.9.59 1.41.59.51 0 1.02-.2 1.41-.59l7.78-7.78 2.81-2.81c.8-.78.8-2.07 0-2.86zM5.41 20L4 18.59l7.72-7.72 1.47 1.35L5.41 20z\"/>\n",
              "  </svg>\n",
              "      </button>\n",
              "      \n",
              "  <style>\n",
              "    .colab-df-container {\n",
              "      display:flex;\n",
              "      flex-wrap:wrap;\n",
              "      gap: 12px;\n",
              "    }\n",
              "\n",
              "    .colab-df-convert {\n",
              "      background-color: #E8F0FE;\n",
              "      border: none;\n",
              "      border-radius: 50%;\n",
              "      cursor: pointer;\n",
              "      display: none;\n",
              "      fill: #1967D2;\n",
              "      height: 32px;\n",
              "      padding: 0 0 0 0;\n",
              "      width: 32px;\n",
              "    }\n",
              "\n",
              "    .colab-df-convert:hover {\n",
              "      background-color: #E2EBFA;\n",
              "      box-shadow: 0px 1px 2px rgba(60, 64, 67, 0.3), 0px 1px 3px 1px rgba(60, 64, 67, 0.15);\n",
              "      fill: #174EA6;\n",
              "    }\n",
              "\n",
              "    [theme=dark] .colab-df-convert {\n",
              "      background-color: #3B4455;\n",
              "      fill: #D2E3FC;\n",
              "    }\n",
              "\n",
              "    [theme=dark] .colab-df-convert:hover {\n",
              "      background-color: #434B5C;\n",
              "      box-shadow: 0px 1px 3px 1px rgba(0, 0, 0, 0.15);\n",
              "      filter: drop-shadow(0px 1px 2px rgba(0, 0, 0, 0.3));\n",
              "      fill: #FFFFFF;\n",
              "    }\n",
              "  </style>\n",
              "\n",
              "      <script>\n",
              "        const buttonEl =\n",
              "          document.querySelector('#df-b77add95-1c79-435b-90c0-dfb285060a27 button.colab-df-convert');\n",
              "        buttonEl.style.display =\n",
              "          google.colab.kernel.accessAllowed ? 'block' : 'none';\n",
              "\n",
              "        async function convertToInteractive(key) {\n",
              "          const element = document.querySelector('#df-b77add95-1c79-435b-90c0-dfb285060a27');\n",
              "          const dataTable =\n",
              "            await google.colab.kernel.invokeFunction('convertToInteractive',\n",
              "                                                     [key], {});\n",
              "          if (!dataTable) return;\n",
              "\n",
              "          const docLinkHtml = 'Like what you see? Visit the ' +\n",
              "            '<a target=\"_blank\" href=https://colab.research.google.com/notebooks/data_table.ipynb>data table notebook</a>'\n",
              "            + ' to learn more about interactive tables.';\n",
              "          element.innerHTML = '';\n",
              "          dataTable['output_type'] = 'display_data';\n",
              "          await google.colab.output.renderOutput(dataTable, element);\n",
              "          const docLink = document.createElement('div');\n",
              "          docLink.innerHTML = docLinkHtml;\n",
              "          element.appendChild(docLink);\n",
              "        }\n",
              "      </script>\n",
              "    </div>\n",
              "  </div>\n",
              "  "
            ]
          },
          "metadata": {},
          "execution_count": 400
        }
      ]
    },
    {
      "cell_type": "markdown",
      "source": [
        "The five platforms that had more sales were all published in the 2000 decade. Surprisingly, the two platforms with more sales were PS2 and PS3, none of them are Nintendo's. "
      ],
      "metadata": {
        "id": "bFwi9JvKTBXJ"
      },
      "id": "bFwi9JvKTBXJ"
    },
    {
      "cell_type": "markdown",
      "source": [
        "10. Between Mario, Zelda and Pokemon, which one of these sagas has sold the most and published more videogames?"
      ],
      "metadata": {
        "id": "8BthQvFsH-wB"
      },
      "id": "8BthQvFsH-wB"
    },
    {
      "cell_type": "code",
      "source": [
        "# Filter by games that contain \"Mario\", then sum their global sales and count the number of videogames.\n",
        "mario_sales = 0\n",
        "df_mario = df[df[\"Name\"].str.contains(\"Mario \")]\n",
        "for i in range(df_mario.shape[0]):\n",
        "  mario_sales += df_mario.iloc[i][9]\n",
        "print(f\"The Mario saga has published {df_mario.shape[0]} videogames and sold {mario_sales}. The ratio is {mario_sales/df_mario.shape[0]}\")"
      ],
      "metadata": {
        "id": "vkYAKdx-Ngiq",
        "colab": {
          "base_uri": "https://localhost:8080/"
        },
        "outputId": "9b6f3cb7-f9c2-45ad-c5c3-0e0cb7d802de"
      },
      "id": "vkYAKdx-Ngiq",
      "execution_count": null,
      "outputs": [
        {
          "output_type": "stream",
          "name": "stdout",
          "text": [
            "The Mario saga has published 104 videogames and sold 534.2. The ratio is 5.136538461538462\n"
          ]
        }
      ]
    },
    {
      "cell_type": "code",
      "source": [
        "# Filter by games that contain \"Zelda\", then sum their global sales and count the number of videogames.\n",
        "zelda_sales = 0\n",
        "df_zelda = df[df[\"Name\"].str.contains(\"Zelda\")]\n",
        "for i in range(df_zelda.shape[0]):\n",
        "  zelda_sales += df_zelda.iloc[i][9]\n",
        "print(f\"The Zelda saga has published {df_zelda.shape[0]} videogames and sold {zelda_sales}. The ratio is {zelda_sales/df_zelda.shape[0]}\")"
      ],
      "metadata": {
        "id": "qACgBMUeSXfa",
        "colab": {
          "base_uri": "https://localhost:8080/"
        },
        "outputId": "8656d4ae-84c9-4ce8-9015-9139af7207fa"
      },
      "id": "qACgBMUeSXfa",
      "execution_count": null,
      "outputs": [
        {
          "output_type": "stream",
          "name": "stdout",
          "text": [
            "The Zelda saga has published 27 videogames and sold 82.64. The ratio is 3.0607407407407408\n"
          ]
        }
      ]
    },
    {
      "cell_type": "code",
      "source": [
        "# Filter by games that contain \"Pokemon\", then sum their global sales and count the number of videogames.\n",
        "pokemon_sales = 0\n",
        "df_pokemon = df[df[\"Name\"].str.contains(\"Pokemon\")]\n",
        "for i in range(df_pokemon.shape[0]):\n",
        "  pokemon_sales += df_pokemon.iloc[i][9]\n",
        "print(f\"The Pokemon saga has published {df_pokemon.shape[0]} videogames and sold {pokemon_sales}. The ratio is {pokemon_sales/df_pokemon.shape[0]}\")"
      ],
      "metadata": {
        "id": "HkIQ2bzTSixn",
        "colab": {
          "base_uri": "https://localhost:8080/"
        },
        "outputId": "0140f907-1eae-4c98-b9e3-711fcda4f1fb"
      },
      "id": "HkIQ2bzTSixn",
      "execution_count": null,
      "outputs": [
        {
          "output_type": "stream",
          "name": "stdout",
          "text": [
            "The Pokemon saga has published 35 videogames and sold 202.08000000000007. The ratio is 5.773714285714288\n"
          ]
        }
      ]
    },
    {
      "cell_type": "markdown",
      "source": [
        "Mario is by far the saga with most sales. After that, comes Pokemon and last Zelda. If we take a look at the ratios sales/videogames, Pokemon holds the highest rate, being a bit higher than Mario's."
      ],
      "metadata": {
        "id": "Tm631CAGYhUi"
      },
      "id": "Tm631CAGYhUi"
    },
    {
      "cell_type": "markdown",
      "id": "f46392ac",
      "metadata": {
        "id": "f46392ac"
      },
      "source": [
        "<a id='conclusions'></a>\n",
        "## Conclusions\n",
        "\n",
        "Let's summarize the findings and the results of the analysis."
      ]
    },
    {
      "cell_type": "markdown",
      "source": [
        "1. The videogames with more sales in each region are Wii Sports for NA and Europe, Pokemon Red/Blue for Japan and GTA: San Andreas for Others.\n",
        "2. The publishers with more sales are Nintendo, Electronic Arts, Activision, Sony Computer Entertainment and Ubisoft.\n",
        "3. We see two big peaks in nintendo around 2005 and 2010. All of the publishers have their maximums in the decade of 2000. After 2012 all of them rapidly decrease.\n",
        "4. Those two Nintendo peaks were on 2006 and 2009.\n",
        "5. The peak on 2006, which is the big one, is due to the publication of Nintendo Wii and Wii sports. The second peak is due to Nintendo Wii Sports Resort.\n",
        "6. We see that, like the sales of the different publishers, we have the maximum in videogames publishes ad publishers in the 2000 decade. After 2012, all of them rapidly decrease. This may be due to the uncomplete data (there is no Nintendo Switch, for instance) and there is no \"Smartphone\" on platforms. Nowadays there are tons of videogames for smartphones.\n",
        "7. If we group the data by decades, we obtain the same information that for years.\n",
        "8. For EA the most profitable genre is sports. For Nintendo is Platform, for Activision shooters. These are the three main publishers.\n",
        "9. The five platforms that had more sales were all published in the 2000 decade. Surprisingly, the two platforms with more sales were PS2 and PS3, none of them are Nintendo's. \n",
        "10. Mario is by far the saga with most sales. After that, comes Pokemon and last Zelda. If we take a look at the ratios sales/videogames, Pokemon holds the highest rate, being a bit higher than Mario's."
      ],
      "metadata": {
        "id": "G-4YTEGbcivW"
      },
      "id": "G-4YTEGbcivW"
    },
    {
      "cell_type": "code",
      "execution_count": null,
      "id": "3cb97624",
      "metadata": {
        "id": "3cb97624"
      },
      "outputs": [],
      "source": []
    },
    {
      "cell_type": "markdown",
      "id": "2c09a1a5",
      "metadata": {
        "id": "2c09a1a5"
      },
      "source": [
        "## Bibliography\n",
        "- Title Document 1: URL\n",
        "- Title Document 2: URL\n",
        "- Title Document 3: URL"
      ]
    }
  ],
  "metadata": {
    "kernelspec": {
      "display_name": "Python 3 (ipykernel)",
      "language": "python",
      "name": "python3"
    },
    "language_info": {
      "codemirror_mode": {
        "name": "ipython",
        "version": 3
      },
      "file_extension": ".py",
      "mimetype": "text/x-python",
      "name": "python",
      "nbconvert_exporter": "python",
      "pygments_lexer": "ipython3",
      "version": "3.9.5"
    },
    "colab": {
      "provenance": []
    }
  },
  "nbformat": 4,
  "nbformat_minor": 5
}